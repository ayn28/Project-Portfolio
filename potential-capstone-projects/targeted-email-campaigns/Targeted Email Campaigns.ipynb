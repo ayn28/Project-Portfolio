{
 "cells": [
  {
   "cell_type": "markdown",
   "metadata": {},
   "source": [
    "# Targeted Marketing Email Campaigns"
   ]
  },
  {
   "cell_type": "markdown",
   "metadata": {},
   "source": [
    "Make clear what question you're trying to address.\n",
    "<br>Make the Goal statement the first thing that the reader sees; make it as explicit as possible and easy to understand as possible."
   ]
  },
  {
   "cell_type": "markdown",
   "metadata": {},
   "source": [
    "Consider textually opening up your project with the following 4 elements."
   ]
  },
  {
   "cell_type": "markdown",
   "metadata": {},
   "source": [
    "Introduction\n",
    "<br>Methods\n",
    "<br>Results\n",
    "<br>Conclusions"
   ]
  },
  {
   "cell_type": "markdown",
   "metadata": {},
   "source": [
    "IMAC (acronym for organizing data science presentations)\n",
    "<br>I - inferential goal (scientific question of interest)\n",
    "<br>M - model (all models are wrong, some are useful)\n",
    "<br>A - algorithms\n",
    "<br>C - conclusions and checking"
   ]
  },
  {
   "cell_type": "markdown",
   "metadata": {},
   "source": [
    "***"
   ]
  },
  {
   "cell_type": "markdown",
   "metadata": {},
   "source": [
    "### Import libraries"
   ]
  },
  {
   "cell_type": "code",
   "execution_count": 1,
   "metadata": {},
   "outputs": [],
   "source": [
    "#Import statements\n",
    "import pandas as pd\n",
    "import numpy as np\n",
    "import seaborn as sns\n",
    "import matplotlib.pyplot as plt\n",
    "%matplotlib inline"
   ]
  },
  {
   "cell_type": "markdown",
   "metadata": {},
   "source": [
    "### Data"
   ]
  },
  {
   "cell_type": "code",
   "execution_count": 2,
   "metadata": {},
   "outputs": [],
   "source": [
    "#Load dataset into pandas DataFrame.\n",
    "email = pd.read_csv('Train_psolI3n.csv')"
   ]
  },
  {
   "cell_type": "code",
   "execution_count": 3,
   "metadata": {},
   "outputs": [
    {
     "data": {
      "text/plain": [
       "(68353, 12)"
      ]
     },
     "execution_count": 3,
     "metadata": {},
     "output_type": "execute_result"
    }
   ],
   "source": [
    "email.shape"
   ]
  },
  {
   "cell_type": "code",
   "execution_count": 4,
   "metadata": {},
   "outputs": [
    {
     "name": "stdout",
     "output_type": "stream",
     "text": [
      "<class 'pandas.core.frame.DataFrame'>\n",
      "RangeIndex: 68353 entries, 0 to 68352\n",
      "Data columns (total 12 columns):\n",
      "Email_ID                     68353 non-null object\n",
      "Email_Type                   68353 non-null int64\n",
      "Subject_Hotness_Score        68353 non-null float64\n",
      "Email_Source_Type            68353 non-null int64\n",
      "Customer_Location            56758 non-null object\n",
      "Email_Campaign_Type          68353 non-null int64\n",
      "Total_Past_Communications    61528 non-null float64\n",
      "Time_Email_sent_Category     68353 non-null int64\n",
      "Word_Count                   68353 non-null int64\n",
      "Total_Links                  66152 non-null float64\n",
      "Total_Images                 66676 non-null float64\n",
      "Email_Status                 68353 non-null int64\n",
      "dtypes: float64(4), int64(6), object(2)\n",
      "memory usage: 6.3+ MB\n"
     ]
    }
   ],
   "source": [
    "email.info()"
   ]
  },
  {
   "cell_type": "code",
   "execution_count": 7,
   "metadata": {
    "scrolled": false
   },
   "outputs": [
    {
     "data": {
      "text/html": [
       "<div>\n",
       "<style scoped>\n",
       "    .dataframe tbody tr th:only-of-type {\n",
       "        vertical-align: middle;\n",
       "    }\n",
       "\n",
       "    .dataframe tbody tr th {\n",
       "        vertical-align: top;\n",
       "    }\n",
       "\n",
       "    .dataframe thead th {\n",
       "        text-align: right;\n",
       "    }\n",
       "</style>\n",
       "<table border=\"1\" class=\"dataframe\">\n",
       "  <thead>\n",
       "    <tr style=\"text-align: right;\">\n",
       "      <th></th>\n",
       "      <th>Email_ID</th>\n",
       "      <th>Email_Type</th>\n",
       "      <th>Subject_Hotness_Score</th>\n",
       "      <th>Email_Source_Type</th>\n",
       "      <th>Customer_Location</th>\n",
       "      <th>Email_Campaign_Type</th>\n",
       "      <th>Total_Past_Communications</th>\n",
       "      <th>Time_Email_sent_Category</th>\n",
       "      <th>Word_Count</th>\n",
       "      <th>Total_Links</th>\n",
       "      <th>Total_Images</th>\n",
       "      <th>Email_Status</th>\n",
       "    </tr>\n",
       "  </thead>\n",
       "  <tbody>\n",
       "    <tr>\n",
       "      <th>0</th>\n",
       "      <td>EMA00081000034500</td>\n",
       "      <td>1</td>\n",
       "      <td>2.2</td>\n",
       "      <td>2</td>\n",
       "      <td>E</td>\n",
       "      <td>2</td>\n",
       "      <td>33.0</td>\n",
       "      <td>1</td>\n",
       "      <td>440</td>\n",
       "      <td>8.0</td>\n",
       "      <td>0.0</td>\n",
       "      <td>0</td>\n",
       "    </tr>\n",
       "    <tr>\n",
       "      <th>1</th>\n",
       "      <td>EMA00081000045360</td>\n",
       "      <td>2</td>\n",
       "      <td>2.1</td>\n",
       "      <td>1</td>\n",
       "      <td>NaN</td>\n",
       "      <td>2</td>\n",
       "      <td>15.0</td>\n",
       "      <td>2</td>\n",
       "      <td>504</td>\n",
       "      <td>5.0</td>\n",
       "      <td>0.0</td>\n",
       "      <td>0</td>\n",
       "    </tr>\n",
       "    <tr>\n",
       "      <th>2</th>\n",
       "      <td>EMA00081000066290</td>\n",
       "      <td>2</td>\n",
       "      <td>0.1</td>\n",
       "      <td>1</td>\n",
       "      <td>B</td>\n",
       "      <td>3</td>\n",
       "      <td>36.0</td>\n",
       "      <td>2</td>\n",
       "      <td>962</td>\n",
       "      <td>5.0</td>\n",
       "      <td>0.0</td>\n",
       "      <td>1</td>\n",
       "    </tr>\n",
       "    <tr>\n",
       "      <th>3</th>\n",
       "      <td>EMA00081000076560</td>\n",
       "      <td>1</td>\n",
       "      <td>3.0</td>\n",
       "      <td>2</td>\n",
       "      <td>E</td>\n",
       "      <td>2</td>\n",
       "      <td>25.0</td>\n",
       "      <td>2</td>\n",
       "      <td>610</td>\n",
       "      <td>16.0</td>\n",
       "      <td>0.0</td>\n",
       "      <td>0</td>\n",
       "    </tr>\n",
       "    <tr>\n",
       "      <th>4</th>\n",
       "      <td>EMA00081000109720</td>\n",
       "      <td>1</td>\n",
       "      <td>0.0</td>\n",
       "      <td>2</td>\n",
       "      <td>C</td>\n",
       "      <td>3</td>\n",
       "      <td>18.0</td>\n",
       "      <td>2</td>\n",
       "      <td>947</td>\n",
       "      <td>4.0</td>\n",
       "      <td>0.0</td>\n",
       "      <td>0</td>\n",
       "    </tr>\n",
       "  </tbody>\n",
       "</table>\n",
       "</div>"
      ],
      "text/plain": [
       "            Email_ID  Email_Type  Subject_Hotness_Score  Email_Source_Type  \\\n",
       "0  EMA00081000034500           1                    2.2                  2   \n",
       "1  EMA00081000045360           2                    2.1                  1   \n",
       "2  EMA00081000066290           2                    0.1                  1   \n",
       "3  EMA00081000076560           1                    3.0                  2   \n",
       "4  EMA00081000109720           1                    0.0                  2   \n",
       "\n",
       "  Customer_Location  Email_Campaign_Type  Total_Past_Communications  \\\n",
       "0                 E                    2                       33.0   \n",
       "1               NaN                    2                       15.0   \n",
       "2                 B                    3                       36.0   \n",
       "3                 E                    2                       25.0   \n",
       "4                 C                    3                       18.0   \n",
       "\n",
       "   Time_Email_sent_Category  Word_Count  Total_Links  Total_Images  \\\n",
       "0                         1         440          8.0           0.0   \n",
       "1                         2         504          5.0           0.0   \n",
       "2                         2         962          5.0           0.0   \n",
       "3                         2         610         16.0           0.0   \n",
       "4                         2         947          4.0           0.0   \n",
       "\n",
       "   Email_Status  \n",
       "0             0  \n",
       "1             0  \n",
       "2             1  \n",
       "3             0  \n",
       "4             0  "
      ]
     },
     "execution_count": 7,
     "metadata": {},
     "output_type": "execute_result"
    }
   ],
   "source": [
    "email.head()"
   ]
  },
  {
   "cell_type": "markdown",
   "metadata": {},
   "source": [
    "## Feature Overview"
   ]
  },
  {
   "cell_type": "markdown",
   "metadata": {},
   "source": [
    "1. Email_ID: unique email identifying key (categorical)\n",
    "2. Email_Type: coupon vs no coupon (categorical: 1, 2)\n",
    "3. Subject_Hotness_Score: \n",
    "4. Email_Source_Type:\n",
    "5. Customer_Location:\n",
    "6. Email_Campaign_Type: \n",
    "7. Total_Past_Communications:\n",
    "8. Time_Email_sent_Category:\n",
    "9. Word_Count:\n",
    "10. Total_Links\n",
    "11. Total_Images:\n",
    "12. Email_Status:"
   ]
  },
  {
   "cell_type": "code",
   "execution_count": 6,
   "metadata": {
    "scrolled": true
   },
   "outputs": [
    {
     "name": "stdout",
     "output_type": "stream",
     "text": [
      "Email_ID\n",
      "['EMA00081000034500' 'EMA00081000045360' 'EMA00081000066290' ...\n",
      " 'EMA00089998436500' 'EMA00089999168800' 'EMA00089999316900'] \n",
      "\n",
      "Email_Type\n",
      "[1 2] \n",
      "\n",
      "Subject_Hotness_Score\n",
      "[2.2 2.1 0.1 3.  0.  1.5 3.2 0.7 2.  0.5 0.2 1.  4.  1.9 1.1 1.6 0.3 2.3\n",
      " 1.4 1.7 2.8 1.2 0.8 0.6 4.2 1.8 2.4 0.9 1.3 3.3 2.6 3.1 4.1 2.9 2.7 0.4\n",
      " 3.5 3.7 2.5 3.8 3.9 3.4 4.6 4.5 3.6 4.4 4.7 5.  4.3 4.8 4.9] \n",
      "\n",
      "Email_Source_Type\n",
      "[2 1] \n",
      "\n",
      "Customer_Location\n",
      "['E' nan 'B' 'C' 'G' 'D' 'F' 'A'] \n",
      "\n",
      "Email_Campaign_Type\n",
      "[2 3 1] \n",
      "\n",
      "Total_Past_Communications\n",
      "[33. 15. 36. 25. 18. nan 34. 21. 40. 27. 24. 42. 11. 23. 37. 35. 51.  9.\n",
      " 39. 31. 50. 30. 14. 45. 53. 28.  7. 38. 52. 22. 43. 12. 16. 20. 41. 56.\n",
      " 26. 29.  5. 32. 44. 10. 17. 46. 47. 48.  8. 49. 13.  0.  6. 55. 19. 60.\n",
      " 59. 61. 54. 62. 57. 64. 58. 65. 66. 67. 63.] \n",
      "\n",
      "Time_Email_sent_Category\n",
      "[1 2 3] \n",
      "\n",
      "Word_Count\n",
      "[ 440  504  962  610  947  416  116 1241  655  744  931  550  565  700\n",
      "  694 1061  623  560 1082  684  733 1122  649  778  855  704  339  988\n",
      "  389  636  812  880  254  490  771  353  484  922  275  392  520  458\n",
      "  630 1140  892  578  311  352  902  795  577  653  524  904 1014  314\n",
      " 1103  721  220  673  873  763  542  760  741  518  424   40  282  608\n",
      "  713  939  470  462  842  934  806 1303  366  912  419  868 1229 1157\n",
      "  982 1102  841  593  251  152  933 1216 1271  827 1189  730 1038 1280\n",
      "   79 1296 1203  662  145   99  631  977  187 1173  987   67  678  605\n",
      "  768  661  190  521  132  770  722  840  233  253  751  146   51 1262\n",
      " 1289  796  757  789 1288  773  737 1060 1252  972  967  960  519  954\n",
      "  194  186 1316   50 1310  782 1309  946 1315  966  786] \n",
      "\n",
      "Total_Links\n",
      "[ 8.  5. 16.  4. 11.  6. 21. nan 31.  3.  9. 26. 10.  7.  2. 14. 13. 28.\n",
      " 24. 41.  1. 19. 12. 18. 15. 46. 17. 36. 29. 23. 39. 49. 25. 34. 20. 44.\n",
      " 22. 33.] \n",
      "\n",
      "Total_Images\n",
      "[ 0.  2.  4. 16. 13. 15.  5. 28. 10.  3.  8. nan  1. 24. 12. 11.  6. 20.\n",
      " 21. 14.  7. 18.  9. 25. 17. 19. 23. 27. 22. 43. 34. 26. 30. 29. 38. 40.\n",
      " 32. 35. 31. 39. 36. 33. 37. 45. 41. 44.] \n",
      "\n",
      "Email_Status\n",
      "[0 1 2] \n",
      "\n"
     ]
    }
   ],
   "source": [
    "for col in email.columns:\n",
    "    print(col)\n",
    "    print(email[col].unique(), '\\n')"
   ]
  }
 ],
 "metadata": {
  "hide_input": false,
  "kernelspec": {
   "display_name": "Python 3",
   "language": "python",
   "name": "python3"
  },
  "language_info": {
   "codemirror_mode": {
    "name": "ipython",
    "version": 3
   },
   "file_extension": ".py",
   "mimetype": "text/x-python",
   "name": "python",
   "nbconvert_exporter": "python",
   "pygments_lexer": "ipython3",
   "version": "3.7.1"
  }
 },
 "nbformat": 4,
 "nbformat_minor": 2
}
