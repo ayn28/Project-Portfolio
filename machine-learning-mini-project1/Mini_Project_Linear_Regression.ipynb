{
 "cells": [
  {
   "cell_type": "markdown",
   "metadata": {},
   "source": [
    "# Regression in Python\n",
    "\n",
    "***\n",
    "This is a very quick run-through of some basic statistical concepts, adapted from [Lab 4 in Harvard's CS109](https://github.com/cs109/2015lab4) course. Please feel free to try the original lab if you're feeling ambitious :-) The CS109 git repository also has the solutions if you're stuck.\n",
    "\n",
    "* Linear Regression Models\n",
    "* Prediction using linear regression\n",
    "\n",
    "Linear regression is used to model and predict continuous outcomes with normal random errors. There are nearly an infinite number of different types of regression models and each regression model is typically defined by the distribution of the prediction errors (called \"residuals\") of the type of data. Logistic regression is used to model binary outcomes whereas Poisson regression is used to predict counts. In this exercise, we'll see some examples of linear regression as well as Train-test splits.\n",
    "\n",
    "The packages we'll cover are: `statsmodels`, `seaborn`, and `scikit-learn`. While we don't explicitly teach `statsmodels` and `seaborn` in the Springboard workshop, those are great libraries to know.\n",
    "***"
   ]
  },
  {
   "cell_type": "markdown",
   "metadata": {},
   "source": [
    "<img width=600 height=300 src=\"https://imgs.xkcd.com/comics/sustainable.png\"/>\n",
    "***"
   ]
  },
  {
   "cell_type": "code",
   "execution_count": 1,
   "metadata": {
    "scrolled": true
   },
   "outputs": [
    {
     "data": {
      "text/html": [
       "<script>requirejs.config({paths: { 'plotly': ['https://cdn.plot.ly/plotly-latest.min']},});if(!window.Plotly) {{require(['plotly'],function(plotly) {window.Plotly=plotly;});}}</script>"
      ],
      "text/vnd.plotly.v1+html": [
       "<script>requirejs.config({paths: { 'plotly': ['https://cdn.plot.ly/plotly-latest.min']},});if(!window.Plotly) {{require(['plotly'],function(plotly) {window.Plotly=plotly;});}}</script>"
      ]
     },
     "metadata": {},
     "output_type": "display_data"
    }
   ],
   "source": [
    "# special IPython command to prepare the notebook for matplotlib and other libraries\n",
    "%matplotlib inline \n",
    "\n",
    "import numpy as np\n",
    "import pandas as pd\n",
    "import scipy.stats as stats\n",
    "import matplotlib.pyplot as plt\n",
    "import seaborn as sns\n",
    "\n",
    "# special matplotlib argument for improved plots\n",
    "from matplotlib import rcParams\n",
    "sns.set_style(\"whitegrid\")\n",
    "sns.set_context(\"poster\")\n",
    "\n",
    "import plotly as py\n",
    "import plotly.graph_objs as go\n",
    "\n",
    "py.offline.init_notebook_mode(connected=True)"
   ]
  },
  {
   "cell_type": "markdown",
   "metadata": {},
   "source": [
    "***\n",
    "# Part 1: Introduction to Linear Regression\n",
    "### Purpose of linear regression\n",
    "***\n",
    "<div class=\"span5 alert alert-info\">\n",
    "\n",
    "<p> Given a dataset containing predictor variables $X$ and outcome/response variable $Y$, linear regression can be used to: </p>\n",
    "<ul>\n",
    "  <li> Build a <b>predictive model</b> to predict future values of $\\hat{Y}$, using new data $X^*$ where $Y$ is unknown.</li>\n",
    "  <li> Model the <b>strength of the relationship</b> between each independent variable $X_i$ and $Y$</li>\n",
    "    <ul>\n",
    "      <li> Many times, only a subset of independent variables $X_i$ will have a linear relationship with $Y$</li>\n",
    "      <li> Need to figure out which $X_i$ contributes most information to predict $Y$ </li>\n",
    "    </ul>\n",
    "   <li>It is in many cases, the first pass prediction algorithm for continuous outcomes. </li>\n",
    "</ul>\n",
    "</div>\n",
    "\n",
    "### A Brief Mathematical Recap\n",
    "***\n",
    "\n",
    "[Linear Regression](http://en.wikipedia.org/wiki/Linear_regression) is a method to model the relationship between a set of independent variables $X$ (also knowns as explanatory variables, features, predictors) and a dependent variable $Y$.  This method assumes the relationship between each predictor $X$ is **linearly** related to the dependent variable $Y$. The most basic linear regression model contains one independent variable $X$, we'll call this the simple model. \n",
    "\n",
    "$$ Y = \\beta_0 + \\beta_1 X + \\epsilon$$\n",
    "\n",
    "where $\\epsilon$ is considered as an unobservable random variable that adds noise to the linear relationship. In linear regression, $\\epsilon$ is assumed to be normally distributed with a mean of 0. In other words, what this means is that on average, if we know $Y$, a roughly equal number of predictions $\\hat{Y}$ will be above $Y$ and others will be below $Y$. That is, on average, the error is zero. The residuals, $\\epsilon$ are also assumed to be \"i.i.d.\": independently and identically distributed. Independence means that the residuals are not correlated -- the residual from one prediction has no effect on the residual from another prediction. Correlated errors are common in time series analysis and spatial analyses.\n",
    "\n",
    "* $\\beta_0$ is the intercept of the linear model and represents the average of $Y$ when all independent variables $X$ are set to 0.\n",
    "\n",
    "* $\\beta_1$ is the slope of the line associated with the regression model and represents the average effect of a one-unit increase in $X$ on $Y$.\n",
    "\n",
    "* Back to the simple model. The model in linear regression is the *conditional mean* of $Y$ given the values in $X$ is expressed a linear function.  \n",
    "\n",
    "$$ y = f(x) = E(Y | X = x)$$ \n",
    "\n",
    "![conditional mean](images/conditionalmean.png)\n",
    "http://www.learner.org/courses/againstallodds/about/glossary.html\n",
    "\n",
    "* The goal is to estimate the coefficients (e.g. $\\beta_0$ and $\\beta_1$). We represent the estimates of the coefficients with a \"hat\" on top of the letter.  \n",
    "\n",
    "$$ \\hat{\\beta}_0, \\hat{\\beta}_1 $$\n",
    "\n",
    "* Once we estimate the coefficients $\\hat{\\beta}_0$ and $\\hat{\\beta}_1$, we can use these to predict new values of $Y$ given new data $X$.\n",
    "\n",
    "$$\\hat{y} = \\hat{\\beta}_0 + \\hat{\\beta}_1 x_1$$\n",
    "\n",
    "* Multiple linear regression is when you have more than one independent variable and the estimation involves matrices\n",
    "    * $X_1$, $X_2$, $X_3$, $\\ldots$\n",
    "\n",
    "\n",
    "* How do you estimate the coefficients? \n",
    "    * There are many ways to fit a linear regression model\n",
    "    * The method called **least squares** is the most common methods\n",
    "    * We will discuss least squares\n",
    "\n",
    "$$ Y = \\beta_0 + \\beta_1 X_1 + \\ldots + \\beta_p X_p + \\epsilon$$ \n",
    "    \n",
    "### Estimating $\\hat\\beta$: Least squares\n",
    "***\n",
    "[Least squares](http://en.wikipedia.org/wiki/Least_squares) is a method that can estimate the coefficients of a linear model by minimizing the squared residuals: \n",
    "\n",
    "$$ \\mathscr{L} = \\sum_{i=1}^N \\epsilon_i = \\sum_{i=1}^N \\left( y_i - \\hat{y}_i \\right)^2  = \\sum_{i=1}^N \\left(y_i - \\left(\\beta_0 + \\beta_1 x_i\\right)\\right)^2 $$\n",
    "\n",
    "where $N$ is the number of observations and $\\epsilon$ represents a residual or error, ACTUAL - PREDICTED.  \n",
    "\n",
    "#### Estimating the intercept $\\hat{\\beta_0}$ for the simple linear model\n",
    "\n",
    "We want to minimize the squared residuals and solve for $\\hat{\\beta_0}$ so we take the partial derivative of $\\mathscr{L}$ with respect to $\\hat{\\beta_0}$ "
   ]
  },
  {
   "cell_type": "markdown",
   "metadata": {},
   "source": [
    "$\n",
    "\\begin{align}\n",
    "\\frac{\\partial \\mathscr{L}}{\\partial \\hat{\\beta_0}} &= \\frac{\\partial}{\\partial \\hat{\\beta_0}} \\sum_{i=1}^N \\epsilon^2 \\\\\n",
    "&= \\frac{\\partial}{\\partial \\hat{\\beta_0}} \\sum_{i=1}^N \\left( y_i - \\hat{y}_i \\right)^2 \\\\\n",
    "&= \\frac{\\partial}{\\partial \\hat{\\beta_0}} \\sum_{i=1}^N \\left( y_i - \\left( \\hat{\\beta}_0 + \\hat{\\beta}_1 x_i \\right) \\right)^2 \\\\\n",
    "&= -2 \\sum_{i=1}^N \\left( y_i - \\left( \\hat{\\beta}_0 + \\hat{\\beta}_1 x_i \\right) \\right) \\hspace{25mm} \\mbox{(by chain rule)} \\\\\n",
    "&= -2 \\sum_{i=1}^N y_i - \\hat{\\beta}_0 - \\hat{\\beta}_1 x_i \\\\\n",
    "&= -2 \\left[ \\left( \\sum_{i=1}^N y_i \\right) - n \\hat{\\beta_0} - \\hat{\\beta}_1 \\left( \\sum_{i=1}^N x_i\n",
    "\\right) \\right] \\\\\n",
    "& 2 \\left[ n \\hat{\\beta}_0 + \\hat{\\beta}_1 \\sum_{i=1}^N x_i - \\sum_{i=1}^N y_i \\right] = 0 \\hspace{20mm} \\mbox{(Set equal to 0 and solve for $\\hat{\\beta}_0$)} \\\\\n",
    "& n \\hat{\\beta}_0 + \\hat{\\beta}_1 \\sum_{i=1}^N x_i - \\sum{i=1}^N y_i = 0 \\\\\n",
    "& n \\hat{\\beta}_0 = \\sum_{i=1}^N y_i - \\hat{\\beta}_1 \\sum_{i=1}^N x_i \\\\\n",
    "& \\hat{\\beta}_0 = \\frac{\\sum_{i=1}^N y_i - \\hat{\\beta}_1 \\sum_{i=1}^N x_i}{n} \\\\\n",
    "& \\hat{\\beta}_0 = \\frac{\\sum_{i=1}^N y_i}{n} - \\hat{\\beta}_1 \\frac{\\sum_{i=1}^N x_i}{n} \\\\\n",
    "& \\boxed{\\hat{\\beta}_0 = \\bar{y} - \\hat{\\beta}_1 \\bar{x}}\n",
    "\\end{align}\n",
    "$"
   ]
  },
  {
   "cell_type": "markdown",
   "metadata": {},
   "source": [
    "Using this new information, we can compute the estimate for $\\hat{\\beta}_1$ by taking the partial derivative of $\\mathscr{L}$ with respect to $\\hat{\\beta}_1$."
   ]
  },
  {
   "cell_type": "markdown",
   "metadata": {},
   "source": [
    "$\n",
    "\\begin{align}\n",
    "\\frac{\\partial \\mathscr{L}}{\\partial \\hat{\\beta_1}} &= \\frac{\\partial}{\\partial \\hat{\\beta_1}} \\sum_{i=1}^N \\epsilon^2 \\\\\n",
    "&= \\frac{\\partial}{\\partial \\hat{\\beta_1}} \\sum_{i=1}^N \\left( y_i - \\hat{y}_i \\right)^2 \\\\\n",
    "&= \\frac{\\partial}{\\partial \\hat{\\beta_1}} \\sum_{i=1}^N \\left( y_i - \\left( \\hat{\\beta}_0 + \\hat{\\beta}_1 x_i \\right) \\right)^2 \\\\\n",
    "&= 2 \\sum_{i=1}^N \\left( y_i - \\left( \\hat{\\beta}_0 + \\hat{\\beta}_1 x_i \\right) \\right) \\left( -x_i \\right) \\hspace{25mm}\\mbox{(by chain rule)} \\\\\n",
    "&= -2 \\sum_{i=1}^N x_i \\left( y_i - \\hat{\\beta}_0 - \\hat{\\beta}_1 x_i \\right) \\\\\n",
    "&= -2 \\sum_{i=1}^N x_i y_i - \\hat{\\beta}_0 x_i - \\hat{\\beta}_1 x_i^2 \\\\\n",
    "&= -2 \\sum_{i=1}^N x_i y_i - \\left( \\bar{y} - \\hat{\\beta}_1 \\bar{x} \\right) x_i - \\hat{\\beta}_1 x_i^2 \\\\\n",
    "&= -2 \\sum_{i=1}^N x_i y_i - \\bar{y}x_i + \\hat{\\beta}_1\\bar{x}x_i - \\hat{\\beta}_1 x_i^2 \\\\\n",
    "&= -2 \\left[ \\sum_{i=1}^N x_i y_i - \\bar{y} \\sum_{i=1}^N x_i + \\hat{\\beta}_1\\bar{x} - \\hat{\\beta}_1 x_i^2 \\right] \\\\\n",
    "&= -2 \\left[ \\hat{\\beta}_1 \\left\\{ \\bar{x} \\sum_{i=1}^N x_i - \\sum_{i=1}^N x_i^2 \\right\\} + \\left\\{ \\sum_{i=1}^N x_i y_i - \\bar{y} \\sum_{i=1}^N x_i \\right\\}\\right] \\\\\n",
    "& 2 \\left[ \\hat{\\beta}_1 \\left\\{ \\sum_{i=1}^N x_i^2 - \\bar{x} \\sum_{i=1}^N x_i \\right\\} + \\left\\{ \\bar{y} \\sum_{i=1}^N x_i - \\sum_{i=1}^N x_i y_i \\right\\} \\right] = 0 \\\\\n",
    "& \\hat{\\beta}_1 = \\frac{-\\left( \\bar{y} \\sum_{i=1}^N x_i - \\sum_{i=1}^N x_i y_i \\right)}{\\sum_{i=1}^N x_i^2 - \\bar{x}\\sum_{i=1}^N x_i} \\\\\n",
    "&= \\frac{\\sum_{i=1}^N x_i y_i - \\bar{y} \\sum_{i=1}^N x_i}{\\sum_{i=1}^N x_i^2 - \\bar{x} \\sum_{i=1}^N x_i} \\\\\n",
    "& \\boxed{\\hat{\\beta}_1 = \\frac{\\sum_{i=1}^N x_i y_i - \\bar{x}\\bar{y}n}{\\sum_{i=1}^N x_i^2 - n \\bar{x}^2}}\n",
    "\\end{align}\n",
    "$"
   ]
  },
  {
   "cell_type": "markdown",
   "metadata": {},
   "source": [
    "The solution can be written in compact matrix notation as\n",
    "\n",
    "$$\\hat\\beta =  (X^T X)^{-1}X^T Y$$ \n",
    "\n",
    "We wanted to show you this in case you remember linear algebra, in order for this solution to exist we need $X^T X$ to be invertible. Of course this requires a few extra assumptions, $X$ must be full rank so that $X^T X$ is invertible, etc. Basically, $X^T X$ is full rank if all rows and columns are linearly independent. This has a loose relationship to variables and observations being independent respective. **This is important for us because this means that having redundant features in our regression models will lead to poorly fitting (and unstable) models.** We'll see an implementation of this in the extra linear regression example."
   ]
  },
  {
   "cell_type": "markdown",
   "metadata": {},
   "source": [
    "***\n",
    "# Part 2: Exploratory Data Analysis for Linear Relationships\n",
    "\n",
    "The [Boston Housing data set](https://archive.ics.uci.edu/ml/datasets/Housing) contains information about the housing values in suburbs of Boston.  This dataset was originally taken from the StatLib library which is maintained at Carnegie Mellon University and is now available on the UCI Machine Learning Repository. \n",
    "\n",
    "\n",
    "## Load the Boston Housing data set from `sklearn`\n",
    "***\n",
    "\n",
    "This data set is available in the [sklearn](http://scikit-learn.org/stable/modules/generated/sklearn.datasets.load_boston.html#sklearn.datasets.load_boston) python module which is how we will access it today.  "
   ]
  },
  {
   "cell_type": "code",
   "execution_count": 2,
   "metadata": {
    "collapsed": true
   },
   "outputs": [],
   "source": [
    "from sklearn.datasets import load_boston\n",
    "\n",
    "boston = load_boston()"
   ]
  },
  {
   "cell_type": "code",
   "execution_count": 3,
   "metadata": {},
   "outputs": [
    {
     "data": {
      "text/plain": [
       "dict_keys(['data', 'target', 'feature_names', 'DESCR'])"
      ]
     },
     "execution_count": 3,
     "metadata": {},
     "output_type": "execute_result"
    }
   ],
   "source": [
    "boston.keys()"
   ]
  },
  {
   "cell_type": "code",
   "execution_count": 4,
   "metadata": {},
   "outputs": [
    {
     "data": {
      "text/plain": [
       "(506, 13)"
      ]
     },
     "execution_count": 4,
     "metadata": {},
     "output_type": "execute_result"
    }
   ],
   "source": [
    "boston.data.shape"
   ]
  },
  {
   "cell_type": "code",
   "execution_count": 5,
   "metadata": {},
   "outputs": [
    {
     "name": "stdout",
     "output_type": "stream",
     "text": [
      "['CRIM' 'ZN' 'INDUS' 'CHAS' 'NOX' 'RM' 'AGE' 'DIS' 'RAD' 'TAX' 'PTRATIO'\n",
      " 'B' 'LSTAT']\n"
     ]
    }
   ],
   "source": [
    "# Print column names\n",
    "print(boston.feature_names)"
   ]
  },
  {
   "cell_type": "code",
   "execution_count": 6,
   "metadata": {},
   "outputs": [
    {
     "name": "stdout",
     "output_type": "stream",
     "text": [
      "Boston House Prices dataset\n",
      "===========================\n",
      "\n",
      "Notes\n",
      "------\n",
      "Data Set Characteristics:  \n",
      "\n",
      "    :Number of Instances: 506 \n",
      "\n",
      "    :Number of Attributes: 13 numeric/categorical predictive\n",
      "    \n",
      "    :Median Value (attribute 14) is usually the target\n",
      "\n",
      "    :Attribute Information (in order):\n",
      "        - CRIM     per capita crime rate by town\n",
      "        - ZN       proportion of residential land zoned for lots over 25,000 sq.ft.\n",
      "        - INDUS    proportion of non-retail business acres per town\n",
      "        - CHAS     Charles River dummy variable (= 1 if tract bounds river; 0 otherwise)\n",
      "        - NOX      nitric oxides concentration (parts per 10 million)\n",
      "        - RM       average number of rooms per dwelling\n",
      "        - AGE      proportion of owner-occupied units built prior to 1940\n",
      "        - DIS      weighted distances to five Boston employment centres\n",
      "        - RAD      index of accessibility to radial highways\n",
      "        - TAX      full-value property-tax rate per $10,000\n",
      "        - PTRATIO  pupil-teacher ratio by town\n",
      "        - B        1000(Bk - 0.63)^2 where Bk is the proportion of blacks by town\n",
      "        - LSTAT    % lower status of the population\n",
      "        - MEDV     Median value of owner-occupied homes in $1000's\n",
      "\n",
      "    :Missing Attribute Values: None\n",
      "\n",
      "    :Creator: Harrison, D. and Rubinfeld, D.L.\n",
      "\n",
      "This is a copy of UCI ML housing dataset.\n",
      "http://archive.ics.uci.edu/ml/datasets/Housing\n",
      "\n",
      "\n",
      "This dataset was taken from the StatLib library which is maintained at Carnegie Mellon University.\n",
      "\n",
      "The Boston house-price data of Harrison, D. and Rubinfeld, D.L. 'Hedonic\n",
      "prices and the demand for clean air', J. Environ. Economics & Management,\n",
      "vol.5, 81-102, 1978.   Used in Belsley, Kuh & Welsch, 'Regression diagnostics\n",
      "...', Wiley, 1980.   N.B. Various transformations are used in the table on\n",
      "pages 244-261 of the latter.\n",
      "\n",
      "The Boston house-price data has been used in many machine learning papers that address regression\n",
      "problems.   \n",
      "     \n",
      "**References**\n",
      "\n",
      "   - Belsley, Kuh & Welsch, 'Regression diagnostics: Identifying Influential Data and Sources of Collinearity', Wiley, 1980. 244-261.\n",
      "   - Quinlan,R. (1993). Combining Instance-Based and Model-Based Learning. In Proceedings on the Tenth International Conference of Machine Learning, 236-243, University of Massachusetts, Amherst. Morgan Kaufmann.\n",
      "   - many more! (see http://archive.ics.uci.edu/ml/datasets/Housing)\n",
      "\n"
     ]
    }
   ],
   "source": [
    "# Print description of Boston housing data set\n",
    "print(boston.DESCR)"
   ]
  },
  {
   "cell_type": "markdown",
   "metadata": {},
   "source": [
    "Now let's explore the data set itself. "
   ]
  },
  {
   "cell_type": "code",
   "execution_count": 7,
   "metadata": {},
   "outputs": [
    {
     "data": {
      "text/html": [
       "<div>\n",
       "<style scoped>\n",
       "    .dataframe tbody tr th:only-of-type {\n",
       "        vertical-align: middle;\n",
       "    }\n",
       "\n",
       "    .dataframe tbody tr th {\n",
       "        vertical-align: top;\n",
       "    }\n",
       "\n",
       "    .dataframe thead th {\n",
       "        text-align: right;\n",
       "    }\n",
       "</style>\n",
       "<table border=\"1\" class=\"dataframe\">\n",
       "  <thead>\n",
       "    <tr style=\"text-align: right;\">\n",
       "      <th></th>\n",
       "      <th>0</th>\n",
       "      <th>1</th>\n",
       "      <th>2</th>\n",
       "      <th>3</th>\n",
       "      <th>4</th>\n",
       "      <th>5</th>\n",
       "      <th>6</th>\n",
       "      <th>7</th>\n",
       "      <th>8</th>\n",
       "      <th>9</th>\n",
       "      <th>10</th>\n",
       "      <th>11</th>\n",
       "      <th>12</th>\n",
       "    </tr>\n",
       "  </thead>\n",
       "  <tbody>\n",
       "    <tr>\n",
       "      <th>0</th>\n",
       "      <td>0.00632</td>\n",
       "      <td>18.0</td>\n",
       "      <td>2.31</td>\n",
       "      <td>0.0</td>\n",
       "      <td>0.538</td>\n",
       "      <td>6.575</td>\n",
       "      <td>65.2</td>\n",
       "      <td>4.0900</td>\n",
       "      <td>1.0</td>\n",
       "      <td>296.0</td>\n",
       "      <td>15.3</td>\n",
       "      <td>396.90</td>\n",
       "      <td>4.98</td>\n",
       "    </tr>\n",
       "    <tr>\n",
       "      <th>1</th>\n",
       "      <td>0.02731</td>\n",
       "      <td>0.0</td>\n",
       "      <td>7.07</td>\n",
       "      <td>0.0</td>\n",
       "      <td>0.469</td>\n",
       "      <td>6.421</td>\n",
       "      <td>78.9</td>\n",
       "      <td>4.9671</td>\n",
       "      <td>2.0</td>\n",
       "      <td>242.0</td>\n",
       "      <td>17.8</td>\n",
       "      <td>396.90</td>\n",
       "      <td>9.14</td>\n",
       "    </tr>\n",
       "    <tr>\n",
       "      <th>2</th>\n",
       "      <td>0.02729</td>\n",
       "      <td>0.0</td>\n",
       "      <td>7.07</td>\n",
       "      <td>0.0</td>\n",
       "      <td>0.469</td>\n",
       "      <td>7.185</td>\n",
       "      <td>61.1</td>\n",
       "      <td>4.9671</td>\n",
       "      <td>2.0</td>\n",
       "      <td>242.0</td>\n",
       "      <td>17.8</td>\n",
       "      <td>392.83</td>\n",
       "      <td>4.03</td>\n",
       "    </tr>\n",
       "    <tr>\n",
       "      <th>3</th>\n",
       "      <td>0.03237</td>\n",
       "      <td>0.0</td>\n",
       "      <td>2.18</td>\n",
       "      <td>0.0</td>\n",
       "      <td>0.458</td>\n",
       "      <td>6.998</td>\n",
       "      <td>45.8</td>\n",
       "      <td>6.0622</td>\n",
       "      <td>3.0</td>\n",
       "      <td>222.0</td>\n",
       "      <td>18.7</td>\n",
       "      <td>394.63</td>\n",
       "      <td>2.94</td>\n",
       "    </tr>\n",
       "    <tr>\n",
       "      <th>4</th>\n",
       "      <td>0.06905</td>\n",
       "      <td>0.0</td>\n",
       "      <td>2.18</td>\n",
       "      <td>0.0</td>\n",
       "      <td>0.458</td>\n",
       "      <td>7.147</td>\n",
       "      <td>54.2</td>\n",
       "      <td>6.0622</td>\n",
       "      <td>3.0</td>\n",
       "      <td>222.0</td>\n",
       "      <td>18.7</td>\n",
       "      <td>396.90</td>\n",
       "      <td>5.33</td>\n",
       "    </tr>\n",
       "  </tbody>\n",
       "</table>\n",
       "</div>"
      ],
      "text/plain": [
       "        0     1     2    3      4      5     6       7    8      9     10  \\\n",
       "0  0.00632  18.0  2.31  0.0  0.538  6.575  65.2  4.0900  1.0  296.0  15.3   \n",
       "1  0.02731   0.0  7.07  0.0  0.469  6.421  78.9  4.9671  2.0  242.0  17.8   \n",
       "2  0.02729   0.0  7.07  0.0  0.469  7.185  61.1  4.9671  2.0  242.0  17.8   \n",
       "3  0.03237   0.0  2.18  0.0  0.458  6.998  45.8  6.0622  3.0  222.0  18.7   \n",
       "4  0.06905   0.0  2.18  0.0  0.458  7.147  54.2  6.0622  3.0  222.0  18.7   \n",
       "\n",
       "       11    12  \n",
       "0  396.90  4.98  \n",
       "1  396.90  9.14  \n",
       "2  392.83  4.03  \n",
       "3  394.63  2.94  \n",
       "4  396.90  5.33  "
      ]
     },
     "execution_count": 7,
     "metadata": {},
     "output_type": "execute_result"
    }
   ],
   "source": [
    "bos = pd.DataFrame(boston.data)\n",
    "bos.head()"
   ]
  },
  {
   "cell_type": "markdown",
   "metadata": {},
   "source": [
    "There are no column names in the DataFrame. Let's add those. "
   ]
  },
  {
   "cell_type": "code",
   "execution_count": 8,
   "metadata": {},
   "outputs": [
    {
     "data": {
      "text/html": [
       "<div>\n",
       "<style scoped>\n",
       "    .dataframe tbody tr th:only-of-type {\n",
       "        vertical-align: middle;\n",
       "    }\n",
       "\n",
       "    .dataframe tbody tr th {\n",
       "        vertical-align: top;\n",
       "    }\n",
       "\n",
       "    .dataframe thead th {\n",
       "        text-align: right;\n",
       "    }\n",
       "</style>\n",
       "<table border=\"1\" class=\"dataframe\">\n",
       "  <thead>\n",
       "    <tr style=\"text-align: right;\">\n",
       "      <th></th>\n",
       "      <th>CRIM</th>\n",
       "      <th>ZN</th>\n",
       "      <th>INDUS</th>\n",
       "      <th>CHAS</th>\n",
       "      <th>NOX</th>\n",
       "      <th>RM</th>\n",
       "      <th>AGE</th>\n",
       "      <th>DIS</th>\n",
       "      <th>RAD</th>\n",
       "      <th>TAX</th>\n",
       "      <th>PTRATIO</th>\n",
       "      <th>B</th>\n",
       "      <th>LSTAT</th>\n",
       "    </tr>\n",
       "  </thead>\n",
       "  <tbody>\n",
       "    <tr>\n",
       "      <th>0</th>\n",
       "      <td>0.00632</td>\n",
       "      <td>18.0</td>\n",
       "      <td>2.31</td>\n",
       "      <td>0.0</td>\n",
       "      <td>0.538</td>\n",
       "      <td>6.575</td>\n",
       "      <td>65.2</td>\n",
       "      <td>4.0900</td>\n",
       "      <td>1.0</td>\n",
       "      <td>296.0</td>\n",
       "      <td>15.3</td>\n",
       "      <td>396.90</td>\n",
       "      <td>4.98</td>\n",
       "    </tr>\n",
       "    <tr>\n",
       "      <th>1</th>\n",
       "      <td>0.02731</td>\n",
       "      <td>0.0</td>\n",
       "      <td>7.07</td>\n",
       "      <td>0.0</td>\n",
       "      <td>0.469</td>\n",
       "      <td>6.421</td>\n",
       "      <td>78.9</td>\n",
       "      <td>4.9671</td>\n",
       "      <td>2.0</td>\n",
       "      <td>242.0</td>\n",
       "      <td>17.8</td>\n",
       "      <td>396.90</td>\n",
       "      <td>9.14</td>\n",
       "    </tr>\n",
       "    <tr>\n",
       "      <th>2</th>\n",
       "      <td>0.02729</td>\n",
       "      <td>0.0</td>\n",
       "      <td>7.07</td>\n",
       "      <td>0.0</td>\n",
       "      <td>0.469</td>\n",
       "      <td>7.185</td>\n",
       "      <td>61.1</td>\n",
       "      <td>4.9671</td>\n",
       "      <td>2.0</td>\n",
       "      <td>242.0</td>\n",
       "      <td>17.8</td>\n",
       "      <td>392.83</td>\n",
       "      <td>4.03</td>\n",
       "    </tr>\n",
       "    <tr>\n",
       "      <th>3</th>\n",
       "      <td>0.03237</td>\n",
       "      <td>0.0</td>\n",
       "      <td>2.18</td>\n",
       "      <td>0.0</td>\n",
       "      <td>0.458</td>\n",
       "      <td>6.998</td>\n",
       "      <td>45.8</td>\n",
       "      <td>6.0622</td>\n",
       "      <td>3.0</td>\n",
       "      <td>222.0</td>\n",
       "      <td>18.7</td>\n",
       "      <td>394.63</td>\n",
       "      <td>2.94</td>\n",
       "    </tr>\n",
       "    <tr>\n",
       "      <th>4</th>\n",
       "      <td>0.06905</td>\n",
       "      <td>0.0</td>\n",
       "      <td>2.18</td>\n",
       "      <td>0.0</td>\n",
       "      <td>0.458</td>\n",
       "      <td>7.147</td>\n",
       "      <td>54.2</td>\n",
       "      <td>6.0622</td>\n",
       "      <td>3.0</td>\n",
       "      <td>222.0</td>\n",
       "      <td>18.7</td>\n",
       "      <td>396.90</td>\n",
       "      <td>5.33</td>\n",
       "    </tr>\n",
       "  </tbody>\n",
       "</table>\n",
       "</div>"
      ],
      "text/plain": [
       "      CRIM    ZN  INDUS  CHAS    NOX     RM   AGE     DIS  RAD    TAX  \\\n",
       "0  0.00632  18.0   2.31   0.0  0.538  6.575  65.2  4.0900  1.0  296.0   \n",
       "1  0.02731   0.0   7.07   0.0  0.469  6.421  78.9  4.9671  2.0  242.0   \n",
       "2  0.02729   0.0   7.07   0.0  0.469  7.185  61.1  4.9671  2.0  242.0   \n",
       "3  0.03237   0.0   2.18   0.0  0.458  6.998  45.8  6.0622  3.0  222.0   \n",
       "4  0.06905   0.0   2.18   0.0  0.458  7.147  54.2  6.0622  3.0  222.0   \n",
       "\n",
       "   PTRATIO       B  LSTAT  \n",
       "0     15.3  396.90   4.98  \n",
       "1     17.8  396.90   9.14  \n",
       "2     17.8  392.83   4.03  \n",
       "3     18.7  394.63   2.94  \n",
       "4     18.7  396.90   5.33  "
      ]
     },
     "execution_count": 8,
     "metadata": {},
     "output_type": "execute_result"
    }
   ],
   "source": [
    "bos.columns = boston.feature_names\n",
    "bos.head()"
   ]
  },
  {
   "cell_type": "markdown",
   "metadata": {},
   "source": [
    "Now we have a pandas DataFrame called `bos` containing all the data we want to use to predict Boston Housing prices.  Let's create a variable called `PRICE` which will contain the prices. This information is contained in the `target` data. "
   ]
  },
  {
   "cell_type": "code",
   "execution_count": 9,
   "metadata": {
    "collapsed": true
   },
   "outputs": [
    {
     "name": "stdout",
     "output_type": "stream",
     "text": [
      "(506,)\n"
     ]
    }
   ],
   "source": [
    "print(boston.target.shape)"
   ]
  },
  {
   "cell_type": "code",
   "execution_count": 10,
   "metadata": {
    "collapsed": true
   },
   "outputs": [
    {
     "data": {
      "text/html": [
       "<div>\n",
       "<style scoped>\n",
       "    .dataframe tbody tr th:only-of-type {\n",
       "        vertical-align: middle;\n",
       "    }\n",
       "\n",
       "    .dataframe tbody tr th {\n",
       "        vertical-align: top;\n",
       "    }\n",
       "\n",
       "    .dataframe thead th {\n",
       "        text-align: right;\n",
       "    }\n",
       "</style>\n",
       "<table border=\"1\" class=\"dataframe\">\n",
       "  <thead>\n",
       "    <tr style=\"text-align: right;\">\n",
       "      <th></th>\n",
       "      <th>CRIM</th>\n",
       "      <th>ZN</th>\n",
       "      <th>INDUS</th>\n",
       "      <th>CHAS</th>\n",
       "      <th>NOX</th>\n",
       "      <th>RM</th>\n",
       "      <th>AGE</th>\n",
       "      <th>DIS</th>\n",
       "      <th>RAD</th>\n",
       "      <th>TAX</th>\n",
       "      <th>PTRATIO</th>\n",
       "      <th>B</th>\n",
       "      <th>LSTAT</th>\n",
       "      <th>PRICE</th>\n",
       "    </tr>\n",
       "  </thead>\n",
       "  <tbody>\n",
       "    <tr>\n",
       "      <th>0</th>\n",
       "      <td>0.00632</td>\n",
       "      <td>18.0</td>\n",
       "      <td>2.31</td>\n",
       "      <td>0.0</td>\n",
       "      <td>0.538</td>\n",
       "      <td>6.575</td>\n",
       "      <td>65.2</td>\n",
       "      <td>4.0900</td>\n",
       "      <td>1.0</td>\n",
       "      <td>296.0</td>\n",
       "      <td>15.3</td>\n",
       "      <td>396.90</td>\n",
       "      <td>4.98</td>\n",
       "      <td>24.0</td>\n",
       "    </tr>\n",
       "    <tr>\n",
       "      <th>1</th>\n",
       "      <td>0.02731</td>\n",
       "      <td>0.0</td>\n",
       "      <td>7.07</td>\n",
       "      <td>0.0</td>\n",
       "      <td>0.469</td>\n",
       "      <td>6.421</td>\n",
       "      <td>78.9</td>\n",
       "      <td>4.9671</td>\n",
       "      <td>2.0</td>\n",
       "      <td>242.0</td>\n",
       "      <td>17.8</td>\n",
       "      <td>396.90</td>\n",
       "      <td>9.14</td>\n",
       "      <td>21.6</td>\n",
       "    </tr>\n",
       "    <tr>\n",
       "      <th>2</th>\n",
       "      <td>0.02729</td>\n",
       "      <td>0.0</td>\n",
       "      <td>7.07</td>\n",
       "      <td>0.0</td>\n",
       "      <td>0.469</td>\n",
       "      <td>7.185</td>\n",
       "      <td>61.1</td>\n",
       "      <td>4.9671</td>\n",
       "      <td>2.0</td>\n",
       "      <td>242.0</td>\n",
       "      <td>17.8</td>\n",
       "      <td>392.83</td>\n",
       "      <td>4.03</td>\n",
       "      <td>34.7</td>\n",
       "    </tr>\n",
       "    <tr>\n",
       "      <th>3</th>\n",
       "      <td>0.03237</td>\n",
       "      <td>0.0</td>\n",
       "      <td>2.18</td>\n",
       "      <td>0.0</td>\n",
       "      <td>0.458</td>\n",
       "      <td>6.998</td>\n",
       "      <td>45.8</td>\n",
       "      <td>6.0622</td>\n",
       "      <td>3.0</td>\n",
       "      <td>222.0</td>\n",
       "      <td>18.7</td>\n",
       "      <td>394.63</td>\n",
       "      <td>2.94</td>\n",
       "      <td>33.4</td>\n",
       "    </tr>\n",
       "    <tr>\n",
       "      <th>4</th>\n",
       "      <td>0.06905</td>\n",
       "      <td>0.0</td>\n",
       "      <td>2.18</td>\n",
       "      <td>0.0</td>\n",
       "      <td>0.458</td>\n",
       "      <td>7.147</td>\n",
       "      <td>54.2</td>\n",
       "      <td>6.0622</td>\n",
       "      <td>3.0</td>\n",
       "      <td>222.0</td>\n",
       "      <td>18.7</td>\n",
       "      <td>396.90</td>\n",
       "      <td>5.33</td>\n",
       "      <td>36.2</td>\n",
       "    </tr>\n",
       "  </tbody>\n",
       "</table>\n",
       "</div>"
      ],
      "text/plain": [
       "      CRIM    ZN  INDUS  CHAS    NOX     RM   AGE     DIS  RAD    TAX  \\\n",
       "0  0.00632  18.0   2.31   0.0  0.538  6.575  65.2  4.0900  1.0  296.0   \n",
       "1  0.02731   0.0   7.07   0.0  0.469  6.421  78.9  4.9671  2.0  242.0   \n",
       "2  0.02729   0.0   7.07   0.0  0.469  7.185  61.1  4.9671  2.0  242.0   \n",
       "3  0.03237   0.0   2.18   0.0  0.458  6.998  45.8  6.0622  3.0  222.0   \n",
       "4  0.06905   0.0   2.18   0.0  0.458  7.147  54.2  6.0622  3.0  222.0   \n",
       "\n",
       "   PTRATIO       B  LSTAT  PRICE  \n",
       "0     15.3  396.90   4.98   24.0  \n",
       "1     17.8  396.90   9.14   21.6  \n",
       "2     17.8  392.83   4.03   34.7  \n",
       "3     18.7  394.63   2.94   33.4  \n",
       "4     18.7  396.90   5.33   36.2  "
      ]
     },
     "execution_count": 10,
     "metadata": {},
     "output_type": "execute_result"
    }
   ],
   "source": [
    "bos['PRICE'] = boston.target\n",
    "bos.head()"
   ]
  },
  {
   "cell_type": "markdown",
   "metadata": {},
   "source": [
    "## EDA and Summary Statistics\n",
    "***\n",
    "\n",
    "Let's explore this data set.  First we use `describe()` to get basic summary statistics for each of the columns. "
   ]
  },
  {
   "cell_type": "code",
   "execution_count": 11,
   "metadata": {
    "collapsed": true
   },
   "outputs": [
    {
     "data": {
      "text/html": [
       "<div>\n",
       "<style scoped>\n",
       "    .dataframe tbody tr th:only-of-type {\n",
       "        vertical-align: middle;\n",
       "    }\n",
       "\n",
       "    .dataframe tbody tr th {\n",
       "        vertical-align: top;\n",
       "    }\n",
       "\n",
       "    .dataframe thead th {\n",
       "        text-align: right;\n",
       "    }\n",
       "</style>\n",
       "<table border=\"1\" class=\"dataframe\">\n",
       "  <thead>\n",
       "    <tr style=\"text-align: right;\">\n",
       "      <th></th>\n",
       "      <th>CRIM</th>\n",
       "      <th>ZN</th>\n",
       "      <th>INDUS</th>\n",
       "      <th>CHAS</th>\n",
       "      <th>NOX</th>\n",
       "      <th>RM</th>\n",
       "      <th>AGE</th>\n",
       "      <th>DIS</th>\n",
       "      <th>RAD</th>\n",
       "      <th>TAX</th>\n",
       "      <th>PTRATIO</th>\n",
       "      <th>B</th>\n",
       "      <th>LSTAT</th>\n",
       "      <th>PRICE</th>\n",
       "    </tr>\n",
       "  </thead>\n",
       "  <tbody>\n",
       "    <tr>\n",
       "      <th>count</th>\n",
       "      <td>506.000000</td>\n",
       "      <td>506.000000</td>\n",
       "      <td>506.000000</td>\n",
       "      <td>506.000000</td>\n",
       "      <td>506.000000</td>\n",
       "      <td>506.000000</td>\n",
       "      <td>506.000000</td>\n",
       "      <td>506.000000</td>\n",
       "      <td>506.000000</td>\n",
       "      <td>506.000000</td>\n",
       "      <td>506.000000</td>\n",
       "      <td>506.000000</td>\n",
       "      <td>506.000000</td>\n",
       "      <td>506.000000</td>\n",
       "    </tr>\n",
       "    <tr>\n",
       "      <th>mean</th>\n",
       "      <td>3.593761</td>\n",
       "      <td>11.363636</td>\n",
       "      <td>11.136779</td>\n",
       "      <td>0.069170</td>\n",
       "      <td>0.554695</td>\n",
       "      <td>6.284634</td>\n",
       "      <td>68.574901</td>\n",
       "      <td>3.795043</td>\n",
       "      <td>9.549407</td>\n",
       "      <td>408.237154</td>\n",
       "      <td>18.455534</td>\n",
       "      <td>356.674032</td>\n",
       "      <td>12.653063</td>\n",
       "      <td>22.532806</td>\n",
       "    </tr>\n",
       "    <tr>\n",
       "      <th>std</th>\n",
       "      <td>8.596783</td>\n",
       "      <td>23.322453</td>\n",
       "      <td>6.860353</td>\n",
       "      <td>0.253994</td>\n",
       "      <td>0.115878</td>\n",
       "      <td>0.702617</td>\n",
       "      <td>28.148861</td>\n",
       "      <td>2.105710</td>\n",
       "      <td>8.707259</td>\n",
       "      <td>168.537116</td>\n",
       "      <td>2.164946</td>\n",
       "      <td>91.294864</td>\n",
       "      <td>7.141062</td>\n",
       "      <td>9.197104</td>\n",
       "    </tr>\n",
       "    <tr>\n",
       "      <th>min</th>\n",
       "      <td>0.006320</td>\n",
       "      <td>0.000000</td>\n",
       "      <td>0.460000</td>\n",
       "      <td>0.000000</td>\n",
       "      <td>0.385000</td>\n",
       "      <td>3.561000</td>\n",
       "      <td>2.900000</td>\n",
       "      <td>1.129600</td>\n",
       "      <td>1.000000</td>\n",
       "      <td>187.000000</td>\n",
       "      <td>12.600000</td>\n",
       "      <td>0.320000</td>\n",
       "      <td>1.730000</td>\n",
       "      <td>5.000000</td>\n",
       "    </tr>\n",
       "    <tr>\n",
       "      <th>25%</th>\n",
       "      <td>0.082045</td>\n",
       "      <td>0.000000</td>\n",
       "      <td>5.190000</td>\n",
       "      <td>0.000000</td>\n",
       "      <td>0.449000</td>\n",
       "      <td>5.885500</td>\n",
       "      <td>45.025000</td>\n",
       "      <td>2.100175</td>\n",
       "      <td>4.000000</td>\n",
       "      <td>279.000000</td>\n",
       "      <td>17.400000</td>\n",
       "      <td>375.377500</td>\n",
       "      <td>6.950000</td>\n",
       "      <td>17.025000</td>\n",
       "    </tr>\n",
       "    <tr>\n",
       "      <th>50%</th>\n",
       "      <td>0.256510</td>\n",
       "      <td>0.000000</td>\n",
       "      <td>9.690000</td>\n",
       "      <td>0.000000</td>\n",
       "      <td>0.538000</td>\n",
       "      <td>6.208500</td>\n",
       "      <td>77.500000</td>\n",
       "      <td>3.207450</td>\n",
       "      <td>5.000000</td>\n",
       "      <td>330.000000</td>\n",
       "      <td>19.050000</td>\n",
       "      <td>391.440000</td>\n",
       "      <td>11.360000</td>\n",
       "      <td>21.200000</td>\n",
       "    </tr>\n",
       "    <tr>\n",
       "      <th>75%</th>\n",
       "      <td>3.647423</td>\n",
       "      <td>12.500000</td>\n",
       "      <td>18.100000</td>\n",
       "      <td>0.000000</td>\n",
       "      <td>0.624000</td>\n",
       "      <td>6.623500</td>\n",
       "      <td>94.075000</td>\n",
       "      <td>5.188425</td>\n",
       "      <td>24.000000</td>\n",
       "      <td>666.000000</td>\n",
       "      <td>20.200000</td>\n",
       "      <td>396.225000</td>\n",
       "      <td>16.955000</td>\n",
       "      <td>25.000000</td>\n",
       "    </tr>\n",
       "    <tr>\n",
       "      <th>max</th>\n",
       "      <td>88.976200</td>\n",
       "      <td>100.000000</td>\n",
       "      <td>27.740000</td>\n",
       "      <td>1.000000</td>\n",
       "      <td>0.871000</td>\n",
       "      <td>8.780000</td>\n",
       "      <td>100.000000</td>\n",
       "      <td>12.126500</td>\n",
       "      <td>24.000000</td>\n",
       "      <td>711.000000</td>\n",
       "      <td>22.000000</td>\n",
       "      <td>396.900000</td>\n",
       "      <td>37.970000</td>\n",
       "      <td>50.000000</td>\n",
       "    </tr>\n",
       "  </tbody>\n",
       "</table>\n",
       "</div>"
      ],
      "text/plain": [
       "             CRIM          ZN       INDUS        CHAS         NOX          RM  \\\n",
       "count  506.000000  506.000000  506.000000  506.000000  506.000000  506.000000   \n",
       "mean     3.593761   11.363636   11.136779    0.069170    0.554695    6.284634   \n",
       "std      8.596783   23.322453    6.860353    0.253994    0.115878    0.702617   \n",
       "min      0.006320    0.000000    0.460000    0.000000    0.385000    3.561000   \n",
       "25%      0.082045    0.000000    5.190000    0.000000    0.449000    5.885500   \n",
       "50%      0.256510    0.000000    9.690000    0.000000    0.538000    6.208500   \n",
       "75%      3.647423   12.500000   18.100000    0.000000    0.624000    6.623500   \n",
       "max     88.976200  100.000000   27.740000    1.000000    0.871000    8.780000   \n",
       "\n",
       "              AGE         DIS         RAD         TAX     PTRATIO           B  \\\n",
       "count  506.000000  506.000000  506.000000  506.000000  506.000000  506.000000   \n",
       "mean    68.574901    3.795043    9.549407  408.237154   18.455534  356.674032   \n",
       "std     28.148861    2.105710    8.707259  168.537116    2.164946   91.294864   \n",
       "min      2.900000    1.129600    1.000000  187.000000   12.600000    0.320000   \n",
       "25%     45.025000    2.100175    4.000000  279.000000   17.400000  375.377500   \n",
       "50%     77.500000    3.207450    5.000000  330.000000   19.050000  391.440000   \n",
       "75%     94.075000    5.188425   24.000000  666.000000   20.200000  396.225000   \n",
       "max    100.000000   12.126500   24.000000  711.000000   22.000000  396.900000   \n",
       "\n",
       "            LSTAT       PRICE  \n",
       "count  506.000000  506.000000  \n",
       "mean    12.653063   22.532806  \n",
       "std      7.141062    9.197104  \n",
       "min      1.730000    5.000000  \n",
       "25%      6.950000   17.025000  \n",
       "50%     11.360000   21.200000  \n",
       "75%     16.955000   25.000000  \n",
       "max     37.970000   50.000000  "
      ]
     },
     "execution_count": 11,
     "metadata": {},
     "output_type": "execute_result"
    }
   ],
   "source": [
    "bos.describe()"
   ]
  },
  {
   "cell_type": "markdown",
   "metadata": {},
   "source": [
    "### Scatterplots\n",
    "***\n",
    "\n",
    "Let's look at some scatter plots for three variables: 'CRIM' (per capita crime rate), 'RM' (number of rooms) and 'PTRATIO' (pupil-to-teacher ratio in schools).  "
   ]
  },
  {
   "cell_type": "code",
   "execution_count": 12,
   "metadata": {
    "collapsed": true
   },
   "outputs": [
    {
     "data": {
      "text/plain": [
       "Text(0.5,1,'Relationship between CRIM and Price')"
      ]
     },
     "execution_count": 12,
     "metadata": {},
     "output_type": "execute_result"
    },
    {
     "data": {
      "image/png": "[encoded data removed]",
      "text/plain": [
       "<Figure size 432x288 with 1 Axes>"
      ]
     },
     "metadata": {},
     "output_type": "display_data"
    }
   ],
   "source": [
    "plt.scatter(bos.CRIM, bos.PRICE)\n",
    "plt.xlabel(\"Per capita crime rate by town (CRIM)\")\n",
    "plt.ylabel(\"Housing Price\")\n",
    "plt.title(\"Relationship between CRIM and Price\")"
   ]
  },
  {
   "cell_type": "markdown",
   "metadata": {},
   "source": [
    "<h3>Part 2 Checkup Exercise Set I</h3>\n",
    "\n",
    "<p><b>Exercise:</b> What kind of relationship do you see? e.g. positive, negative?  linear? non-linear? Is there anything else strange or interesting about the data? What about outliers?</p>"
   ]
  },
  {
   "cell_type": "markdown",
   "metadata": {},
   "source": [
    "Looking at the above graph, there could be a negative correlation between *local crime rate* and *housing price*. There are a lot of data points stacking up on the *x-axis 0* indicating A.) possible missing or erroneuos *CRIM* data, B.) a non-linear, exponential relationship, or C.) a large spread within the *CRIM* data that could be rescaled with a log function."
   ]
  },
  {
   "cell_type": "markdown",
   "metadata": {},
   "source": [
    "<p><b>Exercise:</b> Create scatter plots between *RM* and *PRICE*, and *PTRATIO* and *PRICE*. Label your axes appropriately using human readable labels. Tell a story about what you see.</p>"
   ]
  },
  {
   "cell_type": "code",
   "execution_count": 13,
   "metadata": {
    "collapsed": true
   },
   "outputs": [
    {
     "data": {
      "text/plain": [
       "Text(0.5,1,'Relationship between RM and Price')"
      ]
     },
     "execution_count": 13,
     "metadata": {},
     "output_type": "execute_result"
    },
    {
     "data": {
      "image/png": "[encoded data removed]",
      "text/plain": [
       "<Figure size 432x288 with 1 Axes>"
      ]
     },
     "metadata": {},
     "output_type": "display_data"
    }
   ],
   "source": [
    "# your turn: scatter plot between *RM* and *PRICE*\n",
    "plt.scatter(bos.RM, bos.PRICE)\n",
    "plt.xlabel(\"Average number of rooms per dwelling (RM)\")\n",
    "plt.ylabel(\"Housing Price\")\n",
    "plt.title(\"Relationship between RM and Price\")"
   ]
  },
  {
   "cell_type": "markdown",
   "metadata": {},
   "source": [
    "Looking at the above graph, there could be a strong positve linear correlation between *number of rooms* and *housing price*."
   ]
  },
  {
   "cell_type": "code",
   "execution_count": 14,
   "metadata": {
    "collapsed": true
   },
   "outputs": [
    {
     "data": {
      "text/plain": [
       "Text(0.5,1,'Relationship between PTRATIO and Price')"
      ]
     },
     "execution_count": 14,
     "metadata": {},
     "output_type": "execute_result"
    },
    {
     "data": {
      "image/png": "[encoded data removed]",
      "text/plain": [
       "<Figure size 432x288 with 1 Axes>"
      ]
     },
     "metadata": {},
     "output_type": "display_data"
    }
   ],
   "source": [
    "# your turn: scatter plot between *PTRATIO* and *PRICE*\n",
    "plt.scatter(bos.PTRATIO, bos.PRICE)\n",
    "plt.xlabel(\"Pupil-teacher ratio by town (PTRATIO)\")\n",
    "plt.ylabel(\"Housing Price\")\n",
    "plt.title(\"Relationship between PTRATIO and Price\")"
   ]
  },
  {
   "cell_type": "markdown",
   "metadata": {},
   "source": [
    "Looking at the above graph, there may not be a correlation between *local pupil-teacher ratio* and *housing price* as the data points are all over the graph."
   ]
  },
  {
   "cell_type": "markdown",
   "metadata": {},
   "source": [
    "<p><b>Exercise:</b> What are some other numeric variables of interest? Why do you think they are interesting? Plot scatterplots with these variables and *PRICE* (house price) and tell a story about what you see.</p>"
   ]
  },
  {
   "cell_type": "code",
   "execution_count": 15,
   "metadata": {
    "collapsed": true
   },
   "outputs": [
    {
     "data": {
      "text/plain": [
       "<matplotlib.axes._subplots.AxesSubplot at 0x2348c429cf8>"
      ]
     },
     "execution_count": 15,
     "metadata": {},
     "output_type": "execute_result"
    },
    {
     "data": {
      "image/png": "[encoded data removed]",
      "text/plain": [
       "<Figure size 432x288 with 2 Axes>"
      ]
     },
     "metadata": {},
     "output_type": "display_data"
    }
   ],
   "source": [
    "# your turn: create some other scatter plots\n",
    "sns.heatmap(bos.corr(), square=True, cmap=\"RdYlGn\")"
   ]
  },
  {
   "cell_type": "markdown",
   "metadata": {},
   "source": [
    "The above pairwise correlation heatmap suggests that there may also be a strong negative correlation between the *% lower status of the population (LSTAT)* and *housing price* as well as a strong positive correlation between the *weighted distances to 5 Boston employment centres (DIS)* and *housing price*."
   ]
  },
  {
   "cell_type": "code",
   "execution_count": 99,
   "metadata": {},
   "outputs": [
    {
     "data": {
      "text/plain": [
       "Text(0.5,1,'Relationship between LSTAT and Price')"
      ]
     },
     "execution_count": 99,
     "metadata": {},
     "output_type": "execute_result"
    },
    {
     "data": {
      "image/png": "[encoded data removed]",
      "text/plain": [
       "<Figure size 432x288 with 1 Axes>"
      ]
     },
     "metadata": {},
     "output_type": "display_data"
    }
   ],
   "source": [
    "# your turn: create some other scatter plots\n",
    "plt.scatter(bos.LSTAT, bos.PRICE)\n",
    "plt.xlabel(\"% lower status of the population (LSTAT)\")\n",
    "plt.ylabel(\"Housing Price\")\n",
    "plt.title(\"Relationship between LSTAT and Price\")"
   ]
  },
  {
   "cell_type": "markdown",
   "metadata": {},
   "source": [
    "Looking at the above graph, there appears to be a negative correlation between *% population status* and *housing price*"
   ]
  },
  {
   "cell_type": "code",
   "execution_count": 100,
   "metadata": {},
   "outputs": [
    {
     "data": {
      "text/plain": [
       "Text(0.5,1,'Relationship between DIS and Price')"
      ]
     },
     "execution_count": 100,
     "metadata": {},
     "output_type": "execute_result"
    },
    {
     "data": {
      "image/png": "[encoded data removed]",
      "text/plain": [
       "<Figure size 432x288 with 1 Axes>"
      ]
     },
     "metadata": {},
     "output_type": "display_data"
    }
   ],
   "source": [
    "# your turn: create some other scatter plots\n",
    "plt.scatter(bos.DIS, bos.PRICE)\n",
    "plt.xlabel(\"Weighted distances to 5 Boston employment centres (DIS)\")\n",
    "plt.ylabel(\"Housing Price\")\n",
    "plt.title(\"Relationship between DIS and Price\")"
   ]
  },
  {
   "cell_type": "markdown",
   "metadata": {},
   "source": [
    "Looking at the above graph, there could be a positive linear correlation between the *distance to employment centers* and *housing price*"
   ]
  },
  {
   "cell_type": "markdown",
   "metadata": {},
   "source": [
    "### Scatterplots using Seaborn\n",
    "***\n",
    "\n",
    "[Seaborn](https://stanford.edu/~mwaskom/software/seaborn/) is a cool Python plotting library built on top of matplotlib. It provides convenient syntax and shortcuts for many common types of plots, along with better-looking defaults.\n",
    "\n",
    "We can also use [seaborn regplot](https://stanford.edu/~mwaskom/software/seaborn/tutorial/regression.html#functions-to-draw-linear-regression-models) for the scatterplot above. This provides automatic linear regression fits (useful for data exploration later on). Here's one example below."
   ]
  },
  {
   "cell_type": "code",
   "execution_count": 18,
   "metadata": {
    "collapsed": true
   },
   "outputs": [
    {
     "data": {
      "text/plain": [
       "<matplotlib.axes._subplots.AxesSubplot at 0x2348c5880b8>"
      ]
     },
     "execution_count": 18,
     "metadata": {},
     "output_type": "execute_result"
    },
    {
     "data": {
      "image/png": "[encoded data removed]",
      "text/plain": [
       "<Figure size 432x288 with 1 Axes>"
      ]
     },
     "metadata": {},
     "output_type": "display_data"
    }
   ],
   "source": [
    "sns.regplot(y=\"PRICE\", x=\"RM\", data=bos, fit_reg = True)"
   ]
  },
  {
   "cell_type": "markdown",
   "metadata": {},
   "source": [
    "### Histograms\n",
    "***"
   ]
  },
  {
   "cell_type": "code",
   "execution_count": 19,
   "metadata": {
    "collapsed": true
   },
   "outputs": [
    {
     "data": {
      "image/png": "[encoded data removed]",
      "text/plain": [
       "<Figure size 432x288 with 1 Axes>"
      ]
     },
     "metadata": {},
     "output_type": "display_data"
    }
   ],
   "source": [
    "plt.hist(np.log(bos.CRIM))\n",
    "plt.title(\"log(CRIM)\")\n",
    "plt.xlabel(\"Crime rate per capita\")\n",
    "plt.ylabel(\"Frequencey\")\n",
    "plt.show()"
   ]
  },
  {
   "cell_type": "markdown",
   "metadata": {},
   "source": [
    "<h3>Part 2 Checkup Exercise Set II</h3>\n",
    "\n",
    "<p><b>Exercise:</b> In the above histogram, we took the logarithm of the crime rate per capita. Repeat this histogram without taking the log. What was the purpose of taking the log? What do we gain by making this transformation? What do you now notice about this variable that is not obvious without making the transformation?"
   ]
  },
  {
   "cell_type": "code",
   "execution_count": 20,
   "metadata": {
    "collapsed": true
   },
   "outputs": [
    {
     "data": {
      "image/png": "[encoded data removed]",
      "text/plain": [
       "<Figure size 432x288 with 1 Axes>"
      ]
     },
     "metadata": {},
     "output_type": "display_data"
    }
   ],
   "source": [
    "#your turn\n",
    "plt.hist(bos.CRIM)\n",
    "plt.title(\"CRIM\")\n",
    "plt.xlabel(\"Crime rate per capita\")\n",
    "plt.ylabel(\"Frequencey\")\n",
    "plt.show()"
   ]
  },
  {
   "cell_type": "markdown",
   "metadata": {},
   "source": [
    "The *CRIM* data has a large spread with most of the data occuring at the lower end. Taking the log of the *CRIM* data allowed use to rescale/transform the data which shows us a much better picture of the distribution. At first glance of the tranformed data, the distribution appears to actually be bimodal."
   ]
  },
  {
   "cell_type": "markdown",
   "metadata": {},
   "source": [
    "<p><b>Exercise:</b> Plot the histogram for *RM* and *PTRATIO* against each other, along with the two variables you picked in the previous section. We are looking for correlations in predictors here.</p>"
   ]
  },
  {
   "cell_type": "code",
   "execution_count": 21,
   "metadata": {},
   "outputs": [
    {
     "data": {
      "image/png": "[encoded data removed]",
      "text/plain": [
       "<Figure size 432x288 with 1 Axes>"
      ]
     },
     "metadata": {},
     "output_type": "display_data"
    }
   ],
   "source": [
    "plt.hist(bos.RM, density=True)\n",
    "plt.title(\"RM\")\n",
    "plt.xlabel(\"Average number of rooms per dwelling\")\n",
    "plt.ylabel(\"Frequencey\")\n",
    "plt.show()"
   ]
  },
  {
   "cell_type": "code",
   "execution_count": 22,
   "metadata": {},
   "outputs": [
    {
     "data": {
      "image/png": "[encoded data removed]",
      "text/plain": [
       "<Figure size 432x288 with 1 Axes>"
      ]
     },
     "metadata": {},
     "output_type": "display_data"
    }
   ],
   "source": [
    "plt.hist(np.log(bos.PTRATIO), density=True)\n",
    "plt.title(\"log(PTRATIO)\")\n",
    "plt.xlabel(\"Pupil-teacher ratio by town\")\n",
    "plt.ylabel(\"Frequencey\")\n",
    "plt.show()"
   ]
  },
  {
   "cell_type": "code",
   "execution_count": 23,
   "metadata": {},
   "outputs": [
    {
     "data": {
      "image/png": "[encoded data removed]",
      "text/plain": [
       "<Figure size 432x288 with 1 Axes>"
      ]
     },
     "metadata": {},
     "output_type": "display_data"
    }
   ],
   "source": [
    "plt.hist(np.log(bos.LSTAT), density=True)\n",
    "plt.title(\"log(LSTAT)\")\n",
    "plt.xlabel(\"% lower status of the population\")\n",
    "plt.ylabel(\"Frequencey\")\n",
    "plt.show()"
   ]
  },
  {
   "cell_type": "code",
   "execution_count": 104,
   "metadata": {},
   "outputs": [
    {
     "data": {
      "image/png": "[encoded data removed]",
      "text/plain": [
       "<Figure size 432x288 with 1 Axes>"
      ]
     },
     "metadata": {},
     "output_type": "display_data"
    }
   ],
   "source": [
    "plt.hist(np.log(bos.DIS), density=True)\n",
    "plt.title(\"log(DIS)\")\n",
    "plt.xlabel(\"Weighted distances to 5 Boston employment centres\")\n",
    "plt.ylabel(\"Frequencey\")\n",
    "plt.show()"
   ]
  },
  {
   "cell_type": "markdown",
   "metadata": {},
   "source": [
    "## Part 3: Linear Regression with Boston Housing Data Example\n",
    "***\n",
    "\n",
    "Here, \n",
    "\n",
    "$Y$ = boston housing prices (called \"target\" data in python, and referred to as the dependent variable or response variable)\n",
    "\n",
    "and\n",
    "\n",
    "$X$ = all the other features (or independent variables, predictors or explanatory variables)\n",
    "\n",
    "which we will use to fit a linear regression model and predict Boston housing prices. We will use the least-squares method to estimate the coefficients.  "
   ]
  },
  {
   "cell_type": "markdown",
   "metadata": {},
   "source": [
    "We'll use two ways of fitting a linear regression. We recommend the first but the second is also powerful in its features."
   ]
  },
  {
   "cell_type": "markdown",
   "metadata": {},
   "source": [
    "### Fitting Linear Regression using `statsmodels`\n",
    "***\n",
    "[Statsmodels](http://statsmodels.sourceforge.net/) is a great Python library for a lot of basic and inferential statistics. It also provides basic regression functions using an R-like syntax, so it's commonly used by statisticians. While we don't cover statsmodels officially in the Data Science Intensive workshop, it's a good library to have in your toolbox. Here's a quick example of what you could do with it. The version of least-squares we will use in statsmodels is called *ordinary least-squares (OLS)*. There are many other versions of least-squares such as [partial least squares (PLS)](https://en.wikipedia.org/wiki/Partial_least_squares_regression) and [weighted least squares (WLS)](https://en.wikipedia.org/wiki/Iteratively_reweighted_least_squares)."
   ]
  },
  {
   "cell_type": "code",
   "execution_count": 25,
   "metadata": {
    "collapsed": true
   },
   "outputs": [],
   "source": [
    "# Import regression modules\n",
    "import statsmodels.api as sm\n",
    "from statsmodels.formula.api import ols"
   ]
  },
  {
   "cell_type": "code",
   "execution_count": 26,
   "metadata": {
    "collapsed": true
   },
   "outputs": [
    {
     "name": "stdout",
     "output_type": "stream",
     "text": [
      "                            OLS Regression Results                            \n",
      "==============================================================================\n",
      "Dep. Variable:                  PRICE   R-squared:                       0.484\n",
      "Model:                            OLS   Adj. R-squared:                  0.483\n",
      "Method:                 Least Squares   F-statistic:                     471.8\n",
      "Date:                Mon, 02 Jul 2018   Prob (F-statistic):           2.49e-74\n",
      "Time:                        09:40:00   Log-Likelihood:                -1673.1\n",
      "No. Observations:                 506   AIC:                             3350.\n",
      "Df Residuals:                     504   BIC:                             3359.\n",
      "Df Model:                           1                                         \n",
      "Covariance Type:            nonrobust                                         \n",
      "==============================================================================\n",
      "                 coef    std err          t      P>|t|      [0.025      0.975]\n",
      "------------------------------------------------------------------------------\n",
      "Intercept    -34.6706      2.650    -13.084      0.000     -39.877     -29.465\n",
      "RM             9.1021      0.419     21.722      0.000       8.279       9.925\n",
      "==============================================================================\n",
      "Omnibus:                      102.585   Durbin-Watson:                   0.684\n",
      "Prob(Omnibus):                  0.000   Jarque-Bera (JB):              612.449\n",
      "Skew:                           0.726   Prob(JB):                    1.02e-133\n",
      "Kurtosis:                       8.190   Cond. No.                         58.4\n",
      "==============================================================================\n",
      "\n",
      "Warnings:\n",
      "[1] Standard Errors assume that the covariance matrix of the errors is correctly specified.\n"
     ]
    }
   ],
   "source": [
    "# statsmodels works nicely with pandas dataframes\n",
    "# The thing inside the \"quotes\" is called a formula, a bit on that below\n",
    "m = ols('PRICE ~ RM',bos).fit()\n",
    "print(m.summary())"
   ]
  },
  {
   "cell_type": "markdown",
   "metadata": {},
   "source": [
    "#### Interpreting coefficients\n",
    "\n",
    "There is a ton of information in this output. But we'll concentrate on the coefficient table (middle table). We can interpret the `RM` coefficient (9.1021) by first noticing that the p-value (under `P>|t|`) is so small, basically zero. This means that the number of rooms, `RM`, is a statisticall significant predictor of `PRICE`. The regression coefficient for `RM` of 9.1021 means that *on average, each additional room is associated with an increase of $\\$9,100$ in house price net of the other variables*. The confidence interval gives us a range of plausible values for this average change, about ($\\$8,279, \\$9,925$), definitely not chump change. \n",
    "\n",
    "In general, the $\\hat{\\beta_i}, i > 0$ can be interpreted as the following: \"A one unit increase in $x_i$ is associated with, on average, a $\\hat{\\beta_i}$ increase/decrease in $y$ net of all other variables.\"\n",
    "\n",
    "On the other hand, the interpretation for the intercept, $\\hat{\\beta}_0$ is the average of $y$ given that all of the independent variables $x_i$ are 0."
   ]
  },
  {
   "cell_type": "markdown",
   "metadata": {},
   "source": [
    "####  `statsmodels` formulas\n",
    "***\n",
    "This formula notation will seem familiar to `R` users, but will take some getting used to for people coming from other languages or are new to statistics.\n",
    "\n",
    "The formula gives instruction for a general structure for a regression call. For `statsmodels` (`ols` or `logit`) calls you need to have a Pandas dataframe with column names that you will add to your formula. In the below example you need a pandas data frame that includes the columns named (`Outcome`, `X1`,`X2`, ...), but you don't need to build a new dataframe for every regression. Use the same dataframe with all these things in it. The structure is very simple:\n",
    "\n",
    "`Outcome ~ X1`\n",
    "\n",
    "But of course we want to to be able to handle more complex models, for example multiple regression is doone like this:\n",
    "\n",
    "`Outcome ~ X1 + X2 + X3`\n",
    "\n",
    "In general, a formula for an OLS multiple linear regression is\n",
    "\n",
    "`Y ~ X1 + X2 + ... + Xp`\n",
    "\n",
    "This is the very basic structure but it should be enough to get you through the homework. Things can get much more complex. You can force statsmodels to treat variables as categorical with the `C()` function, call numpy functions to transform data such as `np.log` for extremely-skewed data, or fit a model without an intercept by including `- 1` in the formula. For a quick run-down of further uses see the `statsmodels` [help page](http://statsmodels.sourceforge.net/devel/example_formulas.html)."
   ]
  },
  {
   "cell_type": "markdown",
   "metadata": {},
   "source": [
    "Let's see how our model actually fit our data. We can see below that there is a ceiling effect, we should probably look into that. Also, for large values of $Y$ we get underpredictions, most predictions are below the 45-degree gridlines. "
   ]
  },
  {
   "cell_type": "markdown",
   "metadata": {},
   "source": [
    "<div class=\"span5 alert alert-info\">\n",
    "<h3>Part 3 Checkup Exercise Set I</h3>\n",
    "\n",
    "<p><b>Exercise:</b> Create a scatterplot between the predicted prices, available in `m.fittedvalues` (where `m` is the fitted model) and the original prices. How does the plot look? Do you notice anything interesting or weird in the plot? Comment on what you see.</p>\n",
    "</div>"
   ]
  },
  {
   "cell_type": "code",
   "execution_count": 27,
   "metadata": {
    "collapsed": true
   },
   "outputs": [
    {
     "data": {
      "text/plain": [
       "Text(0.5,1,'Inspection of Model Performance')"
      ]
     },
     "execution_count": 27,
     "metadata": {},
     "output_type": "execute_result"
    },
    {
     "data": {
      "image/png": "[encoded data removed]",
      "text/plain": [
       "<Figure size 432x288 with 1 Axes>"
      ]
     },
     "metadata": {},
     "output_type": "display_data"
    }
   ],
   "source": [
    "# your turn\n",
    "plt.scatter(m.fittedvalues, bos.PRICE)\n",
    "plt.xlabel(\"Modeled Housing Price\")\n",
    "plt.ylabel(\"Acutal Housing Price\")\n",
    "plt.title(\"Inspection of Model Performance\")"
   ]
  },
  {
   "cell_type": "markdown",
   "metadata": {},
   "source": [
    "This plot looks very similar to the *Relationship between RM and Price* plot from above."
   ]
  },
  {
   "cell_type": "markdown",
   "metadata": {},
   "source": [
    "### Fitting Linear Regression using `sklearn`"
   ]
  },
  {
   "cell_type": "code",
   "execution_count": 28,
   "metadata": {
    "collapsed": true
   },
   "outputs": [
    {
     "data": {
      "text/plain": [
       "LinearRegression(copy_X=True, fit_intercept=True, n_jobs=1, normalize=False)"
      ]
     },
     "execution_count": 28,
     "metadata": {},
     "output_type": "execute_result"
    }
   ],
   "source": [
    "from sklearn.linear_model import LinearRegression\n",
    "\n",
    "# This creates a LinearRegression object\n",
    "lm = LinearRegression()\n",
    "lm"
   ]
  },
  {
   "cell_type": "markdown",
   "metadata": {},
   "source": [
    "#### What can you do with a LinearRegression object? \n",
    "***\n",
    "Check out the scikit-learn [docs here](http://scikit-learn.org/stable/modules/generated/sklearn.linear_model.LinearRegression.html). We have listed the main functions here. Most machine learning models in scikit-learn follow this same API of fitting a model with `fit`, making predictions with `predict` and the appropriate scoring function `score` for each model."
   ]
  },
  {
   "cell_type": "markdown",
   "metadata": {},
   "source": [
    "Main functions | Description\n",
    "--- | --- \n",
    "`lm.fit()` | Fit a linear model\n",
    "`lm.predit()` | Predict Y using the linear model with estimated coefficients\n",
    "`lm.score()` | Returns the coefficient of determination (R^2). *A measure of how well observed outcomes are replicated by the model, as the proportion of total variation of outcomes explained by the model*"
   ]
  },
  {
   "cell_type": "markdown",
   "metadata": {},
   "source": [
    "#### What output can you get?"
   ]
  },
  {
   "cell_type": "code",
   "execution_count": 29,
   "metadata": {
    "collapsed": true
   },
   "outputs": [
    {
     "data": {
      "text/plain": [
       "['__abstractmethods__',\n",
       " '__class__',\n",
       " '__delattr__',\n",
       " '__dict__',\n",
       " '__dir__',\n",
       " '__doc__',\n",
       " '__eq__',\n",
       " '__format__',\n",
       " '__ge__',\n",
       " '__getattribute__',\n",
       " '__getstate__',\n",
       " '__gt__',\n",
       " '__hash__',\n",
       " '__init__',\n",
       " '__init_subclass__',\n",
       " '__le__',\n",
       " '__lt__',\n",
       " '__module__',\n",
       " '__ne__',\n",
       " '__new__',\n",
       " '__reduce__',\n",
       " '__reduce_ex__',\n",
       " '__repr__',\n",
       " '__setattr__',\n",
       " '__setstate__',\n",
       " '__sizeof__',\n",
       " '__str__',\n",
       " '__subclasshook__',\n",
       " '__weakref__',\n",
       " '_abc_cache',\n",
       " '_abc_negative_cache',\n",
       " '_abc_negative_cache_version',\n",
       " '_abc_registry',\n",
       " '_decision_function',\n",
       " '_estimator_type',\n",
       " '_get_param_names',\n",
       " '_preprocess_data',\n",
       " '_set_intercept',\n",
       " 'copy_X',\n",
       " 'fit',\n",
       " 'fit_intercept',\n",
       " 'get_params',\n",
       " 'n_jobs',\n",
       " 'normalize',\n",
       " 'predict',\n",
       " 'score',\n",
       " 'set_params']"
      ]
     },
     "execution_count": 29,
     "metadata": {},
     "output_type": "execute_result"
    }
   ],
   "source": [
    "# Look inside lm object\n",
    "dir(lm)"
   ]
  },
  {
   "cell_type": "markdown",
   "metadata": {},
   "source": [
    "Output | Description\n",
    "--- | --- \n",
    "`lm.coef_` | Estimated coefficients\n",
    "`lm.intercept_` | Estimated intercept "
   ]
  },
  {
   "cell_type": "markdown",
   "metadata": {},
   "source": [
    "### Fit a linear model\n",
    "***\n",
    "\n",
    "The `lm.fit()` function estimates the coefficients the linear regression using least squares. "
   ]
  },
  {
   "cell_type": "code",
   "execution_count": 68,
   "metadata": {
    "collapsed": true
   },
   "outputs": [
    {
     "data": {
      "text/plain": [
       "0.7406077428649428"
      ]
     },
     "execution_count": 68,
     "metadata": {},
     "output_type": "execute_result"
    }
   ],
   "source": [
    "# Use all 13 predictors to fit linear regression model\n",
    "y = bos.PRICE\n",
    "X = bos.drop('PRICE', axis = 1)\n",
    "\n",
    "lm.fit(X, y)\n",
    "lm.score(X, y)"
   ]
  },
  {
   "cell_type": "markdown",
   "metadata": {},
   "source": [
    "<h3>Part 3 Checkup Exercise Set II</h3>\n",
    "\n",
    "<p><b>Exercise:</b> How would you change the model to not fit an intercept term? Would you recommend not having an intercept? Why or why not? For more information on why to include or exclude an intercept, look [here](https://stats.idre.ucla.edu/other/mult-pkg/faq/general/faq-what-is-regression-through-the-origin/).</p>"
   ]
  },
  {
   "cell_type": "code",
   "execution_count": 70,
   "metadata": {
    "collapsed": true
   },
   "outputs": [
    {
     "name": "stdout",
     "output_type": "stream",
     "text": [
      "Estimated intercept coefficient: 0.0\n"
     ]
    },
    {
     "data": {
      "text/plain": [
       "0.7136639021041447"
      ]
     },
     "execution_count": 70,
     "metadata": {},
     "output_type": "execute_result"
    }
   ],
   "source": [
    "# your turn\n",
    "lm_no_intercept = LinearRegression(fit_intercept=False)\n",
    "lm_no_intercept.fit(X, y)\n",
    "print('Estimated intercept coefficient: {}'.format(lm_no_intercept.intercept_))\n",
    "lm_no_intercept.score(X, y)"
   ]
  },
  {
   "cell_type": "markdown",
   "metadata": {},
   "source": [
    "I recommend having an intercept for this specific problem because there will probably be a *base market value* $\\beta_0$ of a house that will need to be added to the resulting predictions. The approximation of this *base market value* $\\hat{\\beta}_0$ is a parameter of interest to this specific problem as well."
   ]
  },
  {
   "cell_type": "markdown",
   "metadata": {},
   "source": [
    "<p><b>Exercise:</b> One of the assumptions of the linear model is that the residuals must be i.i.d. (independently and identically distributed). To satisfy this, is it enough that the residuals are normally distributed? Explain your answer.</p>"
   ]
  },
  {
   "cell_type": "markdown",
   "metadata": {},
   "source": [
    "No, it is not enough the the residuals be normally distributed. They should also be homoscedastic (near constant varaince across the range) and non autocorrelated (one independent variable is not related to another independent variable)."
   ]
  },
  {
   "cell_type": "markdown",
   "metadata": {},
   "source": [
    "<p><b>Exercise:</b> True or false. To use linear regression, $Y$ must be normally distributed. Explain your answer.</p>"
   ]
  },
  {
   "cell_type": "code",
   "execution_count": 33,
   "metadata": {},
   "outputs": [
    {
     "data": {
      "image/png": "[encoded data removed]",
      "text/plain": [
       "<Figure size 432x288 with 1 Axes>"
      ]
     },
     "metadata": {},
     "output_type": "display_data"
    }
   ],
   "source": [
    "plt.hist(y , density=True)\n",
    "plt.title(\"Actual Housing Price\")\n",
    "plt.xlabel(\"$1,000's\")\n",
    "plt.ylabel(\"Frequencey\")\n",
    "plt.show()"
   ]
  },
  {
   "cell_type": "markdown",
   "metadata": {},
   "source": [
    "False, it is not a mandatory requirement that the response observations be normally distributed to utilize a linear regression model. The independent variable(s) need to be somewhat normally distributed as we are trying to find coefficients for the independent variable(s) that predict the response varaible."
   ]
  },
  {
   "cell_type": "markdown",
   "metadata": {},
   "source": [
    "### Estimated intercept and coefficients\n",
    "\n",
    "Let's look at the estimated coefficients from the linear model using `1m.intercept_` and `lm.coef_`.  \n",
    "\n",
    "After we have fit our linear regression model using the least squares method, we want to see what are the estimates of our coefficients $\\beta_0$, $\\beta_1$, ..., $\\beta_{13}$: \n",
    "\n",
    "$$ \\hat{\\beta}_0, \\hat{\\beta}_1, \\ldots, \\hat{\\beta}_{13} $$"
   ]
  },
  {
   "cell_type": "code",
   "execution_count": 34,
   "metadata": {
    "collapsed": true
   },
   "outputs": [
    {
     "name": "stdout",
     "output_type": "stream",
     "text": [
      "Estimated intercept coefficient: 36.49110328036092\n"
     ]
    }
   ],
   "source": [
    "print('Estimated intercept coefficient: {}'.format(lm.intercept_))"
   ]
  },
  {
   "cell_type": "code",
   "execution_count": 35,
   "metadata": {
    "collapsed": true
   },
   "outputs": [
    {
     "name": "stdout",
     "output_type": "stream",
     "text": [
      "Number of coefficients: 13\n"
     ]
    }
   ],
   "source": [
    "print('Number of coefficients: {}'.format(len(lm.coef_)))"
   ]
  },
  {
   "cell_type": "code",
   "execution_count": 57,
   "metadata": {
    "collapsed": true
   },
   "outputs": [
    {
     "data": {
      "text/html": [
       "<div>\n",
       "<style scoped>\n",
       "    .dataframe tbody tr th:only-of-type {\n",
       "        vertical-align: middle;\n",
       "    }\n",
       "\n",
       "    .dataframe tbody tr th {\n",
       "        vertical-align: top;\n",
       "    }\n",
       "\n",
       "    .dataframe thead th {\n",
       "        text-align: right;\n",
       "    }\n",
       "</style>\n",
       "<table border=\"1\" class=\"dataframe\">\n",
       "  <thead>\n",
       "    <tr style=\"text-align: right;\">\n",
       "      <th></th>\n",
       "      <th>features</th>\n",
       "      <th>estimatedCoefficients</th>\n",
       "    </tr>\n",
       "  </thead>\n",
       "  <tbody>\n",
       "    <tr>\n",
       "      <th>0</th>\n",
       "      <td>CRIM</td>\n",
       "      <td>-0.107171</td>\n",
       "    </tr>\n",
       "    <tr>\n",
       "      <th>1</th>\n",
       "      <td>ZN</td>\n",
       "      <td>0.046395</td>\n",
       "    </tr>\n",
       "    <tr>\n",
       "      <th>2</th>\n",
       "      <td>INDUS</td>\n",
       "      <td>0.020860</td>\n",
       "    </tr>\n",
       "    <tr>\n",
       "      <th>3</th>\n",
       "      <td>CHAS</td>\n",
       "      <td>2.688561</td>\n",
       "    </tr>\n",
       "    <tr>\n",
       "      <th>4</th>\n",
       "      <td>NOX</td>\n",
       "      <td>-17.795759</td>\n",
       "    </tr>\n",
       "    <tr>\n",
       "      <th>5</th>\n",
       "      <td>RM</td>\n",
       "      <td>3.804752</td>\n",
       "    </tr>\n",
       "    <tr>\n",
       "      <th>6</th>\n",
       "      <td>AGE</td>\n",
       "      <td>0.000751</td>\n",
       "    </tr>\n",
       "    <tr>\n",
       "      <th>7</th>\n",
       "      <td>DIS</td>\n",
       "      <td>-1.475759</td>\n",
       "    </tr>\n",
       "    <tr>\n",
       "      <th>8</th>\n",
       "      <td>RAD</td>\n",
       "      <td>0.305655</td>\n",
       "    </tr>\n",
       "    <tr>\n",
       "      <th>9</th>\n",
       "      <td>TAX</td>\n",
       "      <td>-0.012329</td>\n",
       "    </tr>\n",
       "    <tr>\n",
       "      <th>10</th>\n",
       "      <td>PTRATIO</td>\n",
       "      <td>-0.953464</td>\n",
       "    </tr>\n",
       "    <tr>\n",
       "      <th>11</th>\n",
       "      <td>B</td>\n",
       "      <td>0.009393</td>\n",
       "    </tr>\n",
       "    <tr>\n",
       "      <th>12</th>\n",
       "      <td>LSTAT</td>\n",
       "      <td>-0.525467</td>\n",
       "    </tr>\n",
       "  </tbody>\n",
       "</table>\n",
       "</div>"
      ],
      "text/plain": [
       "   features  estimatedCoefficients\n",
       "0      CRIM              -0.107171\n",
       "1        ZN               0.046395\n",
       "2     INDUS               0.020860\n",
       "3      CHAS               2.688561\n",
       "4       NOX             -17.795759\n",
       "5        RM               3.804752\n",
       "6       AGE               0.000751\n",
       "7       DIS              -1.475759\n",
       "8       RAD               0.305655\n",
       "9       TAX              -0.012329\n",
       "10  PTRATIO              -0.953464\n",
       "11        B               0.009393\n",
       "12    LSTAT              -0.525467"
      ]
     },
     "execution_count": 57,
     "metadata": {},
     "output_type": "execute_result"
    }
   ],
   "source": [
    "# The coefficients\n",
    "pd.DataFrame({'features': X.columns, 'estimatedCoefficients': lm.coef_})[['features', 'estimatedCoefficients']]"
   ]
  },
  {
   "cell_type": "code",
   "execution_count": 92,
   "metadata": {},
   "outputs": [
    {
     "name": "stdout",
     "output_type": "stream",
     "text": [
      "                            OLS Regression Results                            \n",
      "==============================================================================\n",
      "Dep. Variable:                  PRICE   R-squared:                       0.741\n",
      "Model:                            OLS   Adj. R-squared:                  0.734\n",
      "Method:                 Least Squares   F-statistic:                     108.1\n",
      "Date:                Mon, 02 Jul 2018   Prob (F-statistic):          6.95e-135\n",
      "Time:                        12:07:16   Log-Likelihood:                -1498.8\n",
      "No. Observations:                 506   AIC:                             3026.\n",
      "Df Residuals:                     492   BIC:                             3085.\n",
      "Df Model:                          13                                         \n",
      "Covariance Type:            nonrobust                                         \n",
      "==============================================================================\n",
      "                 coef    std err          t      P>|t|      [0.025      0.975]\n",
      "------------------------------------------------------------------------------\n",
      "Intercept     36.4911      5.104      7.149      0.000      26.462      46.520\n",
      "CRIM          -0.1072      0.033     -3.276      0.001      -0.171      -0.043\n",
      "ZN             0.0464      0.014      3.380      0.001       0.019       0.073\n",
      "INDUS          0.0209      0.061      0.339      0.735      -0.100       0.142\n",
      "CHAS           2.6886      0.862      3.120      0.002       0.996       4.381\n",
      "NOX          -17.7958      3.821     -4.658      0.000     -25.302     -10.289\n",
      "RM             3.8048      0.418      9.102      0.000       2.983       4.626\n",
      "AGE            0.0008      0.013      0.057      0.955      -0.025       0.027\n",
      "DIS           -1.4758      0.199     -7.398      0.000      -1.868      -1.084\n",
      "RAD            0.3057      0.066      4.608      0.000       0.175       0.436\n",
      "TAX           -0.0123      0.004     -3.278      0.001      -0.020      -0.005\n",
      "PTRATIO       -0.9535      0.131     -7.287      0.000      -1.211      -0.696\n",
      "B              0.0094      0.003      3.500      0.001       0.004       0.015\n",
      "LSTAT         -0.5255      0.051    -10.366      0.000      -0.625      -0.426\n",
      "==============================================================================\n",
      "Omnibus:                      178.029   Durbin-Watson:                   1.078\n",
      "Prob(Omnibus):                  0.000   Jarque-Bera (JB):              782.015\n",
      "Skew:                           1.521   Prob(JB):                    1.54e-170\n",
      "Kurtosis:                       8.276   Cond. No.                     1.51e+04\n",
      "==============================================================================\n",
      "\n",
      "Warnings:\n",
      "[1] Standard Errors assume that the covariance matrix of the errors is correctly specified.\n",
      "[2] The condition number is large, 1.51e+04. This might indicate that there are\n",
      "strong multicollinearity or other numerical problems.\n"
     ]
    }
   ],
   "source": [
    "m = ols('PRICE ~ CRIM + ZN + INDUS + CHAS + NOX + RM + AGE + DIS + RAD + TAX + PTRATIO + B + LSTAT',bos).fit()\n",
    "print(m.summary())"
   ]
  },
  {
   "cell_type": "markdown",
   "metadata": {},
   "source": [
    "### Predict Prices \n",
    "\n",
    "We can calculate the predicted prices ($\\hat{Y}_i$) using `lm.predict`. \n",
    "\n",
    "$$ \\hat{Y}_i = \\hat{\\beta}_0 + \\hat{\\beta}_1 X_1 + \\ldots \\hat{\\beta}_{13} X_{13} $$"
   ]
  },
  {
   "cell_type": "code",
   "execution_count": 37,
   "metadata": {
    "collapsed": true
   },
   "outputs": [
    {
     "data": {
      "text/plain": [
       "array([30.00821269, 25.0298606 , 30.5702317 , 28.60814055, 27.94288232])"
      ]
     },
     "execution_count": 37,
     "metadata": {},
     "output_type": "execute_result"
    }
   ],
   "source": [
    "# first five predicted prices\n",
    "lm.predict(X)[0:5]"
   ]
  },
  {
   "cell_type": "markdown",
   "metadata": {},
   "source": [
    "<h3>Part 3 Checkup Exercise Set III</h3>\n",
    "\n",
    "<p><b>Exercise:</b> Histogram: Plot a histogram of all the predicted prices. Write a story about what you see. Describe the shape, center and spread of the distribution. Are there any outliers? What might be the reason for them? Should we do anything special with them?</p>"
   ]
  },
  {
   "cell_type": "code",
   "execution_count": 67,
   "metadata": {
    "collapsed": true
   },
   "outputs": [
    {
     "name": "stdout",
     "output_type": "stream",
     "text": [
      "This is the format of your plot grid:\n",
      "[ (1,1) x1,y1 ]\n",
      "[ (2,1) x1,y2 ]\n",
      "\n"
     ]
    },
    {
     "data": {
      "application/vnd.plotly.v1+json": {
       "data": [
        {
         "boxmean": "sd",
         "name": "Actual Value",
         "type": "box",
         "uid": "c621c9",
         "x": [
          24,
          21.6,
          34.7,
          33.4,
          36.2,
          28.7,
          22.9,
          27.1,
          16.5,
          18.9,
          15,
          18.9,
          21.7,
          20.4,
          18.2,
          19.9,
          23.1,
          17.5,
          20.2,
          18.2,
          13.6,
          19.6,
          15.2,
          14.5,
          15.6,
          13.9,
          16.6,
          14.8,
          18.4,
          21,
          12.7,
          14.5,
          13.2,
          13.1,
          13.5,
          18.9,
          20,
          21,
          24.7,
          30.8,
          34.9,
          26.6,
          25.3,
          24.7,
          21.2,
          19.3,
          20,
          16.6,
          14.4,
          19.4,
          19.7,
          20.5,
          25,
          23.4,
          18.9,
          35.4,
          24.7,
          31.6,
          23.3,
          19.6,
          18.7,
          16,
          22.2,
          25,
          33,
          23.5,
          19.4,
          22,
          17.4,
          20.9,
          24.2,
          21.7,
          22.8,
          23.4,
          24.1,
          21.4,
          20,
          20.8,
          21.2,
          20.3,
          28,
          23.9,
          24.8,
          22.9,
          23.9,
          26.6,
          22.5,
          22.2,
          23.6,
          28.7,
          22.6,
          22,
          22.9,
          25,
          20.6,
          28.4,
          21.4,
          38.7,
          43.8,
          33.2,
          27.5,
          26.5,
          18.6,
          19.3,
          20.1,
          19.5,
          19.5,
          20.4,
          19.8,
          19.4,
          21.7,
          22.8,
          18.8,
          18.7,
          18.5,
          18.3,
          21.2,
          19.2,
          20.4,
          19.3,
          22,
          20.3,
          20.5,
          17.3,
          18.8,
          21.4,
          15.7,
          16.2,
          18,
          14.3,
          19.2,
          19.6,
          23,
          18.4,
          15.6,
          18.1,
          17.4,
          17.1,
          13.3,
          17.8,
          14,
          14.4,
          13.4,
          15.6,
          11.8,
          13.8,
          15.6,
          14.6,
          17.8,
          15.4,
          21.5,
          19.6,
          15.3,
          19.4,
          17,
          15.6,
          13.1,
          41.3,
          24.3,
          23.3,
          27,
          50,
          50,
          50,
          22.7,
          25,
          50,
          23.8,
          23.8,
          22.3,
          17.4,
          19.1,
          23.1,
          23.6,
          22.6,
          29.4,
          23.2,
          24.6,
          29.9,
          37.2,
          39.8,
          36.2,
          37.9,
          32.5,
          26.4,
          29.6,
          50,
          32,
          29.8,
          34.9,
          37,
          30.5,
          36.4,
          31.1,
          29.1,
          50,
          33.3,
          30.3,
          34.6,
          34.9,
          32.9,
          24.1,
          42.3,
          48.5,
          50,
          22.6,
          24.4,
          22.5,
          24.4,
          20,
          21.7,
          19.3,
          22.4,
          28.1,
          23.7,
          25,
          23.3,
          28.7,
          21.5,
          23,
          26.7,
          21.7,
          27.5,
          30.1,
          44.8,
          50,
          37.6,
          31.6,
          46.7,
          31.5,
          24.3,
          31.7,
          41.7,
          48.3,
          29,
          24,
          25.1,
          31.5,
          23.7,
          23.3,
          22,
          20.1,
          22.2,
          23.7,
          17.6,
          18.5,
          24.3,
          20.5,
          24.5,
          26.2,
          24.4,
          24.8,
          29.6,
          42.8,
          21.9,
          20.9,
          44,
          50,
          36,
          30.1,
          33.8,
          43.1,
          48.8,
          31,
          36.5,
          22.8,
          30.7,
          50,
          43.5,
          20.7,
          21.1,
          25.2,
          24.4,
          35.2,
          32.4,
          32,
          33.2,
          33.1,
          29.1,
          35.1,
          45.4,
          35.4,
          46,
          50,
          32.2,
          22,
          20.1,
          23.2,
          22.3,
          24.8,
          28.5,
          37.3,
          27.9,
          23.9,
          21.7,
          28.6,
          27.1,
          20.3,
          22.5,
          29,
          24.8,
          22,
          26.4,
          33.1,
          36.1,
          28.4,
          33.4,
          28.2,
          22.8,
          20.3,
          16.1,
          22.1,
          19.4,
          21.6,
          23.8,
          16.2,
          17.8,
          19.8,
          23.1,
          21,
          23.8,
          23.1,
          20.4,
          18.5,
          25,
          24.6,
          23,
          22.2,
          19.3,
          22.6,
          19.8,
          17.1,
          19.4,
          22.2,
          20.7,
          21.1,
          19.5,
          18.5,
          20.6,
          19,
          18.7,
          32.7,
          16.5,
          23.9,
          31.2,
          17.5,
          17.2,
          23.1,
          24.5,
          26.6,
          22.9,
          24.1,
          18.6,
          30.1,
          18.2,
          20.6,
          17.8,
          21.7,
          22.7,
          22.6,
          25,
          19.9,
          20.8,
          16.8,
          21.9,
          27.5,
          21.9,
          23.1,
          50,
          50,
          50,
          50,
          50,
          13.8,
          13.8,
          15,
          13.9,
          13.3,
          13.1,
          10.2,
          10.4,
          10.9,
          11.3,
          12.3,
          8.8,
          7.2,
          10.5,
          7.4,
          10.2,
          11.5,
          15.1,
          23.2,
          9.7,
          13.8,
          12.7,
          13.1,
          12.5,
          8.5,
          5,
          6.3,
          5.6,
          7.2,
          12.1,
          8.3,
          8.5,
          5,
          11.9,
          27.9,
          17.2,
          27.5,
          15,
          17.2,
          17.9,
          16.3,
          7,
          7.2,
          7.5,
          10.4,
          8.8,
          8.4,
          16.7,
          14.2,
          20.8,
          13.4,
          11.7,
          8.3,
          10.2,
          10.9,
          11,
          9.5,
          14.5,
          14.1,
          16.1,
          14.3,
          11.7,
          13.4,
          9.6,
          8.7,
          8.4,
          12.8,
          10.5,
          17.1,
          18.4,
          15.4,
          10.8,
          11.8,
          14.9,
          12.6,
          14.1,
          13,
          13.4,
          15.2,
          16.1,
          17.8,
          14.9,
          14.1,
          12.7,
          13.5,
          14.9,
          20,
          16.4,
          17.7,
          19.5,
          20.2,
          21.4,
          19.9,
          19,
          19.1,
          19.1,
          20.1,
          19.9,
          19.6,
          23.2,
          29.8,
          13.8,
          13.3,
          16.7,
          12,
          14.6,
          21.4,
          23,
          23.7,
          25,
          21.8,
          20.6,
          21.2,
          19.1,
          20.6,
          15.2,
          7,
          8.1,
          13.6,
          20.1,
          21.8,
          24.5,
          23.1,
          19.7,
          18.3,
          21.2,
          17.5,
          16.8,
          22.4,
          20.6,
          23.9,
          22,
          11.9
         ],
         "xaxis": "x",
         "yaxis": "y"
        },
        {
         "boxmean": "sd",
         "name": "Predicted Value",
         "type": "box",
         "uid": "bf67c1",
         "x": [
          30.008212692344756,
          25.029860603818836,
          30.570231695891646,
          28.608140549202282,
          27.942882319320482,
          25.259400479378023,
          23.004339941026476,
          19.534755802206526,
          11.516965391483517,
          18.919814830982954,
          18.995826599304017,
          21.589708537230123,
          20.905348512348343,
          19.555359306743657,
          19.283795700376352,
          19.30000174440484,
          20.528899934974156,
          16.90967489864622,
          16.17067410608401,
          18.407816357002055,
          12.52040454469752,
          17.671045654953815,
          15.829348906953452,
          13.803683172471558,
          15.677081383419104,
          13.379164499389088,
          15.462588290847116,
          14.698636070512421,
          19.54518511915653,
          20.873099453840673,
          11.448068252640876,
          18.059004122012805,
          8.788416660837228,
          14.278823185818908,
          13.690971317486198,
          23.81755468821972,
          22.342162852092372,
          23.11123203536831,
          22.914941565514056,
          31.358262156677043,
          34.214853851251306,
          28.020713197805556,
          25.20646571960052,
          24.611928505081654,
          22.94438953217324,
          22.101509452341272,
          20.424674174499206,
          18.036140221183594,
          9.101761980896345,
          17.208565708264917,
          21.2825937180538,
          23.976212484958968,
          27.658535207872575,
          24.0521087970431,
          15.35989131950003,
          31.148170025657087,
          24.858787464295183,
          33.11017110691046,
          21.774580356022373,
          21.085267388778977,
          17.872035375138363,
          18.50881381446842,
          23.98798089829796,
          22.549440982623317,
          23.37068402502882,
          30.365575842322148,
          25.53407332428452,
          21.117585038468953,
          17.424682231873323,
          20.789308603516574,
          25.203491743535196,
          21.74490594863611,
          24.56275611591346,
          24.044795191528973,
          25.50911570453636,
          23.970767582161074,
          22.948235189431525,
          23.361060946047907,
          21.264325488889455,
          22.43453759594973,
          28.40699936714843,
          26.997347160395073,
          26.038072460603107,
          25.061521247735023,
          24.7858613039581,
          27.792918891627025,
          22.169270725822543,
          25.89685663536319,
          30.677715217992073,
          30.832258860274194,
          27.12127353728805,
          27.41597825189439,
          28.945647798488725,
          29.086680032037997,
          27.04501726466009,
          28.62506705160689,
          24.730382184304244,
          35.780623783018896,
          35.11269514988105,
          32.25115467850115,
          24.579467855461008,
          25.593862148819717,
          19.76439137381572,
          20.311571167258023,
          21.435363501684567,
          18.539719683219882,
          17.18572611390747,
          20.74934949401458,
          22.64791345585938,
          19.770009770971328,
          20.64745349299572,
          26.52652691007224,
          20.774405543958196,
          20.71546432355064,
          25.174614840987996,
          20.4273652038225,
          23.378625212900033,
          23.694541450427757,
          20.33202238647935,
          20.793781392182595,
          21.920244141311372,
          22.47432005850283,
          20.55884635196586,
          16.363007643808945,
          20.563421113029655,
          22.48570454308016,
          14.612648388437016,
          15.180260696352946,
          18.938284432588766,
          14.05749549781817,
          20.036519590338454,
          19.413062879641473,
          20.064010335656675,
          15.760057721320027,
          13.247715772050157,
          17.261677290418277,
          15.877596722216119,
          19.361451043855766,
          13.81270813845903,
          16.44782934288086,
          13.56511101059547,
          3.9834397409420035,
          14.592412069109002,
          12.145030927836622,
          8.724071075866252,
          12.00815658567064,
          15.803085862626375,
          8.509639293443826,
          9.709655122812933,
          14.798480672912724,
          20.835980961589453,
          18.300170132803135,
          20.125752670765415,
          17.275856806197467,
          22.359979920343246,
          20.079851835550265,
          13.599037440531895,
          33.266352214417374,
          29.0393837862996,
          25.566945288004394,
          32.71732164152398,
          36.78111388111035,
          40.56615533011252,
          41.85122271435675,
          24.79875684466931,
          25.37715449932607,
          37.20662185455955,
          23.08244607671405,
          26.403268342127618,
          26.656474326219687,
          22.554129191715475,
          24.297094799792312,
          22.98024801972224,
          29.074883888737162,
          26.52620066220439,
          30.723512254687716,
          25.618353591220703,
          29.142032828538543,
          31.436906344554835,
          32.92329380015585,
          34.72096487191013,
          27.76792733486934,
          33.88992899202244,
          30.997258045066626,
          22.72124288469437,
          24.765676829883915,
          35.88131718886622,
          33.42696242130286,
          32.41513624871593,
          34.51611818320273,
          30.76057665877845,
          30.291698927486923,
          32.92040221182147,
          32.11459912121152,
          31.561333848230216,
          40.84274603439073,
          36.1304634256105,
          32.6663927059983,
          34.705586469871264,
          30.09276228021229,
          30.64139723682443,
          29.291897044112858,
          37.07062622817234,
          42.02879611361056,
          43.18582722398416,
          22.692388797721996,
          23.68420569227321,
          17.854352952873654,
          23.49543856582956,
          17.00872418498123,
          22.395350659519202,
          17.061522433502116,
          22.741068242208055,
          25.2197425231713,
          11.106011606045108,
          24.513006167069292,
          26.607490258269628,
          28.358024435102628,
          24.918604575058087,
          29.69254950609229,
          33.18492755059372,
          23.771455228784102,
          32.1408650784132,
          29.748023621859833,
          38.36605631912943,
          39.80716458470123,
          37.583625456745246,
          32.39769703530763,
          35.450482572931335,
          31.234464806544796,
          24.484783211694133,
          33.28615723076931,
          38.04368163539747,
          37.157372670446506,
          31.712974689028698,
          25.266580174645803,
          30.101515000418377,
          32.718976554594555,
          28.42735375898628,
          28.429991681043322,
          27.29132149718025,
          23.744466705654727,
          24.118789410416866,
          27.402412087402926,
          16.3299357485511,
          13.39695213466107,
          20.016555805800063,
          19.862059038309226,
          21.28604603876053,
          24.07796481813886,
          24.20603792409474,
          25.042015337797444,
          24.917090968076835,
          29.93762975257338,
          23.977090541407517,
          21.699319690388386,
          37.510513813075235,
          43.2945935736054,
          36.48121426533216,
          34.99129701428895,
          34.808657287701244,
          37.16296374281801,
          40.98236380404529,
          34.442116907398805,
          35.83178067755407,
          28.249136468609855,
          31.220223118379707,
          40.83256201730775,
          39.31768807814942,
          25.710994243501997,
          22.30344878467782,
          27.205513409099865,
          28.51386351985176,
          35.47494122267881,
          36.11110647123643,
          33.80004806932219,
          35.61141950833203,
          34.843117423071774,
          30.353593229776028,
          35.31260262023085,
          38.796848080086974,
          34.33296541203923,
          40.34038635959286,
          44.6733992277221,
          31.595547296019046,
          27.359946418780552,
          20.095205962293882,
          27.04518523673071,
          27.21674397243954,
          26.91105225738411,
          33.43602979373521,
          34.4022878547218,
          31.833741807947668,
          25.824160348559058,
          24.43687139364593,
          28.463488908752453,
          27.36916175797751,
          19.54441877655635,
          29.11480678915489,
          31.908526989887065,
          30.77325183404029,
          28.943083504363212,
          28.881081062840536,
          32.79876794402603,
          33.20356948676172,
          30.765685457216854,
          35.55843484877541,
          32.707254359867704,
          28.647598612745263,
          23.593884388429714,
          18.54615580128776,
          26.88429023503256,
          23.284854418806823,
          25.55002200983606,
          25.483373227522293,
          20.543437687268742,
          17.614063837139156,
          18.376279327299272,
          24.29187593882904,
          21.32572019524774,
          24.888261312979107,
          24.871430486143833,
          22.872556052759194,
          19.454023398540127,
          25.119487412279796,
          24.668163741964428,
          23.682096563324816,
          19.339517250225317,
          21.17636040865609,
          24.25306587707961,
          21.593111966815435,
          19.987666674727862,
          23.340795837350075,
          22.139739585180212,
          21.553491962938004,
          20.6180886787281,
          20.16075709571883,
          19.28455466411012,
          22.165939190846682,
          21.248937352891165,
          21.429854558745756,
          30.32874523114117,
          22.049153962888063,
          27.706101248913537,
          28.54595004007713,
          16.54657063055613,
          14.782782612413971,
          25.2733677176252,
          27.54088053583373,
          22.146334672503542,
          20.460812057607676,
          20.544723324706535,
          16.881943908810094,
          25.400669556457796,
          14.322995468736796,
          16.592740301905103,
          19.632245966643794,
          22.711730202681068,
          22.199469491661215,
          19.198915098603003,
          22.66091019343514,
          18.92059374330947,
          18.227153592610733,
          20.224443861053427,
          37.479460986088505,
          14.29172583081614,
          15.536971480579936,
          10.82825816906589,
          23.811349869394395,
          32.64787162919609,
          34.611634007877434,
          24.94604102395525,
          26.002597244201265,
          6.1208572825191325,
          0.780211264952321,
          25.311373002270994,
          17.734659141741396,
          20.22593282247165,
          15.838348605721539,
          16.837424005325744,
          14.431236081836929,
          18.47647772924691,
          13.424279334504234,
          13.056778235264343,
          3.276464850089212,
          8.05936467289916,
          6.139031137335621,
          5.62271212614878,
          6.449351537446972,
          14.2059745074599,
          17.210226712661168,
          17.290350654407412,
          9.89064351474244,
          20.21972222195899,
          17.945110515918074,
          20.30017588452688,
          19.287903175344006,
          16.333000084071138,
          6.568436621112134,
          10.875415771468848,
          11.887040974381279,
          17.810989286113838,
          18.2546106631429,
          12.992827069448985,
          7.393190533125917,
          8.256095614374154,
          8.078999711817772,
          19.985637151317686,
          13.696517442812421,
          19.83511411977733,
          15.234537804614874,
          16.931124190049314,
          1.6934740632771792,
          11.811162629212,
          -4.283009341921641,
          9.550078436020549,
          13.326355212506606,
          6.883510771642406,
          6.168274171806303,
          14.569332345987316,
          19.592929315287158,
          18.115168596059547,
          18.52011987222437,
          13.137074572062765,
          14.596626012436882,
          9.892374899008743,
          16.31998048472107,
          14.06750300974938,
          14.22573567713744,
          13.007522506880655,
          18.132775466923686,
          18.66645496162758,
          21.502837953395318,
          17.000393790017387,
          15.939266017125448,
          13.329527160057964,
          14.489492108908586,
          8.783667308202432,
          4.830031704975305,
          13.06115528123653,
          12.711014724343336,
          17.288762403966402,
          18.734249061399993,
          18.052710131506007,
          11.49855611853097,
          13.008415122983042,
          17.669755765539193,
          18.123422937865204,
          17.515032307220828,
          17.213072033212967,
          16.482385430652563,
          19.40079737350503,
          18.57392951396823,
          22.478331859045753,
          15.241798355478927,
          15.78327608657212,
          12.648537775396079,
          12.841210489223378,
          17.171736609675307,
          18.509068577852855,
          19.0280387422127,
          20.16441773051648,
          19.769753351684415,
          22.426149366013682,
          20.317503138036436,
          17.87618837134583,
          14.339134098153309,
          16.93715603086919,
          16.987166294491626,
          18.59431701303171,
          20.163951545939348,
          22.97743545978381,
          22.451106388590155,
          25.57072070213525,
          16.3909111158213,
          16.09765426954676,
          20.528356890807856,
          11.542904504798685,
          19.203874824235612,
          21.868206028384,
          23.470522031749827,
          27.10034494015563,
          28.57064813157129,
          21.083988102339337,
          19.449052902199554,
          22.218922095983032,
          19.654230661968484,
          21.32467099623538,
          11.862313638505519,
          8.222605922227885,
          3.6582516843344166,
          13.762759507003032,
          15.937809442913476,
          20.627300965903984,
          20.61035442795926,
          16.880480350077825,
          14.010172437519302,
          19.108255341625124,
          21.29720740946043,
          18.455242173551355,
          20.46764235051402,
          23.53261728511111,
          22.378697978108566,
          27.629342467286904,
          26.129838438269747,
          22.348702685915814
         ],
         "xaxis": "x",
         "yaxis": "y"
        },
        {
         "autobinx": true,
         "histnorm": "probability",
         "marker": {
          "color": "rgb(31,119,180)"
         },
         "name": "Actual Value",
         "nbinsx": 100,
         "type": "histogram",
         "uid": "b0daac",
         "x": [
          24,
          21.6,
          34.7,
          33.4,
          36.2,
          28.7,
          22.9,
          27.1,
          16.5,
          18.9,
          15,
          18.9,
          21.7,
          20.4,
          18.2,
          19.9,
          23.1,
          17.5,
          20.2,
          18.2,
          13.6,
          19.6,
          15.2,
          14.5,
          15.6,
          13.9,
          16.6,
          14.8,
          18.4,
          21,
          12.7,
          14.5,
          13.2,
          13.1,
          13.5,
          18.9,
          20,
          21,
          24.7,
          30.8,
          34.9,
          26.6,
          25.3,
          24.7,
          21.2,
          19.3,
          20,
          16.6,
          14.4,
          19.4,
          19.7,
          20.5,
          25,
          23.4,
          18.9,
          35.4,
          24.7,
          31.6,
          23.3,
          19.6,
          18.7,
          16,
          22.2,
          25,
          33,
          23.5,
          19.4,
          22,
          17.4,
          20.9,
          24.2,
          21.7,
          22.8,
          23.4,
          24.1,
          21.4,
          20,
          20.8,
          21.2,
          20.3,
          28,
          23.9,
          24.8,
          22.9,
          23.9,
          26.6,
          22.5,
          22.2,
          23.6,
          28.7,
          22.6,
          22,
          22.9,
          25,
          20.6,
          28.4,
          21.4,
          38.7,
          43.8,
          33.2,
          27.5,
          26.5,
          18.6,
          19.3,
          20.1,
          19.5,
          19.5,
          20.4,
          19.8,
          19.4,
          21.7,
          22.8,
          18.8,
          18.7,
          18.5,
          18.3,
          21.2,
          19.2,
          20.4,
          19.3,
          22,
          20.3,
          20.5,
          17.3,
          18.8,
          21.4,
          15.7,
          16.2,
          18,
          14.3,
          19.2,
          19.6,
          23,
          18.4,
          15.6,
          18.1,
          17.4,
          17.1,
          13.3,
          17.8,
          14,
          14.4,
          13.4,
          15.6,
          11.8,
          13.8,
          15.6,
          14.6,
          17.8,
          15.4,
          21.5,
          19.6,
          15.3,
          19.4,
          17,
          15.6,
          13.1,
          41.3,
          24.3,
          23.3,
          27,
          50,
          50,
          50,
          22.7,
          25,
          50,
          23.8,
          23.8,
          22.3,
          17.4,
          19.1,
          23.1,
          23.6,
          22.6,
          29.4,
          23.2,
          24.6,
          29.9,
          37.2,
          39.8,
          36.2,
          37.9,
          32.5,
          26.4,
          29.6,
          50,
          32,
          29.8,
          34.9,
          37,
          30.5,
          36.4,
          31.1,
          29.1,
          50,
          33.3,
          30.3,
          34.6,
          34.9,
          32.9,
          24.1,
          42.3,
          48.5,
          50,
          22.6,
          24.4,
          22.5,
          24.4,
          20,
          21.7,
          19.3,
          22.4,
          28.1,
          23.7,
          25,
          23.3,
          28.7,
          21.5,
          23,
          26.7,
          21.7,
          27.5,
          30.1,
          44.8,
          50,
          37.6,
          31.6,
          46.7,
          31.5,
          24.3,
          31.7,
          41.7,
          48.3,
          29,
          24,
          25.1,
          31.5,
          23.7,
          23.3,
          22,
          20.1,
          22.2,
          23.7,
          17.6,
          18.5,
          24.3,
          20.5,
          24.5,
          26.2,
          24.4,
          24.8,
          29.6,
          42.8,
          21.9,
          20.9,
          44,
          50,
          36,
          30.1,
          33.8,
          43.1,
          48.8,
          31,
          36.5,
          22.8,
          30.7,
          50,
          43.5,
          20.7,
          21.1,
          25.2,
          24.4,
          35.2,
          32.4,
          32,
          33.2,
          33.1,
          29.1,
          35.1,
          45.4,
          35.4,
          46,
          50,
          32.2,
          22,
          20.1,
          23.2,
          22.3,
          24.8,
          28.5,
          37.3,
          27.9,
          23.9,
          21.7,
          28.6,
          27.1,
          20.3,
          22.5,
          29,
          24.8,
          22,
          26.4,
          33.1,
          36.1,
          28.4,
          33.4,
          28.2,
          22.8,
          20.3,
          16.1,
          22.1,
          19.4,
          21.6,
          23.8,
          16.2,
          17.8,
          19.8,
          23.1,
          21,
          23.8,
          23.1,
          20.4,
          18.5,
          25,
          24.6,
          23,
          22.2,
          19.3,
          22.6,
          19.8,
          17.1,
          19.4,
          22.2,
          20.7,
          21.1,
          19.5,
          18.5,
          20.6,
          19,
          18.7,
          32.7,
          16.5,
          23.9,
          31.2,
          17.5,
          17.2,
          23.1,
          24.5,
          26.6,
          22.9,
          24.1,
          18.6,
          30.1,
          18.2,
          20.6,
          17.8,
          21.7,
          22.7,
          22.6,
          25,
          19.9,
          20.8,
          16.8,
          21.9,
          27.5,
          21.9,
          23.1,
          50,
          50,
          50,
          50,
          50,
          13.8,
          13.8,
          15,
          13.9,
          13.3,
          13.1,
          10.2,
          10.4,
          10.9,
          11.3,
          12.3,
          8.8,
          7.2,
          10.5,
          7.4,
          10.2,
          11.5,
          15.1,
          23.2,
          9.7,
          13.8,
          12.7,
          13.1,
          12.5,
          8.5,
          5,
          6.3,
          5.6,
          7.2,
          12.1,
          8.3,
          8.5,
          5,
          11.9,
          27.9,
          17.2,
          27.5,
          15,
          17.2,
          17.9,
          16.3,
          7,
          7.2,
          7.5,
          10.4,
          8.8,
          8.4,
          16.7,
          14.2,
          20.8,
          13.4,
          11.7,
          8.3,
          10.2,
          10.9,
          11,
          9.5,
          14.5,
          14.1,
          16.1,
          14.3,
          11.7,
          13.4,
          9.6,
          8.7,
          8.4,
          12.8,
          10.5,
          17.1,
          18.4,
          15.4,
          10.8,
          11.8,
          14.9,
          12.6,
          14.1,
          13,
          13.4,
          15.2,
          16.1,
          17.8,
          14.9,
          14.1,
          12.7,
          13.5,
          14.9,
          20,
          16.4,
          17.7,
          19.5,
          20.2,
          21.4,
          19.9,
          19,
          19.1,
          19.1,
          20.1,
          19.9,
          19.6,
          23.2,
          29.8,
          13.8,
          13.3,
          16.7,
          12,
          14.6,
          21.4,
          23,
          23.7,
          25,
          21.8,
          20.6,
          21.2,
          19.1,
          20.6,
          15.2,
          7,
          8.1,
          13.6,
          20.1,
          21.8,
          24.5,
          23.1,
          19.7,
          18.3,
          21.2,
          17.5,
          16.8,
          22.4,
          20.6,
          23.9,
          22,
          11.9
         ],
         "xaxis": "x",
         "xbins": {
          "end": 50.25,
          "size": 0.5,
          "start": -4.5
         },
         "yaxis": "y2"
        },
        {
         "autobinx": false,
         "histnorm": "probability",
         "marker": {
          "color": "rgb(255,127,14)"
         },
         "name": "Predicted Value",
         "nbinsx": 100,
         "type": "histogram",
         "uid": "9d68d3",
         "x": [
          30.008212692344756,
          25.029860603818836,
          30.570231695891646,
          28.608140549202282,
          27.942882319320482,
          25.259400479378023,
          23.004339941026476,
          19.534755802206526,
          11.516965391483517,
          18.919814830982954,
          18.995826599304017,
          21.589708537230123,
          20.905348512348343,
          19.555359306743657,
          19.283795700376352,
          19.30000174440484,
          20.528899934974156,
          16.90967489864622,
          16.17067410608401,
          18.407816357002055,
          12.52040454469752,
          17.671045654953815,
          15.829348906953452,
          13.803683172471558,
          15.677081383419104,
          13.379164499389088,
          15.462588290847116,
          14.698636070512421,
          19.54518511915653,
          20.873099453840673,
          11.448068252640876,
          18.059004122012805,
          8.788416660837228,
          14.278823185818908,
          13.690971317486198,
          23.81755468821972,
          22.342162852092372,
          23.11123203536831,
          22.914941565514056,
          31.358262156677043,
          34.214853851251306,
          28.020713197805556,
          25.20646571960052,
          24.611928505081654,
          22.94438953217324,
          22.101509452341272,
          20.424674174499206,
          18.036140221183594,
          9.101761980896345,
          17.208565708264917,
          21.2825937180538,
          23.976212484958968,
          27.658535207872575,
          24.0521087970431,
          15.35989131950003,
          31.148170025657087,
          24.858787464295183,
          33.11017110691046,
          21.774580356022373,
          21.085267388778977,
          17.872035375138363,
          18.50881381446842,
          23.98798089829796,
          22.549440982623317,
          23.37068402502882,
          30.365575842322148,
          25.53407332428452,
          21.117585038468953,
          17.424682231873323,
          20.789308603516574,
          25.203491743535196,
          21.74490594863611,
          24.56275611591346,
          24.044795191528973,
          25.50911570453636,
          23.970767582161074,
          22.948235189431525,
          23.361060946047907,
          21.264325488889455,
          22.43453759594973,
          28.40699936714843,
          26.997347160395073,
          26.038072460603107,
          25.061521247735023,
          24.7858613039581,
          27.792918891627025,
          22.169270725822543,
          25.89685663536319,
          30.677715217992073,
          30.832258860274194,
          27.12127353728805,
          27.41597825189439,
          28.945647798488725,
          29.086680032037997,
          27.04501726466009,
          28.62506705160689,
          24.730382184304244,
          35.780623783018896,
          35.11269514988105,
          32.25115467850115,
          24.579467855461008,
          25.593862148819717,
          19.76439137381572,
          20.311571167258023,
          21.435363501684567,
          18.539719683219882,
          17.18572611390747,
          20.74934949401458,
          22.64791345585938,
          19.770009770971328,
          20.64745349299572,
          26.52652691007224,
          20.774405543958196,
          20.71546432355064,
          25.174614840987996,
          20.4273652038225,
          23.378625212900033,
          23.694541450427757,
          20.33202238647935,
          20.793781392182595,
          21.920244141311372,
          22.47432005850283,
          20.55884635196586,
          16.363007643808945,
          20.563421113029655,
          22.48570454308016,
          14.612648388437016,
          15.180260696352946,
          18.938284432588766,
          14.05749549781817,
          20.036519590338454,
          19.413062879641473,
          20.064010335656675,
          15.760057721320027,
          13.247715772050157,
          17.261677290418277,
          15.877596722216119,
          19.361451043855766,
          13.81270813845903,
          16.44782934288086,
          13.56511101059547,
          3.9834397409420035,
          14.592412069109002,
          12.145030927836622,
          8.724071075866252,
          12.00815658567064,
          15.803085862626375,
          8.509639293443826,
          9.709655122812933,
          14.798480672912724,
          20.835980961589453,
          18.300170132803135,
          20.125752670765415,
          17.275856806197467,
          22.359979920343246,
          20.079851835550265,
          13.599037440531895,
          33.266352214417374,
          29.0393837862996,
          25.566945288004394,
          32.71732164152398,
          36.78111388111035,
          40.56615533011252,
          41.85122271435675,
          24.79875684466931,
          25.37715449932607,
          37.20662185455955,
          23.08244607671405,
          26.403268342127618,
          26.656474326219687,
          22.554129191715475,
          24.297094799792312,
          22.98024801972224,
          29.074883888737162,
          26.52620066220439,
          30.723512254687716,
          25.618353591220703,
          29.142032828538543,
          31.436906344554835,
          32.92329380015585,
          34.72096487191013,
          27.76792733486934,
          33.88992899202244,
          30.997258045066626,
          22.72124288469437,
          24.765676829883915,
          35.88131718886622,
          33.42696242130286,
          32.41513624871593,
          34.51611818320273,
          30.76057665877845,
          30.291698927486923,
          32.92040221182147,
          32.11459912121152,
          31.561333848230216,
          40.84274603439073,
          36.1304634256105,
          32.6663927059983,
          34.705586469871264,
          30.09276228021229,
          30.64139723682443,
          29.291897044112858,
          37.07062622817234,
          42.02879611361056,
          43.18582722398416,
          22.692388797721996,
          23.68420569227321,
          17.854352952873654,
          23.49543856582956,
          17.00872418498123,
          22.395350659519202,
          17.061522433502116,
          22.741068242208055,
          25.2197425231713,
          11.106011606045108,
          24.513006167069292,
          26.607490258269628,
          28.358024435102628,
          24.918604575058087,
          29.69254950609229,
          33.18492755059372,
          23.771455228784102,
          32.1408650784132,
          29.748023621859833,
          38.36605631912943,
          39.80716458470123,
          37.583625456745246,
          32.39769703530763,
          35.450482572931335,
          31.234464806544796,
          24.484783211694133,
          33.28615723076931,
          38.04368163539747,
          37.157372670446506,
          31.712974689028698,
          25.266580174645803,
          30.101515000418377,
          32.718976554594555,
          28.42735375898628,
          28.429991681043322,
          27.29132149718025,
          23.744466705654727,
          24.118789410416866,
          27.402412087402926,
          16.3299357485511,
          13.39695213466107,
          20.016555805800063,
          19.862059038309226,
          21.28604603876053,
          24.07796481813886,
          24.20603792409474,
          25.042015337797444,
          24.917090968076835,
          29.93762975257338,
          23.977090541407517,
          21.699319690388386,
          37.510513813075235,
          43.2945935736054,
          36.48121426533216,
          34.99129701428895,
          34.808657287701244,
          37.16296374281801,
          40.98236380404529,
          34.442116907398805,
          35.83178067755407,
          28.249136468609855,
          31.220223118379707,
          40.83256201730775,
          39.31768807814942,
          25.710994243501997,
          22.30344878467782,
          27.205513409099865,
          28.51386351985176,
          35.47494122267881,
          36.11110647123643,
          33.80004806932219,
          35.61141950833203,
          34.843117423071774,
          30.353593229776028,
          35.31260262023085,
          38.796848080086974,
          34.33296541203923,
          40.34038635959286,
          44.6733992277221,
          31.595547296019046,
          27.359946418780552,
          20.095205962293882,
          27.04518523673071,
          27.21674397243954,
          26.91105225738411,
          33.43602979373521,
          34.4022878547218,
          31.833741807947668,
          25.824160348559058,
          24.43687139364593,
          28.463488908752453,
          27.36916175797751,
          19.54441877655635,
          29.11480678915489,
          31.908526989887065,
          30.77325183404029,
          28.943083504363212,
          28.881081062840536,
          32.79876794402603,
          33.20356948676172,
          30.765685457216854,
          35.55843484877541,
          32.707254359867704,
          28.647598612745263,
          23.593884388429714,
          18.54615580128776,
          26.88429023503256,
          23.284854418806823,
          25.55002200983606,
          25.483373227522293,
          20.543437687268742,
          17.614063837139156,
          18.376279327299272,
          24.29187593882904,
          21.32572019524774,
          24.888261312979107,
          24.871430486143833,
          22.872556052759194,
          19.454023398540127,
          25.119487412279796,
          24.668163741964428,
          23.682096563324816,
          19.339517250225317,
          21.17636040865609,
          24.25306587707961,
          21.593111966815435,
          19.987666674727862,
          23.340795837350075,
          22.139739585180212,
          21.553491962938004,
          20.6180886787281,
          20.16075709571883,
          19.28455466411012,
          22.165939190846682,
          21.248937352891165,
          21.429854558745756,
          30.32874523114117,
          22.049153962888063,
          27.706101248913537,
          28.54595004007713,
          16.54657063055613,
          14.782782612413971,
          25.2733677176252,
          27.54088053583373,
          22.146334672503542,
          20.460812057607676,
          20.544723324706535,
          16.881943908810094,
          25.400669556457796,
          14.322995468736796,
          16.592740301905103,
          19.632245966643794,
          22.711730202681068,
          22.199469491661215,
          19.198915098603003,
          22.66091019343514,
          18.92059374330947,
          18.227153592610733,
          20.224443861053427,
          37.479460986088505,
          14.29172583081614,
          15.536971480579936,
          10.82825816906589,
          23.811349869394395,
          32.64787162919609,
          34.611634007877434,
          24.94604102395525,
          26.002597244201265,
          6.1208572825191325,
          0.780211264952321,
          25.311373002270994,
          17.734659141741396,
          20.22593282247165,
          15.838348605721539,
          16.837424005325744,
          14.431236081836929,
          18.47647772924691,
          13.424279334504234,
          13.056778235264343,
          3.276464850089212,
          8.05936467289916,
          6.139031137335621,
          5.62271212614878,
          6.449351537446972,
          14.2059745074599,
          17.210226712661168,
          17.290350654407412,
          9.89064351474244,
          20.21972222195899,
          17.945110515918074,
          20.30017588452688,
          19.287903175344006,
          16.333000084071138,
          6.568436621112134,
          10.875415771468848,
          11.887040974381279,
          17.810989286113838,
          18.2546106631429,
          12.992827069448985,
          7.393190533125917,
          8.256095614374154,
          8.078999711817772,
          19.985637151317686,
          13.696517442812421,
          19.83511411977733,
          15.234537804614874,
          16.931124190049314,
          1.6934740632771792,
          11.811162629212,
          -4.283009341921641,
          9.550078436020549,
          13.326355212506606,
          6.883510771642406,
          6.168274171806303,
          14.569332345987316,
          19.592929315287158,
          18.115168596059547,
          18.52011987222437,
          13.137074572062765,
          14.596626012436882,
          9.892374899008743,
          16.31998048472107,
          14.06750300974938,
          14.22573567713744,
          13.007522506880655,
          18.132775466923686,
          18.66645496162758,
          21.502837953395318,
          17.000393790017387,
          15.939266017125448,
          13.329527160057964,
          14.489492108908586,
          8.783667308202432,
          4.830031704975305,
          13.06115528123653,
          12.711014724343336,
          17.288762403966402,
          18.734249061399993,
          18.052710131506007,
          11.49855611853097,
          13.008415122983042,
          17.669755765539193,
          18.123422937865204,
          17.515032307220828,
          17.213072033212967,
          16.482385430652563,
          19.40079737350503,
          18.57392951396823,
          22.478331859045753,
          15.241798355478927,
          15.78327608657212,
          12.648537775396079,
          12.841210489223378,
          17.171736609675307,
          18.509068577852855,
          19.0280387422127,
          20.16441773051648,
          19.769753351684415,
          22.426149366013682,
          20.317503138036436,
          17.87618837134583,
          14.339134098153309,
          16.93715603086919,
          16.987166294491626,
          18.59431701303171,
          20.163951545939348,
          22.97743545978381,
          22.451106388590155,
          25.57072070213525,
          16.3909111158213,
          16.09765426954676,
          20.528356890807856,
          11.542904504798685,
          19.203874824235612,
          21.868206028384,
          23.470522031749827,
          27.10034494015563,
          28.57064813157129,
          21.083988102339337,
          19.449052902199554,
          22.218922095983032,
          19.654230661968484,
          21.32467099623538,
          11.862313638505519,
          8.222605922227885,
          3.6582516843344166,
          13.762759507003032,
          15.937809442913476,
          20.627300965903984,
          20.61035442795926,
          16.880480350077825,
          14.010172437519302,
          19.108255341625124,
          21.29720740946043,
          18.455242173551355,
          20.46764235051402,
          23.53261728511111,
          22.378697978108566,
          27.629342467286904,
          26.129838438269747,
          22.348702685915814
         ],
         "xaxis": "x",
         "xbins": {
          "end": 50.25,
          "size": 0.5,
          "start": -4.5
         },
         "yaxis": "y2"
        }
       ],
       "layout": {
        "autosize": true,
        "legend": {
         "font": {
          "family": "serif",
          "size": 12
         }
        },
        "plot_bgcolor": "rgb(247,247,247)",
        "title": "<b>Actual vs Predicted Housing Price Distributions (13 Independent Variables)</b>",
        "titlefont": {
         "family": "serif",
         "size": 24
        },
        "xaxis": {
         "anchor": "y2",
         "autorange": true,
         "domain": [
          0,
          1
         ],
         "range": [
          -7.298732083139511,
          53.01572274121787
         ],
         "tickfont": {
          "family": "serif",
          "size": 14
         },
         "title": "<b>Housing Price, $1,000's</b>",
         "titlefont": {
          "family": "serif",
          "size": 14
         },
         "type": "linear"
        },
        "yaxis": {
         "anchor": "free",
         "autorange": true,
         "domain": [
          0.8,
          1
         ],
         "position": 0,
         "range": [
          -0.5,
          1.5
         ],
         "showticklabels": false,
         "titlefont": {
          "family": "serif",
          "size": 14
         },
         "type": "category"
        },
        "yaxis2": {
         "anchor": "x",
         "autorange": true,
         "domain": [
          0,
          0.8
         ],
         "range": [
          0,
          0.04368629082587893
         ],
         "tickfont": {
          "family": "serif",
          "size": 14
         },
         "title": "<b>PDF</b>",
         "titlefont": {
          "family": "serif",
          "size": 14
         }
        }
       }
      },
      "text/html": [
       "<div id=\"ea36ec7e-5745-44da-8476-b13e8b21381a\" style=\"height: 600px; width: 100%;\" class=\"plotly-graph-div\"></div><script type=\"text/javascript\">require([\"plotly\"], function(Plotly) { window.PLOTLYENV=window.PLOTLYENV || {};window.PLOTLYENV.BASE_URL=\"https://plot.ly\";Plotly.newPlot(\"ea36ec7e-5745-44da-8476-b13e8b21381a\", [{\"type\": \"box\", \"name\": \"Actual Value\", \"x\": [24.0, 21.6, 34.7, 33.4, 36.2, 28.7, 22.9, 27.1, 16.5, 18.9, 15.0, 18.9, 21.7, 20.4, 18.2, 19.9, 23.1, 17.5, 20.2, 18.2, 13.6, 19.6, 15.2, 14.5, 15.6, 13.9, 16.6, 14.8, 18.4, 21.0, 12.7, 14.5, 13.2, 13.1, 13.5, 18.9, 20.0, 21.0, 24.7, 30.8, 34.9, 26.6, 25.3, 24.7, 21.2, 19.3, 20.0, 16.6, 14.4, 19.4, 19.7, 20.5, 25.0, 23.4, 18.9, 35.4, 24.7, 31.6, 23.3, 19.6, 18.7, 16.0, 22.2, 25.0, 33.0, 23.5, 19.4, 22.0, 17.4, 20.9, 24.2, 21.7, 22.8, 23.4, 24.1, 21.4, 20.0, 20.8, 21.2, 20.3, 28.0, 23.9, 24.8, 22.9, 23.9, 26.6, 22.5, 22.2, 23.6, 28.7, 22.6, 22.0, 22.9, 25.0, 20.6, 28.4, 21.4, 38.7, 43.8, 33.2, 27.5, 26.5, 18.6, 19.3, 20.1, 19.5, 19.5, 20.4, 19.8, 19.4, 21.7, 22.8, 18.8, 18.7, 18.5, 18.3, 21.2, 19.2, 20.4, 19.3, 22.0, 20.3, 20.5, 17.3, 18.8, 21.4, 15.7, 16.2, 18.0, 14.3, 19.2, 19.6, 23.0, 18.4, 15.6, 18.1, 17.4, 17.1, 13.3, 17.8, 14.0, 14.4, 13.4, 15.6, 11.8, 13.8, 15.6, 14.6, 17.8, 15.4, 21.5, 19.6, 15.3, 19.4, 17.0, 15.6, 13.1, 41.3, 24.3, 23.3, 27.0, 50.0, 50.0, 50.0, 22.7, 25.0, 50.0, 23.8, 23.8, 22.3, 17.4, 19.1, 23.1, 23.6, 22.6, 29.4, 23.2, 24.6, 29.9, 37.2, 39.8, 36.2, 37.9, 32.5, 26.4, 29.6, 50.0, 32.0, 29.8, 34.9, 37.0, 30.5, 36.4, 31.1, 29.1, 50.0, 33.3, 30.3, 34.6, 34.9, 32.9, 24.1, 42.3, 48.5, 50.0, 22.6, 24.4, 22.5, 24.4, 20.0, 21.7, 19.3, 22.4, 28.1, 23.7, 25.0, 23.3, 28.7, 21.5, 23.0, 26.7, 21.7, 27.5, 30.1, 44.8, 50.0, 37.6, 31.6, 46.7, 31.5, 24.3, 31.7, 41.7, 48.3, 29.0, 24.0, 25.1, 31.5, 23.7, 23.3, 22.0, 20.1, 22.2, 23.7, 17.6, 18.5, 24.3, 20.5, 24.5, 26.2, 24.4, 24.8, 29.6, 42.8, 21.9, 20.9, 44.0, 50.0, 36.0, 30.1, 33.8, 43.1, 48.8, 31.0, 36.5, 22.8, 30.7, 50.0, 43.5, 20.7, 21.1, 25.2, 24.4, 35.2, 32.4, 32.0, 33.2, 33.1, 29.1, 35.1, 45.4, 35.4, 46.0, 50.0, 32.2, 22.0, 20.1, 23.2, 22.3, 24.8, 28.5, 37.3, 27.9, 23.9, 21.7, 28.6, 27.1, 20.3, 22.5, 29.0, 24.8, 22.0, 26.4, 33.1, 36.1, 28.4, 33.4, 28.2, 22.8, 20.3, 16.1, 22.1, 19.4, 21.6, 23.8, 16.2, 17.8, 19.8, 23.1, 21.0, 23.8, 23.1, 20.4, 18.5, 25.0, 24.6, 23.0, 22.2, 19.3, 22.6, 19.8, 17.1, 19.4, 22.2, 20.7, 21.1, 19.5, 18.5, 20.6, 19.0, 18.7, 32.7, 16.5, 23.9, 31.2, 17.5, 17.2, 23.1, 24.5, 26.6, 22.9, 24.1, 18.6, 30.1, 18.2, 20.6, 17.8, 21.7, 22.7, 22.6, 25.0, 19.9, 20.8, 16.8, 21.9, 27.5, 21.9, 23.1, 50.0, 50.0, 50.0, 50.0, 50.0, 13.8, 13.8, 15.0, 13.9, 13.3, 13.1, 10.2, 10.4, 10.9, 11.3, 12.3, 8.8, 7.2, 10.5, 7.4, 10.2, 11.5, 15.1, 23.2, 9.7, 13.8, 12.7, 13.1, 12.5, 8.5, 5.0, 6.3, 5.6, 7.2, 12.1, 8.3, 8.5, 5.0, 11.9, 27.9, 17.2, 27.5, 15.0, 17.2, 17.9, 16.3, 7.0, 7.2, 7.5, 10.4, 8.8, 8.4, 16.7, 14.2, 20.8, 13.4, 11.7, 8.3, 10.2, 10.9, 11.0, 9.5, 14.5, 14.1, 16.1, 14.3, 11.7, 13.4, 9.6, 8.7, 8.4, 12.8, 10.5, 17.1, 18.4, 15.4, 10.8, 11.8, 14.9, 12.6, 14.1, 13.0, 13.4, 15.2, 16.1, 17.8, 14.9, 14.1, 12.7, 13.5, 14.9, 20.0, 16.4, 17.7, 19.5, 20.2, 21.4, 19.9, 19.0, 19.1, 19.1, 20.1, 19.9, 19.6, 23.2, 29.8, 13.8, 13.3, 16.7, 12.0, 14.6, 21.4, 23.0, 23.7, 25.0, 21.8, 20.6, 21.2, 19.1, 20.6, 15.2, 7.0, 8.1, 13.6, 20.1, 21.8, 24.5, 23.1, 19.7, 18.3, 21.2, 17.5, 16.8, 22.4, 20.6, 23.9, 22.0, 11.9], \"boxmean\": \"sd\", \"xaxis\": \"x1\", \"yaxis\": \"y1\"}, {\"type\": \"box\", \"name\": \"Predicted Value\", \"x\": [30.008212692344756, 25.029860603818836, 30.570231695891646, 28.608140549202282, 27.942882319320482, 25.259400479378023, 23.004339941026476, 19.534755802206526, 11.516965391483517, 18.919814830982954, 18.995826599304017, 21.589708537230123, 20.905348512348343, 19.555359306743657, 19.283795700376352, 19.30000174440484, 20.528899934974156, 16.90967489864622, 16.17067410608401, 18.407816357002055, 12.52040454469752, 17.671045654953815, 15.829348906953452, 13.803683172471558, 15.677081383419104, 13.379164499389088, 15.462588290847116, 14.698636070512421, 19.54518511915653, 20.873099453840673, 11.448068252640876, 18.059004122012805, 8.788416660837228, 14.278823185818908, 13.690971317486198, 23.81755468821972, 22.342162852092372, 23.11123203536831, 22.914941565514056, 31.358262156677043, 34.214853851251306, 28.020713197805556, 25.20646571960052, 24.611928505081654, 22.94438953217324, 22.101509452341272, 20.424674174499206, 18.036140221183594, 9.101761980896345, 17.208565708264917, 21.2825937180538, 23.976212484958968, 27.658535207872575, 24.0521087970431, 15.35989131950003, 31.148170025657087, 24.858787464295183, 33.11017110691046, 21.774580356022373, 21.085267388778977, 17.872035375138363, 18.50881381446842, 23.98798089829796, 22.549440982623317, 23.37068402502882, 30.365575842322148, 25.53407332428452, 21.117585038468953, 17.424682231873323, 20.789308603516574, 25.203491743535196, 21.74490594863611, 24.56275611591346, 24.044795191528973, 25.50911570453636, 23.970767582161074, 22.948235189431525, 23.361060946047907, 21.264325488889455, 22.43453759594973, 28.40699936714843, 26.997347160395073, 26.038072460603107, 25.061521247735023, 24.7858613039581, 27.792918891627025, 22.169270725822543, 25.89685663536319, 30.677715217992073, 30.832258860274194, 27.12127353728805, 27.41597825189439, 28.945647798488725, 29.086680032037997, 27.04501726466009, 28.62506705160689, 24.730382184304244, 35.780623783018896, 35.11269514988105, 32.25115467850115, 24.579467855461008, 25.593862148819717, 19.76439137381572, 20.311571167258023, 21.435363501684567, 18.539719683219882, 17.18572611390747, 20.74934949401458, 22.64791345585938, 19.770009770971328, 20.64745349299572, 26.52652691007224, 20.774405543958196, 20.71546432355064, 25.174614840987996, 20.4273652038225, 23.378625212900033, 23.694541450427757, 20.33202238647935, 20.793781392182595, 21.920244141311372, 22.47432005850283, 20.55884635196586, 16.363007643808945, 20.563421113029655, 22.48570454308016, 14.612648388437016, 15.180260696352946, 18.938284432588766, 14.05749549781817, 20.036519590338454, 19.413062879641473, 20.064010335656675, 15.760057721320027, 13.247715772050157, 17.261677290418277, 15.877596722216119, 19.361451043855766, 13.81270813845903, 16.44782934288086, 13.56511101059547, 3.9834397409420035, 14.592412069109002, 12.145030927836622, 8.724071075866252, 12.00815658567064, 15.803085862626375, 8.509639293443826, 9.709655122812933, 14.798480672912724, 20.835980961589453, 18.300170132803135, 20.125752670765415, 17.275856806197467, 22.359979920343246, 20.079851835550265, 13.599037440531895, 33.266352214417374, 29.0393837862996, 25.566945288004394, 32.71732164152398, 36.78111388111035, 40.56615533011252, 41.85122271435675, 24.79875684466931, 25.37715449932607, 37.20662185455955, 23.08244607671405, 26.403268342127618, 26.656474326219687, 22.554129191715475, 24.297094799792312, 22.98024801972224, 29.074883888737162, 26.52620066220439, 30.723512254687716, 25.618353591220703, 29.142032828538543, 31.436906344554835, 32.92329380015585, 34.72096487191013, 27.76792733486934, 33.88992899202244, 30.997258045066626, 22.72124288469437, 24.765676829883915, 35.88131718886622, 33.42696242130286, 32.41513624871593, 34.51611818320273, 30.76057665877845, 30.291698927486923, 32.92040221182147, 32.11459912121152, 31.561333848230216, 40.84274603439073, 36.1304634256105, 32.6663927059983, 34.705586469871264, 30.09276228021229, 30.64139723682443, 29.291897044112858, 37.07062622817234, 42.02879611361056, 43.18582722398416, 22.692388797721996, 23.68420569227321, 17.854352952873654, 23.49543856582956, 17.00872418498123, 22.395350659519202, 17.061522433502116, 22.741068242208055, 25.2197425231713, 11.106011606045108, 24.513006167069292, 26.607490258269628, 28.358024435102628, 24.918604575058087, 29.69254950609229, 33.18492755059372, 23.771455228784102, 32.1408650784132, 29.748023621859833, 38.36605631912943, 39.80716458470123, 37.583625456745246, 32.39769703530763, 35.450482572931335, 31.234464806544796, 24.484783211694133, 33.28615723076931, 38.04368163539747, 37.157372670446506, 31.712974689028698, 25.266580174645803, 30.101515000418377, 32.718976554594555, 28.42735375898628, 28.429991681043322, 27.29132149718025, 23.744466705654727, 24.118789410416866, 27.402412087402926, 16.3299357485511, 13.39695213466107, 20.016555805800063, 19.862059038309226, 21.28604603876053, 24.07796481813886, 24.20603792409474, 25.042015337797444, 24.917090968076835, 29.93762975257338, 23.977090541407517, 21.699319690388386, 37.510513813075235, 43.2945935736054, 36.48121426533216, 34.99129701428895, 34.808657287701244, 37.16296374281801, 40.98236380404529, 34.442116907398805, 35.83178067755407, 28.249136468609855, 31.220223118379707, 40.83256201730775, 39.31768807814942, 25.710994243501997, 22.30344878467782, 27.205513409099865, 28.51386351985176, 35.47494122267881, 36.11110647123643, 33.80004806932219, 35.61141950833203, 34.843117423071774, 30.353593229776028, 35.31260262023085, 38.796848080086974, 34.33296541203923, 40.34038635959286, 44.6733992277221, 31.595547296019046, 27.359946418780552, 20.095205962293882, 27.04518523673071, 27.21674397243954, 26.91105225738411, 33.43602979373521, 34.4022878547218, 31.833741807947668, 25.824160348559058, 24.43687139364593, 28.463488908752453, 27.36916175797751, 19.54441877655635, 29.11480678915489, 31.908526989887065, 30.77325183404029, 28.943083504363212, 28.881081062840536, 32.79876794402603, 33.20356948676172, 30.765685457216854, 35.55843484877541, 32.707254359867704, 28.647598612745263, 23.593884388429714, 18.54615580128776, 26.88429023503256, 23.284854418806823, 25.55002200983606, 25.483373227522293, 20.543437687268742, 17.614063837139156, 18.376279327299272, 24.29187593882904, 21.32572019524774, 24.888261312979107, 24.871430486143833, 22.872556052759194, 19.454023398540127, 25.119487412279796, 24.668163741964428, 23.682096563324816, 19.339517250225317, 21.17636040865609, 24.25306587707961, 21.593111966815435, 19.987666674727862, 23.340795837350075, 22.139739585180212, 21.553491962938004, 20.6180886787281, 20.16075709571883, 19.28455466411012, 22.165939190846682, 21.248937352891165, 21.429854558745756, 30.32874523114117, 22.049153962888063, 27.706101248913537, 28.54595004007713, 16.54657063055613, 14.782782612413971, 25.2733677176252, 27.54088053583373, 22.146334672503542, 20.460812057607676, 20.544723324706535, 16.881943908810094, 25.400669556457796, 14.322995468736796, 16.592740301905103, 19.632245966643794, 22.711730202681068, 22.199469491661215, 19.198915098603003, 22.66091019343514, 18.92059374330947, 18.227153592610733, 20.224443861053427, 37.479460986088505, 14.29172583081614, 15.536971480579936, 10.82825816906589, 23.811349869394395, 32.64787162919609, 34.611634007877434, 24.94604102395525, 26.002597244201265, 6.1208572825191325, 0.780211264952321, 25.311373002270994, 17.734659141741396, 20.22593282247165, 15.838348605721539, 16.837424005325744, 14.431236081836929, 18.47647772924691, 13.424279334504234, 13.056778235264343, 3.276464850089212, 8.05936467289916, 6.139031137335621, 5.62271212614878, 6.449351537446972, 14.2059745074599, 17.210226712661168, 17.290350654407412, 9.89064351474244, 20.21972222195899, 17.945110515918074, 20.30017588452688, 19.287903175344006, 16.333000084071138, 6.568436621112134, 10.875415771468848, 11.887040974381279, 17.810989286113838, 18.2546106631429, 12.992827069448985, 7.393190533125917, 8.256095614374154, 8.078999711817772, 19.985637151317686, 13.696517442812421, 19.83511411977733, 15.234537804614874, 16.931124190049314, 1.6934740632771792, 11.811162629212, -4.283009341921641, 9.550078436020549, 13.326355212506606, 6.883510771642406, 6.168274171806303, 14.569332345987316, 19.592929315287158, 18.115168596059547, 18.52011987222437, 13.137074572062765, 14.596626012436882, 9.892374899008743, 16.31998048472107, 14.06750300974938, 14.22573567713744, 13.007522506880655, 18.132775466923686, 18.66645496162758, 21.502837953395318, 17.000393790017387, 15.939266017125448, 13.329527160057964, 14.489492108908586, 8.783667308202432, 4.830031704975305, 13.06115528123653, 12.711014724343336, 17.288762403966402, 18.734249061399993, 18.052710131506007, 11.49855611853097, 13.008415122983042, 17.669755765539193, 18.123422937865204, 17.515032307220828, 17.213072033212967, 16.482385430652563, 19.40079737350503, 18.57392951396823, 22.478331859045753, 15.241798355478927, 15.78327608657212, 12.648537775396079, 12.841210489223378, 17.171736609675307, 18.509068577852855, 19.0280387422127, 20.16441773051648, 19.769753351684415, 22.426149366013682, 20.317503138036436, 17.87618837134583, 14.339134098153309, 16.93715603086919, 16.987166294491626, 18.59431701303171, 20.163951545939348, 22.97743545978381, 22.451106388590155, 25.57072070213525, 16.3909111158213, 16.09765426954676, 20.528356890807856, 11.542904504798685, 19.203874824235612, 21.868206028384, 23.470522031749827, 27.10034494015563, 28.57064813157129, 21.083988102339337, 19.449052902199554, 22.218922095983032, 19.654230661968484, 21.32467099623538, 11.862313638505519, 8.222605922227885, 3.6582516843344166, 13.762759507003032, 15.937809442913476, 20.627300965903984, 20.61035442795926, 16.880480350077825, 14.010172437519302, 19.108255341625124, 21.29720740946043, 18.455242173551355, 20.46764235051402, 23.53261728511111, 22.378697978108566, 27.629342467286904, 26.129838438269747, 22.348702685915814], \"boxmean\": \"sd\", \"xaxis\": \"x1\", \"yaxis\": \"y1\"}, {\"type\": \"histogram\", \"name\": \"Actual Value\", \"x\": [24.0, 21.6, 34.7, 33.4, 36.2, 28.7, 22.9, 27.1, 16.5, 18.9, 15.0, 18.9, 21.7, 20.4, 18.2, 19.9, 23.1, 17.5, 20.2, 18.2, 13.6, 19.6, 15.2, 14.5, 15.6, 13.9, 16.6, 14.8, 18.4, 21.0, 12.7, 14.5, 13.2, 13.1, 13.5, 18.9, 20.0, 21.0, 24.7, 30.8, 34.9, 26.6, 25.3, 24.7, 21.2, 19.3, 20.0, 16.6, 14.4, 19.4, 19.7, 20.5, 25.0, 23.4, 18.9, 35.4, 24.7, 31.6, 23.3, 19.6, 18.7, 16.0, 22.2, 25.0, 33.0, 23.5, 19.4, 22.0, 17.4, 20.9, 24.2, 21.7, 22.8, 23.4, 24.1, 21.4, 20.0, 20.8, 21.2, 20.3, 28.0, 23.9, 24.8, 22.9, 23.9, 26.6, 22.5, 22.2, 23.6, 28.7, 22.6, 22.0, 22.9, 25.0, 20.6, 28.4, 21.4, 38.7, 43.8, 33.2, 27.5, 26.5, 18.6, 19.3, 20.1, 19.5, 19.5, 20.4, 19.8, 19.4, 21.7, 22.8, 18.8, 18.7, 18.5, 18.3, 21.2, 19.2, 20.4, 19.3, 22.0, 20.3, 20.5, 17.3, 18.8, 21.4, 15.7, 16.2, 18.0, 14.3, 19.2, 19.6, 23.0, 18.4, 15.6, 18.1, 17.4, 17.1, 13.3, 17.8, 14.0, 14.4, 13.4, 15.6, 11.8, 13.8, 15.6, 14.6, 17.8, 15.4, 21.5, 19.6, 15.3, 19.4, 17.0, 15.6, 13.1, 41.3, 24.3, 23.3, 27.0, 50.0, 50.0, 50.0, 22.7, 25.0, 50.0, 23.8, 23.8, 22.3, 17.4, 19.1, 23.1, 23.6, 22.6, 29.4, 23.2, 24.6, 29.9, 37.2, 39.8, 36.2, 37.9, 32.5, 26.4, 29.6, 50.0, 32.0, 29.8, 34.9, 37.0, 30.5, 36.4, 31.1, 29.1, 50.0, 33.3, 30.3, 34.6, 34.9, 32.9, 24.1, 42.3, 48.5, 50.0, 22.6, 24.4, 22.5, 24.4, 20.0, 21.7, 19.3, 22.4, 28.1, 23.7, 25.0, 23.3, 28.7, 21.5, 23.0, 26.7, 21.7, 27.5, 30.1, 44.8, 50.0, 37.6, 31.6, 46.7, 31.5, 24.3, 31.7, 41.7, 48.3, 29.0, 24.0, 25.1, 31.5, 23.7, 23.3, 22.0, 20.1, 22.2, 23.7, 17.6, 18.5, 24.3, 20.5, 24.5, 26.2, 24.4, 24.8, 29.6, 42.8, 21.9, 20.9, 44.0, 50.0, 36.0, 30.1, 33.8, 43.1, 48.8, 31.0, 36.5, 22.8, 30.7, 50.0, 43.5, 20.7, 21.1, 25.2, 24.4, 35.2, 32.4, 32.0, 33.2, 33.1, 29.1, 35.1, 45.4, 35.4, 46.0, 50.0, 32.2, 22.0, 20.1, 23.2, 22.3, 24.8, 28.5, 37.3, 27.9, 23.9, 21.7, 28.6, 27.1, 20.3, 22.5, 29.0, 24.8, 22.0, 26.4, 33.1, 36.1, 28.4, 33.4, 28.2, 22.8, 20.3, 16.1, 22.1, 19.4, 21.6, 23.8, 16.2, 17.8, 19.8, 23.1, 21.0, 23.8, 23.1, 20.4, 18.5, 25.0, 24.6, 23.0, 22.2, 19.3, 22.6, 19.8, 17.1, 19.4, 22.2, 20.7, 21.1, 19.5, 18.5, 20.6, 19.0, 18.7, 32.7, 16.5, 23.9, 31.2, 17.5, 17.2, 23.1, 24.5, 26.6, 22.9, 24.1, 18.6, 30.1, 18.2, 20.6, 17.8, 21.7, 22.7, 22.6, 25.0, 19.9, 20.8, 16.8, 21.9, 27.5, 21.9, 23.1, 50.0, 50.0, 50.0, 50.0, 50.0, 13.8, 13.8, 15.0, 13.9, 13.3, 13.1, 10.2, 10.4, 10.9, 11.3, 12.3, 8.8, 7.2, 10.5, 7.4, 10.2, 11.5, 15.1, 23.2, 9.7, 13.8, 12.7, 13.1, 12.5, 8.5, 5.0, 6.3, 5.6, 7.2, 12.1, 8.3, 8.5, 5.0, 11.9, 27.9, 17.2, 27.5, 15.0, 17.2, 17.9, 16.3, 7.0, 7.2, 7.5, 10.4, 8.8, 8.4, 16.7, 14.2, 20.8, 13.4, 11.7, 8.3, 10.2, 10.9, 11.0, 9.5, 14.5, 14.1, 16.1, 14.3, 11.7, 13.4, 9.6, 8.7, 8.4, 12.8, 10.5, 17.1, 18.4, 15.4, 10.8, 11.8, 14.9, 12.6, 14.1, 13.0, 13.4, 15.2, 16.1, 17.8, 14.9, 14.1, 12.7, 13.5, 14.9, 20.0, 16.4, 17.7, 19.5, 20.2, 21.4, 19.9, 19.0, 19.1, 19.1, 20.1, 19.9, 19.6, 23.2, 29.8, 13.8, 13.3, 16.7, 12.0, 14.6, 21.4, 23.0, 23.7, 25.0, 21.8, 20.6, 21.2, 19.1, 20.6, 15.2, 7.0, 8.1, 13.6, 20.1, 21.8, 24.5, 23.1, 19.7, 18.3, 21.2, 17.5, 16.8, 22.4, 20.6, 23.9, 22.0, 11.9], \"histnorm\": \"probability\", \"nbinsx\": 100, \"marker\": {\"color\": \"rgb(31,119,180)\"}, \"xaxis\": \"x1\", \"yaxis\": \"y2\"}, {\"type\": \"histogram\", \"name\": \"Predicted Value\", \"x\": [30.008212692344756, 25.029860603818836, 30.570231695891646, 28.608140549202282, 27.942882319320482, 25.259400479378023, 23.004339941026476, 19.534755802206526, 11.516965391483517, 18.919814830982954, 18.995826599304017, 21.589708537230123, 20.905348512348343, 19.555359306743657, 19.283795700376352, 19.30000174440484, 20.528899934974156, 16.90967489864622, 16.17067410608401, 18.407816357002055, 12.52040454469752, 17.671045654953815, 15.829348906953452, 13.803683172471558, 15.677081383419104, 13.379164499389088, 15.462588290847116, 14.698636070512421, 19.54518511915653, 20.873099453840673, 11.448068252640876, 18.059004122012805, 8.788416660837228, 14.278823185818908, 13.690971317486198, 23.81755468821972, 22.342162852092372, 23.11123203536831, 22.914941565514056, 31.358262156677043, 34.214853851251306, 28.020713197805556, 25.20646571960052, 24.611928505081654, 22.94438953217324, 22.101509452341272, 20.424674174499206, 18.036140221183594, 9.101761980896345, 17.208565708264917, 21.2825937180538, 23.976212484958968, 27.658535207872575, 24.0521087970431, 15.35989131950003, 31.148170025657087, 24.858787464295183, 33.11017110691046, 21.774580356022373, 21.085267388778977, 17.872035375138363, 18.50881381446842, 23.98798089829796, 22.549440982623317, 23.37068402502882, 30.365575842322148, 25.53407332428452, 21.117585038468953, 17.424682231873323, 20.789308603516574, 25.203491743535196, 21.74490594863611, 24.56275611591346, 24.044795191528973, 25.50911570453636, 23.970767582161074, 22.948235189431525, 23.361060946047907, 21.264325488889455, 22.43453759594973, 28.40699936714843, 26.997347160395073, 26.038072460603107, 25.061521247735023, 24.7858613039581, 27.792918891627025, 22.169270725822543, 25.89685663536319, 30.677715217992073, 30.832258860274194, 27.12127353728805, 27.41597825189439, 28.945647798488725, 29.086680032037997, 27.04501726466009, 28.62506705160689, 24.730382184304244, 35.780623783018896, 35.11269514988105, 32.25115467850115, 24.579467855461008, 25.593862148819717, 19.76439137381572, 20.311571167258023, 21.435363501684567, 18.539719683219882, 17.18572611390747, 20.74934949401458, 22.64791345585938, 19.770009770971328, 20.64745349299572, 26.52652691007224, 20.774405543958196, 20.71546432355064, 25.174614840987996, 20.4273652038225, 23.378625212900033, 23.694541450427757, 20.33202238647935, 20.793781392182595, 21.920244141311372, 22.47432005850283, 20.55884635196586, 16.363007643808945, 20.563421113029655, 22.48570454308016, 14.612648388437016, 15.180260696352946, 18.938284432588766, 14.05749549781817, 20.036519590338454, 19.413062879641473, 20.064010335656675, 15.760057721320027, 13.247715772050157, 17.261677290418277, 15.877596722216119, 19.361451043855766, 13.81270813845903, 16.44782934288086, 13.56511101059547, 3.9834397409420035, 14.592412069109002, 12.145030927836622, 8.724071075866252, 12.00815658567064, 15.803085862626375, 8.509639293443826, 9.709655122812933, 14.798480672912724, 20.835980961589453, 18.300170132803135, 20.125752670765415, 17.275856806197467, 22.359979920343246, 20.079851835550265, 13.599037440531895, 33.266352214417374, 29.0393837862996, 25.566945288004394, 32.71732164152398, 36.78111388111035, 40.56615533011252, 41.85122271435675, 24.79875684466931, 25.37715449932607, 37.20662185455955, 23.08244607671405, 26.403268342127618, 26.656474326219687, 22.554129191715475, 24.297094799792312, 22.98024801972224, 29.074883888737162, 26.52620066220439, 30.723512254687716, 25.618353591220703, 29.142032828538543, 31.436906344554835, 32.92329380015585, 34.72096487191013, 27.76792733486934, 33.88992899202244, 30.997258045066626, 22.72124288469437, 24.765676829883915, 35.88131718886622, 33.42696242130286, 32.41513624871593, 34.51611818320273, 30.76057665877845, 30.291698927486923, 32.92040221182147, 32.11459912121152, 31.561333848230216, 40.84274603439073, 36.1304634256105, 32.6663927059983, 34.705586469871264, 30.09276228021229, 30.64139723682443, 29.291897044112858, 37.07062622817234, 42.02879611361056, 43.18582722398416, 22.692388797721996, 23.68420569227321, 17.854352952873654, 23.49543856582956, 17.00872418498123, 22.395350659519202, 17.061522433502116, 22.741068242208055, 25.2197425231713, 11.106011606045108, 24.513006167069292, 26.607490258269628, 28.358024435102628, 24.918604575058087, 29.69254950609229, 33.18492755059372, 23.771455228784102, 32.1408650784132, 29.748023621859833, 38.36605631912943, 39.80716458470123, 37.583625456745246, 32.39769703530763, 35.450482572931335, 31.234464806544796, 24.484783211694133, 33.28615723076931, 38.04368163539747, 37.157372670446506, 31.712974689028698, 25.266580174645803, 30.101515000418377, 32.718976554594555, 28.42735375898628, 28.429991681043322, 27.29132149718025, 23.744466705654727, 24.118789410416866, 27.402412087402926, 16.3299357485511, 13.39695213466107, 20.016555805800063, 19.862059038309226, 21.28604603876053, 24.07796481813886, 24.20603792409474, 25.042015337797444, 24.917090968076835, 29.93762975257338, 23.977090541407517, 21.699319690388386, 37.510513813075235, 43.2945935736054, 36.48121426533216, 34.99129701428895, 34.808657287701244, 37.16296374281801, 40.98236380404529, 34.442116907398805, 35.83178067755407, 28.249136468609855, 31.220223118379707, 40.83256201730775, 39.31768807814942, 25.710994243501997, 22.30344878467782, 27.205513409099865, 28.51386351985176, 35.47494122267881, 36.11110647123643, 33.80004806932219, 35.61141950833203, 34.843117423071774, 30.353593229776028, 35.31260262023085, 38.796848080086974, 34.33296541203923, 40.34038635959286, 44.6733992277221, 31.595547296019046, 27.359946418780552, 20.095205962293882, 27.04518523673071, 27.21674397243954, 26.91105225738411, 33.43602979373521, 34.4022878547218, 31.833741807947668, 25.824160348559058, 24.43687139364593, 28.463488908752453, 27.36916175797751, 19.54441877655635, 29.11480678915489, 31.908526989887065, 30.77325183404029, 28.943083504363212, 28.881081062840536, 32.79876794402603, 33.20356948676172, 30.765685457216854, 35.55843484877541, 32.707254359867704, 28.647598612745263, 23.593884388429714, 18.54615580128776, 26.88429023503256, 23.284854418806823, 25.55002200983606, 25.483373227522293, 20.543437687268742, 17.614063837139156, 18.376279327299272, 24.29187593882904, 21.32572019524774, 24.888261312979107, 24.871430486143833, 22.872556052759194, 19.454023398540127, 25.119487412279796, 24.668163741964428, 23.682096563324816, 19.339517250225317, 21.17636040865609, 24.25306587707961, 21.593111966815435, 19.987666674727862, 23.340795837350075, 22.139739585180212, 21.553491962938004, 20.6180886787281, 20.16075709571883, 19.28455466411012, 22.165939190846682, 21.248937352891165, 21.429854558745756, 30.32874523114117, 22.049153962888063, 27.706101248913537, 28.54595004007713, 16.54657063055613, 14.782782612413971, 25.2733677176252, 27.54088053583373, 22.146334672503542, 20.460812057607676, 20.544723324706535, 16.881943908810094, 25.400669556457796, 14.322995468736796, 16.592740301905103, 19.632245966643794, 22.711730202681068, 22.199469491661215, 19.198915098603003, 22.66091019343514, 18.92059374330947, 18.227153592610733, 20.224443861053427, 37.479460986088505, 14.29172583081614, 15.536971480579936, 10.82825816906589, 23.811349869394395, 32.64787162919609, 34.611634007877434, 24.94604102395525, 26.002597244201265, 6.1208572825191325, 0.780211264952321, 25.311373002270994, 17.734659141741396, 20.22593282247165, 15.838348605721539, 16.837424005325744, 14.431236081836929, 18.47647772924691, 13.424279334504234, 13.056778235264343, 3.276464850089212, 8.05936467289916, 6.139031137335621, 5.62271212614878, 6.449351537446972, 14.2059745074599, 17.210226712661168, 17.290350654407412, 9.89064351474244, 20.21972222195899, 17.945110515918074, 20.30017588452688, 19.287903175344006, 16.333000084071138, 6.568436621112134, 10.875415771468848, 11.887040974381279, 17.810989286113838, 18.2546106631429, 12.992827069448985, 7.393190533125917, 8.256095614374154, 8.078999711817772, 19.985637151317686, 13.696517442812421, 19.83511411977733, 15.234537804614874, 16.931124190049314, 1.6934740632771792, 11.811162629212, -4.283009341921641, 9.550078436020549, 13.326355212506606, 6.883510771642406, 6.168274171806303, 14.569332345987316, 19.592929315287158, 18.115168596059547, 18.52011987222437, 13.137074572062765, 14.596626012436882, 9.892374899008743, 16.31998048472107, 14.06750300974938, 14.22573567713744, 13.007522506880655, 18.132775466923686, 18.66645496162758, 21.502837953395318, 17.000393790017387, 15.939266017125448, 13.329527160057964, 14.489492108908586, 8.783667308202432, 4.830031704975305, 13.06115528123653, 12.711014724343336, 17.288762403966402, 18.734249061399993, 18.052710131506007, 11.49855611853097, 13.008415122983042, 17.669755765539193, 18.123422937865204, 17.515032307220828, 17.213072033212967, 16.482385430652563, 19.40079737350503, 18.57392951396823, 22.478331859045753, 15.241798355478927, 15.78327608657212, 12.648537775396079, 12.841210489223378, 17.171736609675307, 18.509068577852855, 19.0280387422127, 20.16441773051648, 19.769753351684415, 22.426149366013682, 20.317503138036436, 17.87618837134583, 14.339134098153309, 16.93715603086919, 16.987166294491626, 18.59431701303171, 20.163951545939348, 22.97743545978381, 22.451106388590155, 25.57072070213525, 16.3909111158213, 16.09765426954676, 20.528356890807856, 11.542904504798685, 19.203874824235612, 21.868206028384, 23.470522031749827, 27.10034494015563, 28.57064813157129, 21.083988102339337, 19.449052902199554, 22.218922095983032, 19.654230661968484, 21.32467099623538, 11.862313638505519, 8.222605922227885, 3.6582516843344166, 13.762759507003032, 15.937809442913476, 20.627300965903984, 20.61035442795926, 16.880480350077825, 14.010172437519302, 19.108255341625124, 21.29720740946043, 18.455242173551355, 20.46764235051402, 23.53261728511111, 22.378697978108566, 27.629342467286904, 26.129838438269747, 22.348702685915814], \"histnorm\": \"probability\", \"nbinsx\": 100, \"marker\": {\"color\": \"rgb(255,127,14)\"}, \"xaxis\": \"x1\", \"yaxis\": \"y2\"}], {\"yaxis1\": {\"domain\": [0.8, 1], \"anchor\": \"free\", \"position\": 0.0, \"titlefont\": {\"family\": \"serif\", \"size\": 14}, \"showticklabels\": false}, \"xaxis1\": {\"domain\": [0.0, 1.0], \"anchor\": \"y2\", \"title\": \"<b>Housing Price, $1,000's</b>\", \"titlefont\": {\"family\": \"serif\", \"size\": 14}, \"tickfont\": {\"family\": \"serif\", \"size\": 14}}, \"yaxis2\": {\"domain\": [0, 0.8], \"anchor\": \"x1\", \"title\": \"<b>PDF</b>\", \"titlefont\": {\"family\": \"serif\", \"size\": 14}, \"tickfont\": {\"family\": \"serif\", \"size\": 14}}, \"plot_bgcolor\": \"rgb(247,247,247)\", \"legend\": {\"font\": {\"family\": \"serif\", \"size\": 12}}, \"height\": 600, \"title\": \"<b>Actual vs Predicted Housing Price Distributions (13 Independent Variables)</b>\", \"titlefont\": {\"family\": \"serif\", \"size\": 24}}, {\"showLink\": true, \"linkText\": \"Export to plot.ly\"})});</script>"
      ],
      "text/vnd.plotly.v1+html": [
       "<div id=\"ea36ec7e-5745-44da-8476-b13e8b21381a\" style=\"height: 600px; width: 100%;\" class=\"plotly-graph-div\"></div><script type=\"text/javascript\">require([\"plotly\"], function(Plotly) { window.PLOTLYENV=window.PLOTLYENV || {};window.PLOTLYENV.BASE_URL=\"https://plot.ly\";Plotly.newPlot(\"ea36ec7e-5745-44da-8476-b13e8b21381a\", [{\"type\": \"box\", \"name\": \"Actual Value\", \"x\": [24.0, 21.6, 34.7, 33.4, 36.2, 28.7, 22.9, 27.1, 16.5, 18.9, 15.0, 18.9, 21.7, 20.4, 18.2, 19.9, 23.1, 17.5, 20.2, 18.2, 13.6, 19.6, 15.2, 14.5, 15.6, 13.9, 16.6, 14.8, 18.4, 21.0, 12.7, 14.5, 13.2, 13.1, 13.5, 18.9, 20.0, 21.0, 24.7, 30.8, 34.9, 26.6, 25.3, 24.7, 21.2, 19.3, 20.0, 16.6, 14.4, 19.4, 19.7, 20.5, 25.0, 23.4, 18.9, 35.4, 24.7, 31.6, 23.3, 19.6, 18.7, 16.0, 22.2, 25.0, 33.0, 23.5, 19.4, 22.0, 17.4, 20.9, 24.2, 21.7, 22.8, 23.4, 24.1, 21.4, 20.0, 20.8, 21.2, 20.3, 28.0, 23.9, 24.8, 22.9, 23.9, 26.6, 22.5, 22.2, 23.6, 28.7, 22.6, 22.0, 22.9, 25.0, 20.6, 28.4, 21.4, 38.7, 43.8, 33.2, 27.5, 26.5, 18.6, 19.3, 20.1, 19.5, 19.5, 20.4, 19.8, 19.4, 21.7, 22.8, 18.8, 18.7, 18.5, 18.3, 21.2, 19.2, 20.4, 19.3, 22.0, 20.3, 20.5, 17.3, 18.8, 21.4, 15.7, 16.2, 18.0, 14.3, 19.2, 19.6, 23.0, 18.4, 15.6, 18.1, 17.4, 17.1, 13.3, 17.8, 14.0, 14.4, 13.4, 15.6, 11.8, 13.8, 15.6, 14.6, 17.8, 15.4, 21.5, 19.6, 15.3, 19.4, 17.0, 15.6, 13.1, 41.3, 24.3, 23.3, 27.0, 50.0, 50.0, 50.0, 22.7, 25.0, 50.0, 23.8, 23.8, 22.3, 17.4, 19.1, 23.1, 23.6, 22.6, 29.4, 23.2, 24.6, 29.9, 37.2, 39.8, 36.2, 37.9, 32.5, 26.4, 29.6, 50.0, 32.0, 29.8, 34.9, 37.0, 30.5, 36.4, 31.1, 29.1, 50.0, 33.3, 30.3, 34.6, 34.9, 32.9, 24.1, 42.3, 48.5, 50.0, 22.6, 24.4, 22.5, 24.4, 20.0, 21.7, 19.3, 22.4, 28.1, 23.7, 25.0, 23.3, 28.7, 21.5, 23.0, 26.7, 21.7, 27.5, 30.1, 44.8, 50.0, 37.6, 31.6, 46.7, 31.5, 24.3, 31.7, 41.7, 48.3, 29.0, 24.0, 25.1, 31.5, 23.7, 23.3, 22.0, 20.1, 22.2, 23.7, 17.6, 18.5, 24.3, 20.5, 24.5, 26.2, 24.4, 24.8, 29.6, 42.8, 21.9, 20.9, 44.0, 50.0, 36.0, 30.1, 33.8, 43.1, 48.8, 31.0, 36.5, 22.8, 30.7, 50.0, 43.5, 20.7, 21.1, 25.2, 24.4, 35.2, 32.4, 32.0, 33.2, 33.1, 29.1, 35.1, 45.4, 35.4, 46.0, 50.0, 32.2, 22.0, 20.1, 23.2, 22.3, 24.8, 28.5, 37.3, 27.9, 23.9, 21.7, 28.6, 27.1, 20.3, 22.5, 29.0, 24.8, 22.0, 26.4, 33.1, 36.1, 28.4, 33.4, 28.2, 22.8, 20.3, 16.1, 22.1, 19.4, 21.6, 23.8, 16.2, 17.8, 19.8, 23.1, 21.0, 23.8, 23.1, 20.4, 18.5, 25.0, 24.6, 23.0, 22.2, 19.3, 22.6, 19.8, 17.1, 19.4, 22.2, 20.7, 21.1, 19.5, 18.5, 20.6, 19.0, 18.7, 32.7, 16.5, 23.9, 31.2, 17.5, 17.2, 23.1, 24.5, 26.6, 22.9, 24.1, 18.6, 30.1, 18.2, 20.6, 17.8, 21.7, 22.7, 22.6, 25.0, 19.9, 20.8, 16.8, 21.9, 27.5, 21.9, 23.1, 50.0, 50.0, 50.0, 50.0, 50.0, 13.8, 13.8, 15.0, 13.9, 13.3, 13.1, 10.2, 10.4, 10.9, 11.3, 12.3, 8.8, 7.2, 10.5, 7.4, 10.2, 11.5, 15.1, 23.2, 9.7, 13.8, 12.7, 13.1, 12.5, 8.5, 5.0, 6.3, 5.6, 7.2, 12.1, 8.3, 8.5, 5.0, 11.9, 27.9, 17.2, 27.5, 15.0, 17.2, 17.9, 16.3, 7.0, 7.2, 7.5, 10.4, 8.8, 8.4, 16.7, 14.2, 20.8, 13.4, 11.7, 8.3, 10.2, 10.9, 11.0, 9.5, 14.5, 14.1, 16.1, 14.3, 11.7, 13.4, 9.6, 8.7, 8.4, 12.8, 10.5, 17.1, 18.4, 15.4, 10.8, 11.8, 14.9, 12.6, 14.1, 13.0, 13.4, 15.2, 16.1, 17.8, 14.9, 14.1, 12.7, 13.5, 14.9, 20.0, 16.4, 17.7, 19.5, 20.2, 21.4, 19.9, 19.0, 19.1, 19.1, 20.1, 19.9, 19.6, 23.2, 29.8, 13.8, 13.3, 16.7, 12.0, 14.6, 21.4, 23.0, 23.7, 25.0, 21.8, 20.6, 21.2, 19.1, 20.6, 15.2, 7.0, 8.1, 13.6, 20.1, 21.8, 24.5, 23.1, 19.7, 18.3, 21.2, 17.5, 16.8, 22.4, 20.6, 23.9, 22.0, 11.9], \"boxmean\": \"sd\", \"xaxis\": \"x1\", \"yaxis\": \"y1\"}, {\"type\": \"box\", \"name\": \"Predicted Value\", \"x\": [30.008212692344756, 25.029860603818836, 30.570231695891646, 28.608140549202282, 27.942882319320482, 25.259400479378023, 23.004339941026476, 19.534755802206526, 11.516965391483517, 18.919814830982954, 18.995826599304017, 21.589708537230123, 20.905348512348343, 19.555359306743657, 19.283795700376352, 19.30000174440484, 20.528899934974156, 16.90967489864622, 16.17067410608401, 18.407816357002055, 12.52040454469752, 17.671045654953815, 15.829348906953452, 13.803683172471558, 15.677081383419104, 13.379164499389088, 15.462588290847116, 14.698636070512421, 19.54518511915653, 20.873099453840673, 11.448068252640876, 18.059004122012805, 8.788416660837228, 14.278823185818908, 13.690971317486198, 23.81755468821972, 22.342162852092372, 23.11123203536831, 22.914941565514056, 31.358262156677043, 34.214853851251306, 28.020713197805556, 25.20646571960052, 24.611928505081654, 22.94438953217324, 22.101509452341272, 20.424674174499206, 18.036140221183594, 9.101761980896345, 17.208565708264917, 21.2825937180538, 23.976212484958968, 27.658535207872575, 24.0521087970431, 15.35989131950003, 31.148170025657087, 24.858787464295183, 33.11017110691046, 21.774580356022373, 21.085267388778977, 17.872035375138363, 18.50881381446842, 23.98798089829796, 22.549440982623317, 23.37068402502882, 30.365575842322148, 25.53407332428452, 21.117585038468953, 17.424682231873323, 20.789308603516574, 25.203491743535196, 21.74490594863611, 24.56275611591346, 24.044795191528973, 25.50911570453636, 23.970767582161074, 22.948235189431525, 23.361060946047907, 21.264325488889455, 22.43453759594973, 28.40699936714843, 26.997347160395073, 26.038072460603107, 25.061521247735023, 24.7858613039581, 27.792918891627025, 22.169270725822543, 25.89685663536319, 30.677715217992073, 30.832258860274194, 27.12127353728805, 27.41597825189439, 28.945647798488725, 29.086680032037997, 27.04501726466009, 28.62506705160689, 24.730382184304244, 35.780623783018896, 35.11269514988105, 32.25115467850115, 24.579467855461008, 25.593862148819717, 19.76439137381572, 20.311571167258023, 21.435363501684567, 18.539719683219882, 17.18572611390747, 20.74934949401458, 22.64791345585938, 19.770009770971328, 20.64745349299572, 26.52652691007224, 20.774405543958196, 20.71546432355064, 25.174614840987996, 20.4273652038225, 23.378625212900033, 23.694541450427757, 20.33202238647935, 20.793781392182595, 21.920244141311372, 22.47432005850283, 20.55884635196586, 16.363007643808945, 20.563421113029655, 22.48570454308016, 14.612648388437016, 15.180260696352946, 18.938284432588766, 14.05749549781817, 20.036519590338454, 19.413062879641473, 20.064010335656675, 15.760057721320027, 13.247715772050157, 17.261677290418277, 15.877596722216119, 19.361451043855766, 13.81270813845903, 16.44782934288086, 13.56511101059547, 3.9834397409420035, 14.592412069109002, 12.145030927836622, 8.724071075866252, 12.00815658567064, 15.803085862626375, 8.509639293443826, 9.709655122812933, 14.798480672912724, 20.835980961589453, 18.300170132803135, 20.125752670765415, 17.275856806197467, 22.359979920343246, 20.079851835550265, 13.599037440531895, 33.266352214417374, 29.0393837862996, 25.566945288004394, 32.71732164152398, 36.78111388111035, 40.56615533011252, 41.85122271435675, 24.79875684466931, 25.37715449932607, 37.20662185455955, 23.08244607671405, 26.403268342127618, 26.656474326219687, 22.554129191715475, 24.297094799792312, 22.98024801972224, 29.074883888737162, 26.52620066220439, 30.723512254687716, 25.618353591220703, 29.142032828538543, 31.436906344554835, 32.92329380015585, 34.72096487191013, 27.76792733486934, 33.88992899202244, 30.997258045066626, 22.72124288469437, 24.765676829883915, 35.88131718886622, 33.42696242130286, 32.41513624871593, 34.51611818320273, 30.76057665877845, 30.291698927486923, 32.92040221182147, 32.11459912121152, 31.561333848230216, 40.84274603439073, 36.1304634256105, 32.6663927059983, 34.705586469871264, 30.09276228021229, 30.64139723682443, 29.291897044112858, 37.07062622817234, 42.02879611361056, 43.18582722398416, 22.692388797721996, 23.68420569227321, 17.854352952873654, 23.49543856582956, 17.00872418498123, 22.395350659519202, 17.061522433502116, 22.741068242208055, 25.2197425231713, 11.106011606045108, 24.513006167069292, 26.607490258269628, 28.358024435102628, 24.918604575058087, 29.69254950609229, 33.18492755059372, 23.771455228784102, 32.1408650784132, 29.748023621859833, 38.36605631912943, 39.80716458470123, 37.583625456745246, 32.39769703530763, 35.450482572931335, 31.234464806544796, 24.484783211694133, 33.28615723076931, 38.04368163539747, 37.157372670446506, 31.712974689028698, 25.266580174645803, 30.101515000418377, 32.718976554594555, 28.42735375898628, 28.429991681043322, 27.29132149718025, 23.744466705654727, 24.118789410416866, 27.402412087402926, 16.3299357485511, 13.39695213466107, 20.016555805800063, 19.862059038309226, 21.28604603876053, 24.07796481813886, 24.20603792409474, 25.042015337797444, 24.917090968076835, 29.93762975257338, 23.977090541407517, 21.699319690388386, 37.510513813075235, 43.2945935736054, 36.48121426533216, 34.99129701428895, 34.808657287701244, 37.16296374281801, 40.98236380404529, 34.442116907398805, 35.83178067755407, 28.249136468609855, 31.220223118379707, 40.83256201730775, 39.31768807814942, 25.710994243501997, 22.30344878467782, 27.205513409099865, 28.51386351985176, 35.47494122267881, 36.11110647123643, 33.80004806932219, 35.61141950833203, 34.843117423071774, 30.353593229776028, 35.31260262023085, 38.796848080086974, 34.33296541203923, 40.34038635959286, 44.6733992277221, 31.595547296019046, 27.359946418780552, 20.095205962293882, 27.04518523673071, 27.21674397243954, 26.91105225738411, 33.43602979373521, 34.4022878547218, 31.833741807947668, 25.824160348559058, 24.43687139364593, 28.463488908752453, 27.36916175797751, 19.54441877655635, 29.11480678915489, 31.908526989887065, 30.77325183404029, 28.943083504363212, 28.881081062840536, 32.79876794402603, 33.20356948676172, 30.765685457216854, 35.55843484877541, 32.707254359867704, 28.647598612745263, 23.593884388429714, 18.54615580128776, 26.88429023503256, 23.284854418806823, 25.55002200983606, 25.483373227522293, 20.543437687268742, 17.614063837139156, 18.376279327299272, 24.29187593882904, 21.32572019524774, 24.888261312979107, 24.871430486143833, 22.872556052759194, 19.454023398540127, 25.119487412279796, 24.668163741964428, 23.682096563324816, 19.339517250225317, 21.17636040865609, 24.25306587707961, 21.593111966815435, 19.987666674727862, 23.340795837350075, 22.139739585180212, 21.553491962938004, 20.6180886787281, 20.16075709571883, 19.28455466411012, 22.165939190846682, 21.248937352891165, 21.429854558745756, 30.32874523114117, 22.049153962888063, 27.706101248913537, 28.54595004007713, 16.54657063055613, 14.782782612413971, 25.2733677176252, 27.54088053583373, 22.146334672503542, 20.460812057607676, 20.544723324706535, 16.881943908810094, 25.400669556457796, 14.322995468736796, 16.592740301905103, 19.632245966643794, 22.711730202681068, 22.199469491661215, 19.198915098603003, 22.66091019343514, 18.92059374330947, 18.227153592610733, 20.224443861053427, 37.479460986088505, 14.29172583081614, 15.536971480579936, 10.82825816906589, 23.811349869394395, 32.64787162919609, 34.611634007877434, 24.94604102395525, 26.002597244201265, 6.1208572825191325, 0.780211264952321, 25.311373002270994, 17.734659141741396, 20.22593282247165, 15.838348605721539, 16.837424005325744, 14.431236081836929, 18.47647772924691, 13.424279334504234, 13.056778235264343, 3.276464850089212, 8.05936467289916, 6.139031137335621, 5.62271212614878, 6.449351537446972, 14.2059745074599, 17.210226712661168, 17.290350654407412, 9.89064351474244, 20.21972222195899, 17.945110515918074, 20.30017588452688, 19.287903175344006, 16.333000084071138, 6.568436621112134, 10.875415771468848, 11.887040974381279, 17.810989286113838, 18.2546106631429, 12.992827069448985, 7.393190533125917, 8.256095614374154, 8.078999711817772, 19.985637151317686, 13.696517442812421, 19.83511411977733, 15.234537804614874, 16.931124190049314, 1.6934740632771792, 11.811162629212, -4.283009341921641, 9.550078436020549, 13.326355212506606, 6.883510771642406, 6.168274171806303, 14.569332345987316, 19.592929315287158, 18.115168596059547, 18.52011987222437, 13.137074572062765, 14.596626012436882, 9.892374899008743, 16.31998048472107, 14.06750300974938, 14.22573567713744, 13.007522506880655, 18.132775466923686, 18.66645496162758, 21.502837953395318, 17.000393790017387, 15.939266017125448, 13.329527160057964, 14.489492108908586, 8.783667308202432, 4.830031704975305, 13.06115528123653, 12.711014724343336, 17.288762403966402, 18.734249061399993, 18.052710131506007, 11.49855611853097, 13.008415122983042, 17.669755765539193, 18.123422937865204, 17.515032307220828, 17.213072033212967, 16.482385430652563, 19.40079737350503, 18.57392951396823, 22.478331859045753, 15.241798355478927, 15.78327608657212, 12.648537775396079, 12.841210489223378, 17.171736609675307, 18.509068577852855, 19.0280387422127, 20.16441773051648, 19.769753351684415, 22.426149366013682, 20.317503138036436, 17.87618837134583, 14.339134098153309, 16.93715603086919, 16.987166294491626, 18.59431701303171, 20.163951545939348, 22.97743545978381, 22.451106388590155, 25.57072070213525, 16.3909111158213, 16.09765426954676, 20.528356890807856, 11.542904504798685, 19.203874824235612, 21.868206028384, 23.470522031749827, 27.10034494015563, 28.57064813157129, 21.083988102339337, 19.449052902199554, 22.218922095983032, 19.654230661968484, 21.32467099623538, 11.862313638505519, 8.222605922227885, 3.6582516843344166, 13.762759507003032, 15.937809442913476, 20.627300965903984, 20.61035442795926, 16.880480350077825, 14.010172437519302, 19.108255341625124, 21.29720740946043, 18.455242173551355, 20.46764235051402, 23.53261728511111, 22.378697978108566, 27.629342467286904, 26.129838438269747, 22.348702685915814], \"boxmean\": \"sd\", \"xaxis\": \"x1\", \"yaxis\": \"y1\"}, {\"type\": \"histogram\", \"name\": \"Actual Value\", \"x\": [24.0, 21.6, 34.7, 33.4, 36.2, 28.7, 22.9, 27.1, 16.5, 18.9, 15.0, 18.9, 21.7, 20.4, 18.2, 19.9, 23.1, 17.5, 20.2, 18.2, 13.6, 19.6, 15.2, 14.5, 15.6, 13.9, 16.6, 14.8, 18.4, 21.0, 12.7, 14.5, 13.2, 13.1, 13.5, 18.9, 20.0, 21.0, 24.7, 30.8, 34.9, 26.6, 25.3, 24.7, 21.2, 19.3, 20.0, 16.6, 14.4, 19.4, 19.7, 20.5, 25.0, 23.4, 18.9, 35.4, 24.7, 31.6, 23.3, 19.6, 18.7, 16.0, 22.2, 25.0, 33.0, 23.5, 19.4, 22.0, 17.4, 20.9, 24.2, 21.7, 22.8, 23.4, 24.1, 21.4, 20.0, 20.8, 21.2, 20.3, 28.0, 23.9, 24.8, 22.9, 23.9, 26.6, 22.5, 22.2, 23.6, 28.7, 22.6, 22.0, 22.9, 25.0, 20.6, 28.4, 21.4, 38.7, 43.8, 33.2, 27.5, 26.5, 18.6, 19.3, 20.1, 19.5, 19.5, 20.4, 19.8, 19.4, 21.7, 22.8, 18.8, 18.7, 18.5, 18.3, 21.2, 19.2, 20.4, 19.3, 22.0, 20.3, 20.5, 17.3, 18.8, 21.4, 15.7, 16.2, 18.0, 14.3, 19.2, 19.6, 23.0, 18.4, 15.6, 18.1, 17.4, 17.1, 13.3, 17.8, 14.0, 14.4, 13.4, 15.6, 11.8, 13.8, 15.6, 14.6, 17.8, 15.4, 21.5, 19.6, 15.3, 19.4, 17.0, 15.6, 13.1, 41.3, 24.3, 23.3, 27.0, 50.0, 50.0, 50.0, 22.7, 25.0, 50.0, 23.8, 23.8, 22.3, 17.4, 19.1, 23.1, 23.6, 22.6, 29.4, 23.2, 24.6, 29.9, 37.2, 39.8, 36.2, 37.9, 32.5, 26.4, 29.6, 50.0, 32.0, 29.8, 34.9, 37.0, 30.5, 36.4, 31.1, 29.1, 50.0, 33.3, 30.3, 34.6, 34.9, 32.9, 24.1, 42.3, 48.5, 50.0, 22.6, 24.4, 22.5, 24.4, 20.0, 21.7, 19.3, 22.4, 28.1, 23.7, 25.0, 23.3, 28.7, 21.5, 23.0, 26.7, 21.7, 27.5, 30.1, 44.8, 50.0, 37.6, 31.6, 46.7, 31.5, 24.3, 31.7, 41.7, 48.3, 29.0, 24.0, 25.1, 31.5, 23.7, 23.3, 22.0, 20.1, 22.2, 23.7, 17.6, 18.5, 24.3, 20.5, 24.5, 26.2, 24.4, 24.8, 29.6, 42.8, 21.9, 20.9, 44.0, 50.0, 36.0, 30.1, 33.8, 43.1, 48.8, 31.0, 36.5, 22.8, 30.7, 50.0, 43.5, 20.7, 21.1, 25.2, 24.4, 35.2, 32.4, 32.0, 33.2, 33.1, 29.1, 35.1, 45.4, 35.4, 46.0, 50.0, 32.2, 22.0, 20.1, 23.2, 22.3, 24.8, 28.5, 37.3, 27.9, 23.9, 21.7, 28.6, 27.1, 20.3, 22.5, 29.0, 24.8, 22.0, 26.4, 33.1, 36.1, 28.4, 33.4, 28.2, 22.8, 20.3, 16.1, 22.1, 19.4, 21.6, 23.8, 16.2, 17.8, 19.8, 23.1, 21.0, 23.8, 23.1, 20.4, 18.5, 25.0, 24.6, 23.0, 22.2, 19.3, 22.6, 19.8, 17.1, 19.4, 22.2, 20.7, 21.1, 19.5, 18.5, 20.6, 19.0, 18.7, 32.7, 16.5, 23.9, 31.2, 17.5, 17.2, 23.1, 24.5, 26.6, 22.9, 24.1, 18.6, 30.1, 18.2, 20.6, 17.8, 21.7, 22.7, 22.6, 25.0, 19.9, 20.8, 16.8, 21.9, 27.5, 21.9, 23.1, 50.0, 50.0, 50.0, 50.0, 50.0, 13.8, 13.8, 15.0, 13.9, 13.3, 13.1, 10.2, 10.4, 10.9, 11.3, 12.3, 8.8, 7.2, 10.5, 7.4, 10.2, 11.5, 15.1, 23.2, 9.7, 13.8, 12.7, 13.1, 12.5, 8.5, 5.0, 6.3, 5.6, 7.2, 12.1, 8.3, 8.5, 5.0, 11.9, 27.9, 17.2, 27.5, 15.0, 17.2, 17.9, 16.3, 7.0, 7.2, 7.5, 10.4, 8.8, 8.4, 16.7, 14.2, 20.8, 13.4, 11.7, 8.3, 10.2, 10.9, 11.0, 9.5, 14.5, 14.1, 16.1, 14.3, 11.7, 13.4, 9.6, 8.7, 8.4, 12.8, 10.5, 17.1, 18.4, 15.4, 10.8, 11.8, 14.9, 12.6, 14.1, 13.0, 13.4, 15.2, 16.1, 17.8, 14.9, 14.1, 12.7, 13.5, 14.9, 20.0, 16.4, 17.7, 19.5, 20.2, 21.4, 19.9, 19.0, 19.1, 19.1, 20.1, 19.9, 19.6, 23.2, 29.8, 13.8, 13.3, 16.7, 12.0, 14.6, 21.4, 23.0, 23.7, 25.0, 21.8, 20.6, 21.2, 19.1, 20.6, 15.2, 7.0, 8.1, 13.6, 20.1, 21.8, 24.5, 23.1, 19.7, 18.3, 21.2, 17.5, 16.8, 22.4, 20.6, 23.9, 22.0, 11.9], \"histnorm\": \"probability\", \"nbinsx\": 100, \"marker\": {\"color\": \"rgb(31,119,180)\"}, \"xaxis\": \"x1\", \"yaxis\": \"y2\"}, {\"type\": \"histogram\", \"name\": \"Predicted Value\", \"x\": [30.008212692344756, 25.029860603818836, 30.570231695891646, 28.608140549202282, 27.942882319320482, 25.259400479378023, 23.004339941026476, 19.534755802206526, 11.516965391483517, 18.919814830982954, 18.995826599304017, 21.589708537230123, 20.905348512348343, 19.555359306743657, 19.283795700376352, 19.30000174440484, 20.528899934974156, 16.90967489864622, 16.17067410608401, 18.407816357002055, 12.52040454469752, 17.671045654953815, 15.829348906953452, 13.803683172471558, 15.677081383419104, 13.379164499389088, 15.462588290847116, 14.698636070512421, 19.54518511915653, 20.873099453840673, 11.448068252640876, 18.059004122012805, 8.788416660837228, 14.278823185818908, 13.690971317486198, 23.81755468821972, 22.342162852092372, 23.11123203536831, 22.914941565514056, 31.358262156677043, 34.214853851251306, 28.020713197805556, 25.20646571960052, 24.611928505081654, 22.94438953217324, 22.101509452341272, 20.424674174499206, 18.036140221183594, 9.101761980896345, 17.208565708264917, 21.2825937180538, 23.976212484958968, 27.658535207872575, 24.0521087970431, 15.35989131950003, 31.148170025657087, 24.858787464295183, 33.11017110691046, 21.774580356022373, 21.085267388778977, 17.872035375138363, 18.50881381446842, 23.98798089829796, 22.549440982623317, 23.37068402502882, 30.365575842322148, 25.53407332428452, 21.117585038468953, 17.424682231873323, 20.789308603516574, 25.203491743535196, 21.74490594863611, 24.56275611591346, 24.044795191528973, 25.50911570453636, 23.970767582161074, 22.948235189431525, 23.361060946047907, 21.264325488889455, 22.43453759594973, 28.40699936714843, 26.997347160395073, 26.038072460603107, 25.061521247735023, 24.7858613039581, 27.792918891627025, 22.169270725822543, 25.89685663536319, 30.677715217992073, 30.832258860274194, 27.12127353728805, 27.41597825189439, 28.945647798488725, 29.086680032037997, 27.04501726466009, 28.62506705160689, 24.730382184304244, 35.780623783018896, 35.11269514988105, 32.25115467850115, 24.579467855461008, 25.593862148819717, 19.76439137381572, 20.311571167258023, 21.435363501684567, 18.539719683219882, 17.18572611390747, 20.74934949401458, 22.64791345585938, 19.770009770971328, 20.64745349299572, 26.52652691007224, 20.774405543958196, 20.71546432355064, 25.174614840987996, 20.4273652038225, 23.378625212900033, 23.694541450427757, 20.33202238647935, 20.793781392182595, 21.920244141311372, 22.47432005850283, 20.55884635196586, 16.363007643808945, 20.563421113029655, 22.48570454308016, 14.612648388437016, 15.180260696352946, 18.938284432588766, 14.05749549781817, 20.036519590338454, 19.413062879641473, 20.064010335656675, 15.760057721320027, 13.247715772050157, 17.261677290418277, 15.877596722216119, 19.361451043855766, 13.81270813845903, 16.44782934288086, 13.56511101059547, 3.9834397409420035, 14.592412069109002, 12.145030927836622, 8.724071075866252, 12.00815658567064, 15.803085862626375, 8.509639293443826, 9.709655122812933, 14.798480672912724, 20.835980961589453, 18.300170132803135, 20.125752670765415, 17.275856806197467, 22.359979920343246, 20.079851835550265, 13.599037440531895, 33.266352214417374, 29.0393837862996, 25.566945288004394, 32.71732164152398, 36.78111388111035, 40.56615533011252, 41.85122271435675, 24.79875684466931, 25.37715449932607, 37.20662185455955, 23.08244607671405, 26.403268342127618, 26.656474326219687, 22.554129191715475, 24.297094799792312, 22.98024801972224, 29.074883888737162, 26.52620066220439, 30.723512254687716, 25.618353591220703, 29.142032828538543, 31.436906344554835, 32.92329380015585, 34.72096487191013, 27.76792733486934, 33.88992899202244, 30.997258045066626, 22.72124288469437, 24.765676829883915, 35.88131718886622, 33.42696242130286, 32.41513624871593, 34.51611818320273, 30.76057665877845, 30.291698927486923, 32.92040221182147, 32.11459912121152, 31.561333848230216, 40.84274603439073, 36.1304634256105, 32.6663927059983, 34.705586469871264, 30.09276228021229, 30.64139723682443, 29.291897044112858, 37.07062622817234, 42.02879611361056, 43.18582722398416, 22.692388797721996, 23.68420569227321, 17.854352952873654, 23.49543856582956, 17.00872418498123, 22.395350659519202, 17.061522433502116, 22.741068242208055, 25.2197425231713, 11.106011606045108, 24.513006167069292, 26.607490258269628, 28.358024435102628, 24.918604575058087, 29.69254950609229, 33.18492755059372, 23.771455228784102, 32.1408650784132, 29.748023621859833, 38.36605631912943, 39.80716458470123, 37.583625456745246, 32.39769703530763, 35.450482572931335, 31.234464806544796, 24.484783211694133, 33.28615723076931, 38.04368163539747, 37.157372670446506, 31.712974689028698, 25.266580174645803, 30.101515000418377, 32.718976554594555, 28.42735375898628, 28.429991681043322, 27.29132149718025, 23.744466705654727, 24.118789410416866, 27.402412087402926, 16.3299357485511, 13.39695213466107, 20.016555805800063, 19.862059038309226, 21.28604603876053, 24.07796481813886, 24.20603792409474, 25.042015337797444, 24.917090968076835, 29.93762975257338, 23.977090541407517, 21.699319690388386, 37.510513813075235, 43.2945935736054, 36.48121426533216, 34.99129701428895, 34.808657287701244, 37.16296374281801, 40.98236380404529, 34.442116907398805, 35.83178067755407, 28.249136468609855, 31.220223118379707, 40.83256201730775, 39.31768807814942, 25.710994243501997, 22.30344878467782, 27.205513409099865, 28.51386351985176, 35.47494122267881, 36.11110647123643, 33.80004806932219, 35.61141950833203, 34.843117423071774, 30.353593229776028, 35.31260262023085, 38.796848080086974, 34.33296541203923, 40.34038635959286, 44.6733992277221, 31.595547296019046, 27.359946418780552, 20.095205962293882, 27.04518523673071, 27.21674397243954, 26.91105225738411, 33.43602979373521, 34.4022878547218, 31.833741807947668, 25.824160348559058, 24.43687139364593, 28.463488908752453, 27.36916175797751, 19.54441877655635, 29.11480678915489, 31.908526989887065, 30.77325183404029, 28.943083504363212, 28.881081062840536, 32.79876794402603, 33.20356948676172, 30.765685457216854, 35.55843484877541, 32.707254359867704, 28.647598612745263, 23.593884388429714, 18.54615580128776, 26.88429023503256, 23.284854418806823, 25.55002200983606, 25.483373227522293, 20.543437687268742, 17.614063837139156, 18.376279327299272, 24.29187593882904, 21.32572019524774, 24.888261312979107, 24.871430486143833, 22.872556052759194, 19.454023398540127, 25.119487412279796, 24.668163741964428, 23.682096563324816, 19.339517250225317, 21.17636040865609, 24.25306587707961, 21.593111966815435, 19.987666674727862, 23.340795837350075, 22.139739585180212, 21.553491962938004, 20.6180886787281, 20.16075709571883, 19.28455466411012, 22.165939190846682, 21.248937352891165, 21.429854558745756, 30.32874523114117, 22.049153962888063, 27.706101248913537, 28.54595004007713, 16.54657063055613, 14.782782612413971, 25.2733677176252, 27.54088053583373, 22.146334672503542, 20.460812057607676, 20.544723324706535, 16.881943908810094, 25.400669556457796, 14.322995468736796, 16.592740301905103, 19.632245966643794, 22.711730202681068, 22.199469491661215, 19.198915098603003, 22.66091019343514, 18.92059374330947, 18.227153592610733, 20.224443861053427, 37.479460986088505, 14.29172583081614, 15.536971480579936, 10.82825816906589, 23.811349869394395, 32.64787162919609, 34.611634007877434, 24.94604102395525, 26.002597244201265, 6.1208572825191325, 0.780211264952321, 25.311373002270994, 17.734659141741396, 20.22593282247165, 15.838348605721539, 16.837424005325744, 14.431236081836929, 18.47647772924691, 13.424279334504234, 13.056778235264343, 3.276464850089212, 8.05936467289916, 6.139031137335621, 5.62271212614878, 6.449351537446972, 14.2059745074599, 17.210226712661168, 17.290350654407412, 9.89064351474244, 20.21972222195899, 17.945110515918074, 20.30017588452688, 19.287903175344006, 16.333000084071138, 6.568436621112134, 10.875415771468848, 11.887040974381279, 17.810989286113838, 18.2546106631429, 12.992827069448985, 7.393190533125917, 8.256095614374154, 8.078999711817772, 19.985637151317686, 13.696517442812421, 19.83511411977733, 15.234537804614874, 16.931124190049314, 1.6934740632771792, 11.811162629212, -4.283009341921641, 9.550078436020549, 13.326355212506606, 6.883510771642406, 6.168274171806303, 14.569332345987316, 19.592929315287158, 18.115168596059547, 18.52011987222437, 13.137074572062765, 14.596626012436882, 9.892374899008743, 16.31998048472107, 14.06750300974938, 14.22573567713744, 13.007522506880655, 18.132775466923686, 18.66645496162758, 21.502837953395318, 17.000393790017387, 15.939266017125448, 13.329527160057964, 14.489492108908586, 8.783667308202432, 4.830031704975305, 13.06115528123653, 12.711014724343336, 17.288762403966402, 18.734249061399993, 18.052710131506007, 11.49855611853097, 13.008415122983042, 17.669755765539193, 18.123422937865204, 17.515032307220828, 17.213072033212967, 16.482385430652563, 19.40079737350503, 18.57392951396823, 22.478331859045753, 15.241798355478927, 15.78327608657212, 12.648537775396079, 12.841210489223378, 17.171736609675307, 18.509068577852855, 19.0280387422127, 20.16441773051648, 19.769753351684415, 22.426149366013682, 20.317503138036436, 17.87618837134583, 14.339134098153309, 16.93715603086919, 16.987166294491626, 18.59431701303171, 20.163951545939348, 22.97743545978381, 22.451106388590155, 25.57072070213525, 16.3909111158213, 16.09765426954676, 20.528356890807856, 11.542904504798685, 19.203874824235612, 21.868206028384, 23.470522031749827, 27.10034494015563, 28.57064813157129, 21.083988102339337, 19.449052902199554, 22.218922095983032, 19.654230661968484, 21.32467099623538, 11.862313638505519, 8.222605922227885, 3.6582516843344166, 13.762759507003032, 15.937809442913476, 20.627300965903984, 20.61035442795926, 16.880480350077825, 14.010172437519302, 19.108255341625124, 21.29720740946043, 18.455242173551355, 20.46764235051402, 23.53261728511111, 22.378697978108566, 27.629342467286904, 26.129838438269747, 22.348702685915814], \"histnorm\": \"probability\", \"nbinsx\": 100, \"marker\": {\"color\": \"rgb(255,127,14)\"}, \"xaxis\": \"x1\", \"yaxis\": \"y2\"}], {\"yaxis1\": {\"domain\": [0.8, 1], \"anchor\": \"free\", \"position\": 0.0, \"titlefont\": {\"family\": \"serif\", \"size\": 14}, \"showticklabels\": false}, \"xaxis1\": {\"domain\": [0.0, 1.0], \"anchor\": \"y2\", \"title\": \"<b>Housing Price, $1,000's</b>\", \"titlefont\": {\"family\": \"serif\", \"size\": 14}, \"tickfont\": {\"family\": \"serif\", \"size\": 14}}, \"yaxis2\": {\"domain\": [0, 0.8], \"anchor\": \"x1\", \"title\": \"<b>PDF</b>\", \"titlefont\": {\"family\": \"serif\", \"size\": 14}, \"tickfont\": {\"family\": \"serif\", \"size\": 14}}, \"plot_bgcolor\": \"rgb(247,247,247)\", \"legend\": {\"font\": {\"family\": \"serif\", \"size\": 12}}, \"height\": 600, \"title\": \"<b>Actual vs Predicted Housing Price Distributions (13 Independent Variables)</b>\", \"titlefont\": {\"family\": \"serif\", \"size\": 24}}, {\"showLink\": true, \"linkText\": \"Export to plot.ly\"})});</script>"
      ]
     },
     "metadata": {},
     "output_type": "display_data"
    },
    {
     "name": "stdout",
     "output_type": "stream",
     "text": [
      "The mean actual housing price is $22.53k\n",
      "The mean predicted housing price is $22.53k\n",
      "The standard deviation around the mean actual housing price is $9.19k\n",
      "The standard deviation around the mean predicted housing price is $7.91k\n"
     ]
    }
   ],
   "source": [
    "# your turn\n",
    "y_pred = lm.predict(X)\n",
    "\n",
    "trace0 = go.Box(name=\"Actual Value\", x=y, boxmean=\"sd\")\n",
    "trace1 = go.Box(name=\"Predicted Value\", x=y_pred, boxmean=\"sd\")\n",
    "trace2 = go.Histogram(name=\"Actual Value\", x=y, histnorm=\"probability\", nbinsx= 100, marker=dict(color=\"rgb(31,119,180)\"))\n",
    "trace3 = go.Histogram(name=\"Predicted Value\", x=y_pred, histnorm=\"probability\", nbinsx= 100, marker=dict(color=\"rgb(255,127,14)\"))\n",
    "\n",
    "fig = py.tools.make_subplots(rows=2, cols=1, shared_xaxes=True)\n",
    "fig.append_trace(trace0, 1, 1)\n",
    "fig.append_trace(trace1, 1, 1)\n",
    "fig.append_trace(trace2, 2, 1)\n",
    "fig.append_trace(trace3, 2, 1)\n",
    "\n",
    "fig[\"layout\"].update(\n",
    "    plot_bgcolor=\"rgb(247,247,247)\",\n",
    "    legend=dict(font=dict(family=\"serif\", size=12)),\n",
    "    height=600,\n",
    "    title=\"<b>Actual vs Predicted Housing Price Distributions (13 Independent Variables)</b>\",\n",
    "    titlefont=dict(family=\"serif\", size=24),\n",
    "    yaxis1=dict(titlefont=dict(family=\"serif\", size=14), domain=[0.8, 1], showticklabels=False), \n",
    "    yaxis2=dict(title=\"<b>PDF</b>\", titlefont=dict(family=\"serif\", size=14), tickfont=dict(family=\"serif\", size=14), domain=[0, 0.8]), \n",
    "    xaxis1=dict(title=\"<b>Housing Price, $1,000's</b>\", titlefont=dict(family=\"serif\", size=14), tickfont=dict(family=\"serif\", size=14)))\n",
    "\n",
    "py.offline.iplot(fig)\n",
    "\n",
    "print(\"The mean actual housing price is ${0}k\".format(round(np.mean(y), 2)))\n",
    "print(\"The mean predicted housing price is ${0}k\".format(round(np.mean(y_pred), 2)))\n",
    "print(\"The standard deviation around the mean actual housing price is ${0}k\".format(round(np.std(y), 2)))\n",
    "print(\"The standard deviation around the mean predicted housing price is ${0}k\".format(round(np.std(y_pred), 2)))"
   ]
  },
  {
   "cell_type": "markdown",
   "metadata": {},
   "source": [
    "In looking at the graph above, the resulting predicted housing prices appear to be normally distributed around a mean housing price of 22,530. There appears to be two outliers in the predicted values that are very near 0 and one outlier that ia less than 0. These outliers' existence may be due to A.) some of the coefficients for the independent variables are weighted to heavily and/or B.) some of the independent variables samples are out of range for the problem. We may need to A.) regularize the coefficients and/or B.) remove some sample rows from the dataset and/or C.) setup input boundaries around the independent variables."
   ]
  },
  {
   "cell_type": "markdown",
   "metadata": {},
   "source": [
    "<p><b>Exercise:</b> Scatterplot: Let's plot the true prices compared to the predicted prices to see how they disagree (we did this with `statsmodels` before).</p>"
   ]
  },
  {
   "cell_type": "code",
   "execution_count": 39,
   "metadata": {},
   "outputs": [
    {
     "data": {
      "text/plain": [
       "Text(0.5,1,'Inspection of Model Performance')"
      ]
     },
     "execution_count": 39,
     "metadata": {},
     "output_type": "execute_result"
    },
    {
     "data": {
      "image/png": "[encoded data removed]",
      "text/plain": [
       "<Figure size 432x288 with 1 Axes>"
      ]
     },
     "metadata": {},
     "output_type": "display_data"
    }
   ],
   "source": [
    "plt.scatter(y_pred, y)\n",
    "plt.xlabel(\"Modeled Housing Prices\")\n",
    "plt.ylabel(\"Acutal Housing Prices\")\n",
    "plt.title(\"Inspection of Model Performance\")"
   ]
  },
  {
   "cell_type": "markdown",
   "metadata": {},
   "source": [
    "<p><b>Exercise:</b> We have looked at fitting a linear model in both `statsmodels` and `scikit-learn`. What are the advantages and disadvantages of each based on your exploration? Based on the information provided by both packages, what advantage does `statsmodels` provide?</p>"
   ]
  },
  {
   "cell_type": "markdown",
   "metadata": {},
   "source": [
    "More easily obtainable, pre-formatted metrics about the regression model's results"
   ]
  },
  {
   "cell_type": "markdown",
   "metadata": {},
   "source": [
    "### Evaluating the Model: Sum-of-Squares\n",
    "\n",
    "The partitioning of the sum-of-squares shows the variance in the predictions explained by the model and the variance that is attributed to error.\n",
    "\n",
    "$$TSS = ESS + RSS$$\n",
    "\n",
    "#### Residual Sum-of-Squares (aka $RSS$)\n",
    "\n",
    "The residual sum-of-squares is one of the basic ways of quantifying how much error exists in the fitted model. We will revisit this in a bit.\n",
    "\n",
    "$$ RSS = \\sum_{i=1}^N r_i^2 = \\sum_{i=1}^N \\left(y_i - \\left(\\beta_0 + \\beta_1 x_i\\right)\\right)^2 $$"
   ]
  },
  {
   "cell_type": "code",
   "execution_count": 40,
   "metadata": {
    "collapsed": true
   },
   "outputs": [
    {
     "name": "stdout",
     "output_type": "stream",
     "text": [
      "11080.276284149873\n"
     ]
    }
   ],
   "source": [
    "print(np.sum((bos.PRICE - lm.predict(X)) ** 2))"
   ]
  },
  {
   "cell_type": "markdown",
   "metadata": {},
   "source": [
    "#### Explained Sum-of-Squares (aka $ESS$)\n",
    "\n",
    "The explained sum-of-squares measures the variance explained by the regression model.\n",
    "\n",
    "$$ESS = \\sum_{i=1}^N \\left( \\hat{y}_i - \\bar{y} \\right)^2 = \\sum_{i=1}^N \\left( \\left( \\hat{\\beta}_0 + \\hat{\\beta}_1 x_i \\right) - \\bar{y} \\right)^2$$"
   ]
  },
  {
   "cell_type": "code",
   "execution_count": 41,
   "metadata": {
    "collapsed": true
   },
   "outputs": [
    {
     "name": "stdout",
     "output_type": "stream",
     "text": [
      "4.8092797801715875e-23\n"
     ]
    }
   ],
   "source": [
    "print(np.sum(lm.predict(X) - np.mean(bos.PRICE)) ** 2)"
   ]
  },
  {
   "cell_type": "markdown",
   "metadata": {},
   "source": [
    "### Evaluating the Model: The Coefficient of Determination ($R^2$)\n",
    "\n",
    "The coefficient of determination, $R^2$, tells us the percentage of the variance in the response variable $Y$ that can be explained by the linear regression model.\n",
    "\n",
    "$$ R^2 = \\frac{ESS}{TSS} $$\n",
    "\n",
    "The $R^2$ value is one of the most common metrics that people use in describing the quality of a model, but it is important to note that *$R^2$ increases artificially as a side-effect of increasing the number of independent variables.* While $R^2$ is reported in almost all statistical packages, another metric called the *adjusted $R^2$* is also provided as it takes into account the number of variables in the model, and can sometimes even be used for non-linear regression models!\n",
    "\n",
    "$$R_{adj}^2 = 1 - \\left( 1 - R^2 \\right) \\frac{N - 1}{N - K - 1} = R^2 - \\left( 1 - R^2 \\right) \\frac{K}{N - K - 1} = 1 - \\frac{\\frac{RSS}{DF_R}}{\\frac{TSS}{DF_T}}$$\n",
    "\n",
    "where $N$ is the number of observations, $K$ is the number of variables, $DF_R = N - K - 1$ is the degrees of freedom associated with the residual error and $DF_T = N - 1$ is the degrees of the freedom of the total error."
   ]
  },
  {
   "cell_type": "markdown",
   "metadata": {},
   "source": [
    "### Evaluating the Model: Mean Squared Error and the $F$-Statistic\n",
    "***\n",
    "The mean squared errors are just the *averages* of the sum-of-squares errors over their respective degrees of freedom.\n",
    "\n",
    "$$MSE = \\frac{ESS}{K}$$\n",
    "$$MSR = \\frac{RSS}{N-K-1}$$\n",
    "\n",
    "**Remember: ** Notation may vary across resources particularly the use of *R* and *E* in *RSS/ESS* and *MSR/MSE*. In some resources, E = explained and R = residual. In other resources, E = error and R = regression (explained). **This is a very important distinction that requires looking at the formula to determine which naming scheme is being used.**\n",
    "\n",
    "Given the MSR and MSE, we can now determine whether or not the entire model we just fit is even statistically significant. We use an $F$-test for this. The null hypothesis is that all of the $\\beta$ coefficients are zero, that is, none of them have any effect on $Y$. The alternative is that *at least one* $\\beta$ coefficient is nonzero, but it doesn't tell us which one in a multiple regression:\n",
    "\n",
    "$$H_0: \\beta_i = 0, \\mbox{for all $i$} \\\\\n",
    "H_A: \\beta_i > 0, \\mbox{for some $i$}$$ \n",
    "\n",
    "$$F = \\frac{MSR}{MSE} = \\left( \\frac{R^2}{1 - R^2} \\right) \\left( \\frac{N - K - 1}{K} \\right)$$\n",
    " \n",
    "Once we compute the $F$-statistic, we can use the $F$-distribution with $N-K$ and $K-1$ degrees of degrees of freedom to get a p-value.\n",
    "\n",
    "**Warning!** The $F$-statistic mentioned in this section is NOT the same as the F1-measure or F1-value discused in Unit 7."
   ]
  },
  {
   "cell_type": "markdown",
   "metadata": {},
   "source": [
    "<h3>Part 3 Checkup Exercise Set IV</h3>\n",
    "\n",
    "<p>Let's look at the relationship between `PTRATIO` and housing price.</p>\n",
    "\n",
    "<p><b>Exercise:</b> Try fitting a linear regression model using only the 'PTRATIO' (pupil-teacher ratio by town) and interpret the intercept and the coefficients.</p>"
   ]
  },
  {
   "cell_type": "code",
   "execution_count": 42,
   "metadata": {
    "collapsed": true
   },
   "outputs": [
    {
     "name": "stdout",
     "output_type": "stream",
     "text": [
      "Estimated intercept coefficient: 62.34462747483269\n",
      "Number of coefficients: 1\n"
     ]
    },
    {
     "data": {
      "text/html": [
       "<div>\n",
       "<style scoped>\n",
       "    .dataframe tbody tr th:only-of-type {\n",
       "        vertical-align: middle;\n",
       "    }\n",
       "\n",
       "    .dataframe tbody tr th {\n",
       "        vertical-align: top;\n",
       "    }\n",
       "\n",
       "    .dataframe thead th {\n",
       "        text-align: right;\n",
       "    }\n",
       "</style>\n",
       "<table border=\"1\" class=\"dataframe\">\n",
       "  <thead>\n",
       "    <tr style=\"text-align: right;\">\n",
       "      <th></th>\n",
       "      <th>features</th>\n",
       "      <th>estimatedCoefficients</th>\n",
       "    </tr>\n",
       "  </thead>\n",
       "  <tbody>\n",
       "    <tr>\n",
       "      <th>0</th>\n",
       "      <td>PTRATIO</td>\n",
       "      <td>-2.157175</td>\n",
       "    </tr>\n",
       "  </tbody>\n",
       "</table>\n",
       "</div>"
      ],
      "text/plain": [
       "  features  estimatedCoefficients\n",
       "0  PTRATIO              -2.157175"
      ]
     },
     "execution_count": 42,
     "metadata": {},
     "output_type": "execute_result"
    }
   ],
   "source": [
    "# your turn\n",
    "lm_PTRATIO = LinearRegression()\n",
    "lm_PTRATIO.fit(X[[\"PTRATIO\"]], y)\n",
    "\n",
    "print('Estimated intercept coefficient: {}'.format(lm_PTRATIO.intercept_))\n",
    "print('Number of coefficients: {}'.format(len(lm_PTRATIO.coef_)))\n",
    "pd.DataFrame({'features': X[[\"PTRATIO\"]].columns, 'estimatedCoefficients': lm_PTRATIO.coef_})[['features', 'estimatedCoefficients']]"
   ]
  },
  {
   "cell_type": "markdown",
   "metadata": {},
   "source": [
    "This model suggests that the base housing price starts at a high-end price of 62,345 and decreases in value by 2,157 per percentage increase in pupil-teacher ratio."
   ]
  },
  {
   "cell_type": "markdown",
   "metadata": {},
   "source": [
    "<p><b>Exercise:</b> Calculate (or extract) the $R^2$ value. What does it tell you?</p>"
   ]
  },
  {
   "cell_type": "code",
   "execution_count": 43,
   "metadata": {},
   "outputs": [
    {
     "name": "stdout",
     "output_type": "stream",
     "text": [
      "0.257847318009223\n"
     ]
    }
   ],
   "source": [
    "R2 = lm_PTRATIO.score(X[[\"PTRATIO\"]], y)\n",
    "print(R2)"
   ]
  },
  {
   "cell_type": "markdown",
   "metadata": {},
   "source": [
    "This linear regression model \"fits\" the samples with an $R^2$ value of ~0.258 which is a horrible fit and is a poor representation of the problem in predicting housing prices."
   ]
  },
  {
   "cell_type": "markdown",
   "metadata": {},
   "source": [
    "<p><b>Exercise:</b> Compute the $F$-statistic. What does it tell you?</p>"
   ]
  },
  {
   "cell_type": "code",
   "execution_count": 44,
   "metadata": {},
   "outputs": [
    {
     "name": "stdout",
     "output_type": "stream",
     "text": [
      "506\n",
      "1\n",
      "175.10554287569548\n"
     ]
    }
   ],
   "source": [
    "N = len(X[[\"PTRATIO\"]])\n",
    "print(N)\n",
    "K = len(X[[\"PTRATIO\"]].columns)\n",
    "print(K)\n",
    "F_stat = (R2 / (1 - R2)) * ((N - K - 1) / K)\n",
    "print(F_stat)"
   ]
  },
  {
   "cell_type": "markdown",
   "metadata": {},
   "source": [
    "We reject the null hypothesis that the $\\beta$ coefficient for PTRATIO is zero and accept the alternative hypothesis that there is some $\\beta$ for the PTRATIO feature that does have an effect on the response variable $Y$."
   ]
  },
  {
   "cell_type": "markdown",
   "metadata": {},
   "source": [
    "<p><b>Exercise:</b> Take a close look at the $F$-statistic and the $t$-statistic for the regression coefficient. What relationship do you notice? Note that this relationship only applies in *simple* linear regression models.</p>"
   ]
  },
  {
   "cell_type": "code",
   "execution_count": 45,
   "metadata": {},
   "outputs": [
    {
     "name": "stdout",
     "output_type": "stream",
     "text": [
      "                            OLS Regression Results                            \n",
      "==============================================================================\n",
      "Dep. Variable:                  PRICE   R-squared:                       0.258\n",
      "Model:                            OLS   Adj. R-squared:                  0.256\n",
      "Method:                 Least Squares   F-statistic:                     175.1\n",
      "Date:                Mon, 02 Jul 2018   Prob (F-statistic):           1.61e-34\n",
      "Time:                        09:40:02   Log-Likelihood:                -1764.8\n",
      "No. Observations:                 506   AIC:                             3534.\n",
      "Df Residuals:                     504   BIC:                             3542.\n",
      "Df Model:                           1                                         \n",
      "Covariance Type:            nonrobust                                         \n",
      "==============================================================================\n",
      "                 coef    std err          t      P>|t|      [0.025      0.975]\n",
      "------------------------------------------------------------------------------\n",
      "Intercept     62.3446      3.029     20.581      0.000      56.393      68.296\n",
      "PTRATIO       -2.1572      0.163    -13.233      0.000      -2.477      -1.837\n",
      "==============================================================================\n",
      "Omnibus:                       92.924   Durbin-Watson:                   0.725\n",
      "Prob(Omnibus):                  0.000   Jarque-Bera (JB):              191.444\n",
      "Skew:                           1.001   Prob(JB):                     2.68e-42\n",
      "Kurtosis:                       5.252   Cond. No.                         160.\n",
      "==============================================================================\n",
      "\n",
      "Warnings:\n",
      "[1] Standard Errors assume that the covariance matrix of the errors is correctly specified.\n"
     ]
    }
   ],
   "source": [
    "m2 = ols('PRICE ~ PTRATIO',bos).fit()\n",
    "print(m2.summary())"
   ]
  },
  {
   "cell_type": "code",
   "execution_count": 86,
   "metadata": {},
   "outputs": [
    {
     "name": "stdout",
     "output_type": "stream",
     "text": [
      "The p-value from the t-statistic is 1.61e-34\n",
      "The p-value from the F-statistic is 1.61e-34\n"
     ]
    }
   ],
   "source": [
    "from scipy import stats\n",
    "\n",
    "print(\"The p-value from the t-statistic is {0:1.2e}\".format(stats.t.sf(abs(-13.233), 504) * 2))\n",
    "print(\"The p-value from the F-statistic is {0:1.2e}\".format(stats.f.sf(F_stat, 1, 504)))"
   ]
  },
  {
   "cell_type": "markdown",
   "metadata": {},
   "source": [
    "The p-values for both the F-statistic and the t-statistic associated with this simple (sinlge independent variable) regression analysis are the equal to each other."
   ]
  },
  {
   "cell_type": "markdown",
   "metadata": {},
   "source": [
    "<h3>Part 3 Checkup Exercise Set V</h3>\n",
    "\n",
    "<p>Fit a linear regression model using three independent variables</p>\n",
    "\n",
    "<ol>\n",
    "<li> 'CRIM' (per capita crime rate by town)\n",
    "<li> 'RM' (average number of rooms per dwelling)\n",
    "<li> 'PTRATIO' (pupil-teacher ratio by town)\n",
    "</ol>\n",
    "\n",
    "<p><b>Exercise:</b> Compute or extract the $F$-statistic. What does it tell you about the model?</p>"
   ]
  },
  {
   "cell_type": "code",
   "execution_count": 47,
   "metadata": {
    "collapsed": true
   },
   "outputs": [
    {
     "name": "stdout",
     "output_type": "stream",
     "text": [
      "                            OLS Regression Results                            \n",
      "==============================================================================\n",
      "Dep. Variable:                  PRICE   R-squared:                       0.593\n",
      "Model:                            OLS   Adj. R-squared:                  0.591\n",
      "Method:                 Least Squares   F-statistic:                     244.2\n",
      "Date:                Mon, 02 Jul 2018   Prob (F-statistic):           1.09e-97\n",
      "Time:                        09:40:02   Log-Likelihood:                -1612.6\n",
      "No. Observations:                 506   AIC:                             3233.\n",
      "Df Residuals:                     502   BIC:                             3250.\n",
      "Df Model:                           3                                         \n",
      "Covariance Type:            nonrobust                                         \n",
      "==============================================================================\n",
      "                 coef    std err          t      P>|t|      [0.025      0.975]\n",
      "------------------------------------------------------------------------------\n",
      "Intercept     -3.3066      4.038     -0.819      0.413     -11.240       4.627\n",
      "CRIM          -0.2021      0.032     -6.301      0.000      -0.265      -0.139\n",
      "RM             7.3816      0.402     18.360      0.000       6.592       8.171\n",
      "PTRATIO       -1.0742      0.133     -8.081      0.000      -1.335      -0.813\n",
      "==============================================================================\n",
      "Omnibus:                      233.249   Durbin-Watson:                   0.828\n",
      "Prob(Omnibus):                  0.000   Jarque-Bera (JB):             2002.374\n",
      "Skew:                           1.802   Prob(JB):                         0.00\n",
      "Kurtosis:                      12.054   Cond. No.                         311.\n",
      "==============================================================================\n",
      "\n",
      "Warnings:\n",
      "[1] Standard Errors assume that the covariance matrix of the errors is correctly specified.\n"
     ]
    }
   ],
   "source": [
    "# your turn\n",
    "m3 = ols('PRICE ~ CRIM + RM + PTRATIO',bos).fit()\n",
    "print(m3.summary())"
   ]
  },
  {
   "cell_type": "markdown",
   "metadata": {},
   "source": [
    "<p><b>Exercise:</b> Compute or extract the $R^2$ statistic. What does it tell you about the model?</p>"
   ]
  },
  {
   "cell_type": "markdown",
   "metadata": {},
   "source": [
    "An $R^2$ value of 0.593 is suggests that this model does not \"fit\" the sample data that well. It suggests that this linear model is not a good representation of the actual housing prices."
   ]
  },
  {
   "cell_type": "markdown",
   "metadata": {},
   "source": [
    "<p><b>Exercise:</b> Which variables in the model are significant in predicting house price? Write a story that interprets the coefficients.</p>"
   ]
  },
  {
   "cell_type": "markdown",
   "metadata": {},
   "source": [
    "The RM (average number of rooms per dwelling) input variable has a stronger relationship (higher coefficient $\\hat{\\beta}$) to the response variable suggesting that there is a 7,382 increase in housing price for each additional room."
   ]
  },
  {
   "cell_type": "markdown",
   "metadata": {},
   "source": [
    "## Part 4: Comparing Models"
   ]
  },
  {
   "cell_type": "markdown",
   "metadata": {},
   "source": [
    "During modeling, there will be times when we want to compare models to see which one is more predictive or fits the data better. There are many ways to compare models, but we will focus on two."
   ]
  },
  {
   "cell_type": "markdown",
   "metadata": {},
   "source": [
    "### The $F$-Statistic Revisited\n",
    "\n",
    "The $F$-statistic can also be used to compare two *nested* models, that is, two models trained on the same dataset where one of the models contains a *subset* of the variables of the other model. The *full* model contains $K$ variables and the *reduced* model contains a subset of these $K$ variables. This allows us to add additional variables to a base model and then test if adding the variables helped the model fit.\n",
    "\n",
    "$$F = \\frac{\\left( \\frac{RSS_{reduced} - RSS_{full}}{DF_{reduced} - DF_{full}} \\right)}{\\left( \\frac{RSS_{full}}{DF_{full}} \\right)}$$\n",
    "\n",
    "where $DF_x = N - K_x - 1$ where $K_x$ is the number of variables in model $x$."
   ]
  },
  {
   "cell_type": "markdown",
   "metadata": {},
   "source": [
    "### Akaike Information Criterion (AIC)\n",
    "\n",
    "Another statistic for comparing two models is AIC, which is based on the likelihood function and takes into account the number of variables in the model.\n",
    "\n",
    "$$AIC = 2 K - 2 \\log_e{L}$$\n",
    "\n",
    "where $L$ is the likelihood of the model. AIC is meaningless in the absolute sense, and is only meaningful when compared to AIC values from other models. Lower values of AIC indicate better fitting models.\n",
    "\n",
    "`statsmodels` provides the AIC in its output."
   ]
  },
  {
   "cell_type": "markdown",
   "metadata": {},
   "source": [
    "<h3>Part 4 Checkup Exercises</h3>\n",
    "\n",
    "<p><b>Exercise:</b> Find another variable (or two) to add to the model we built in Part 3. Compute the $F$-test comparing the two models as well as the AIC. Which model is better?</p>"
   ]
  },
  {
   "cell_type": "code",
   "execution_count": 98,
   "metadata": {},
   "outputs": [
    {
     "name": "stdout",
     "output_type": "stream",
     "text": [
      "                            OLS Regression Results                            \n",
      "==============================================================================\n",
      "Dep. Variable:                  PRICE   R-squared:                       0.696\n",
      "Model:                            OLS   Adj. R-squared:                  0.693\n",
      "Method:                 Least Squares   F-statistic:                     228.5\n",
      "Date:                Mon, 02 Jul 2018   Prob (F-statistic):          1.25e-126\n",
      "Time:                        12:28:26   Log-Likelihood:                -1539.3\n",
      "No. Observations:                 506   AIC:                             3091.\n",
      "Df Residuals:                     500   BIC:                             3116.\n",
      "Df Model:                           5                                         \n",
      "Covariance Type:            nonrobust                                         \n",
      "==============================================================================\n",
      "                 coef    std err          t      P>|t|      [0.025      0.975]\n",
      "------------------------------------------------------------------------------\n",
      "Intercept     22.9708      4.079      5.632      0.000      14.957      30.984\n",
      "CRIM          -0.0903      0.031     -2.953      0.003      -0.150      -0.030\n",
      "RM             4.3254      0.422     10.250      0.000       3.496       5.154\n",
      "PTRATIO       -0.9227      0.116     -7.925      0.000      -1.151      -0.694\n",
      "LSTAT         -0.6258      0.048    -12.956      0.000      -0.721      -0.531\n",
      "DIS           -0.6192      0.128     -4.836      0.000      -0.871      -0.368\n",
      "==============================================================================\n",
      "Omnibus:                      182.217   Durbin-Watson:                   0.960\n",
      "Prob(Omnibus):                  0.000   Jarque-Bera (JB):              806.152\n",
      "Skew:                           1.559   Prob(JB):                    8.84e-176\n",
      "Kurtosis:                       8.340   Cond. No.                         442.\n",
      "==============================================================================\n",
      "\n",
      "Warnings:\n",
      "[1] Standard Errors assume that the covariance matrix of the errors is correctly specified.\n"
     ]
    }
   ],
   "source": [
    "m4 = ols('PRICE ~ CRIM + RM + PTRATIO + LSTAT + DIS',bos).fit()\n",
    "print(m4.summary())"
   ]
  },
  {
   "cell_type": "markdown",
   "metadata": {},
   "source": [
    "This new model with the LSTAT and DIS features added produces better results than the model with only CRIM, RM, and PTRATIO as the AIC and the p-value associated with the F-statistic are lower."
   ]
  },
  {
   "cell_type": "markdown",
   "metadata": {},
   "source": [
    "\n",
    "## Part 5: Evaluating the Model via Model Assumptions and Other Issues\n",
    "***\n",
    "Linear regression makes several assumptions. It is always best to check that these assumptions are valid after fitting a linear regression model.\n",
    "\n",
    "<div class=\"span5 alert alert-danger\">\n",
    "<ul>\n",
    "  <li>**Linearity**. The dependent variable $Y$ is a linear combination of the regression coefficients and the independent variables $X$. This can be verified with a scatterplot of each $X$ vs. $Y$ and plotting correlations among $X$. Nonlinearity can sometimes be resolved by [transforming](https://onlinecourses.science.psu.edu/stat501/node/318) one or more independent variables, the dependent variable, or both. In other cases, a [generalized linear model](https://en.wikipedia.org/wiki/Generalized_linear_model) or a [nonlinear model](https://en.wikipedia.org/wiki/Nonlinear_regression) may be warranted.</li>\n",
    "  <li>**Constant standard deviation**. The SD of the dependent variable $Y$ should be constant for different values of X. We can check this by plotting each $X$ against $Y$ and verifying that there is no \"funnel\" shape showing data points fanning out as $X$ increases or decreases. Some techniques for dealing with non-constant variance include weighted least squares (WLS), [robust standard errors](https://en.wikipedia.org/wiki/Heteroscedasticity-consistent_standard_errors), or variance stabilizing transformations.\n",
    "    </li>\n",
    "  <li> **Normal distribution for errors**.  The $\\epsilon$ term we discussed at the beginning are assumed to be normally distributed. This can be verified with a fitted values vs. residuals plot and verifying that there is no pattern, and with a quantile plot.\n",
    "  $$ \\epsilon_i \\sim N(0, \\sigma^2)$$\n",
    "Sometimes the distributions of responses $Y$ may not be normally distributed at any given value of $X$.  e.g. skewed positively or negatively. </li>\n",
    "<li> **Independent errors**.  The observations are assumed to be obtained independently.\n",
    "    <ul>\n",
    "        <li>e.g. Observations across time may be correlated\n",
    "    </ul>\n",
    "</li>\n",
    "</ul>  \n",
    "\n",
    "</div>\n",
    "\n",
    "There are some other issues that are important investigate with linear regression models.\n",
    "\n",
    "<div class=\"span5 alert alert-danger\">\n",
    "<ul>\n",
    "  <li>**Correlated Predictors:** Care should be taken to make sure that the independent variables in a regression model are not too highly correlated. Correlated predictors typically do not majorly affect prediction, but do inflate standard errors of coefficients making interpretation unreliable. Common solutions are dropping the least important variables involved in the correlations, using regularlization, or, when many predictors are highly correlated, considering a dimension reduction technique such as principal component analysis (PCA).\n",
    "  <li>**Influential Points:** Data points that have undue influence on the regression model. These points can be high leverage points or outliers. Such points are typically removed and the regression model rerun.\n",
    "</ul>\n",
    "</div>\n"
   ]
  },
  {
   "cell_type": "markdown",
   "metadata": {},
   "source": [
    "<h3>Part 5 Checkup Exercises</h3>\n",
    "\n",
    "<p>Take the reduced model from Part 3 to answer the following exercises. Take a look at [this blog post](http://mpastell.com/2013/04/19/python_regression/) for more information on using statsmodels to construct these plots.</p>\n",
    "    \n",
    "<p><b>Exercise:</b> Construct a fitted values versus residuals plot. What does the plot tell you? Are there any violations of the model assumptions?</p>"
   ]
  },
  {
   "cell_type": "code",
   "execution_count": 120,
   "metadata": {
    "collapsed": true
   },
   "outputs": [
    {
     "data": {
      "image/png": "[encoded data removed]",
      "text/plain": [
       "<Figure size 432x288 with 1 Axes>"
      ]
     },
     "metadata": {},
     "output_type": "display_data"
    }
   ],
   "source": [
    "# Your turn.\n",
    "y = bos.PRICE\n",
    "X = bos[[\"CRIM\", \"RM\", \"PTRATIO\"]]\n",
    "\n",
    "lm = LinearRegression()\n",
    "\n",
    "lm.fit(X, y)\n",
    "\n",
    "y_pred = lm.predict(X)\n",
    "residuals = y - y_pred\n",
    "\n",
    "sns.residplot(y_pred, residuals, lowess=True)\n",
    "plt.show()"
   ]
  },
  {
   "cell_type": "markdown",
   "metadata": {},
   "source": [
    "The residuals appear to cluster in one location, thus pointing towards *heteroscedasticity*"
   ]
  },
  {
   "cell_type": "markdown",
   "metadata": {},
   "source": [
    "<p><b>Exercise:</b> Construct a quantile plot of the residuals. What does the plot tell you?</p>"
   ]
  },
  {
   "cell_type": "code",
   "execution_count": 116,
   "metadata": {},
   "outputs": [
    {
     "data": {
      "image/png": "[encoded data removed]",
      "text/plain": [
       "<Figure size 432x288 with 1 Axes>"
      ]
     },
     "metadata": {},
     "output_type": "display_data"
    }
   ],
   "source": [
    "import pylab\n",
    "\n",
    "sm.qqplot(residuals, line=\"45\")\n",
    "pylab.show()"
   ]
  },
  {
   "cell_type": "markdown",
   "metadata": {},
   "source": [
    "The residauls are not normally distibuted"
   ]
  },
  {
   "cell_type": "markdown",
   "metadata": {},
   "source": [
    "<p><b>Exercise:</b> What are some advantages and disadvantages of the fitted vs. residual and quantile plot compared to each other?</p>"
   ]
  },
  {
   "cell_type": "markdown",
   "metadata": {},
   "source": [
    "The quantile plot will easily indicate whether the residuals are exceptable or not."
   ]
  },
  {
   "cell_type": "markdown",
   "metadata": {},
   "source": [
    "<p><b>Exercise:</b> Identify any outliers (if any) in your model and write a story describing what these outliers might represent.</p>"
   ]
  },
  {
   "cell_type": "code",
   "execution_count": 53,
   "metadata": {},
   "outputs": [],
   "source": [
    "# ???"
   ]
  },
  {
   "cell_type": "markdown",
   "metadata": {},
   "source": [
    "<p><b>Exercise:</b> Construct a leverage plot and identify high leverage points in the model. Write a story explaining possible reasons for the high leverage points.</p>"
   ]
  },
  {
   "cell_type": "code",
   "execution_count": 126,
   "metadata": {},
   "outputs": [
    {
     "data": {
      "image/png": "[encoded data removed]",
      "text/plain": [
       "<Figure size 432x288 with 1 Axes>"
      ]
     },
     "metadata": {},
     "output_type": "display_data"
    }
   ],
   "source": [
    "from statsmodels.graphics.regressionplots import *\n",
    "\n",
    "m3 = ols(\"PRICE ~ CRIM + RM + PTRATIO\", bos).fit()\n",
    "\n",
    "plot_leverage_resid2(m3);"
   ]
  },
  {
   "cell_type": "markdown",
   "metadata": {},
   "source": [
    "<p><b>Exercise:</b> Remove the outliers and high leverage points from your model and run the regression again. How do the results change?</p>"
   ]
  },
  {
   "cell_type": "code",
   "execution_count": 147,
   "metadata": {},
   "outputs": [
    {
     "name": "stdout",
     "output_type": "stream",
     "text": [
      "                            OLS Regression Results                            \n",
      "==============================================================================\n",
      "Dep. Variable:                  PRICE   R-squared:                       0.730\n",
      "Model:                            OLS   Adj. R-squared:                  0.729\n",
      "Method:                 Least Squares   F-statistic:                     441.7\n",
      "Date:                Mon, 02 Jul 2018   Prob (F-statistic):          9.41e-139\n",
      "Time:                        14:12:01   Log-Likelihood:                -1447.2\n",
      "No. Observations:                 493   AIC:                             2902.\n",
      "Df Residuals:                     489   BIC:                             2919.\n",
      "Df Model:                           3                                         \n",
      "Covariance Type:            nonrobust                                         \n",
      "==============================================================================\n",
      "                 coef    std err          t      P>|t|      [0.025      0.975]\n",
      "------------------------------------------------------------------------------\n",
      "Intercept     -9.0204      3.270     -2.759      0.006     -15.445      -2.596\n",
      "CRIM          -0.3137      0.038     -8.172      0.000      -0.389      -0.238\n",
      "RM             8.1869      0.334     24.478      0.000       7.530       8.844\n",
      "PTRATIO       -1.0449      0.106     -9.889      0.000      -1.253      -0.837\n",
      "==============================================================================\n",
      "Omnibus:                       23.511   Durbin-Watson:                   1.077\n",
      "Prob(Omnibus):                  0.000   Jarque-Bera (JB):               39.915\n",
      "Skew:                           0.331   Prob(JB):                     2.15e-09\n",
      "Kurtosis:                       4.226   Cond. No.                         316.\n",
      "==============================================================================\n",
      "\n",
      "Warnings:\n",
      "[1] Standard Errors assume that the covariance matrix of the errors is correctly specified.\n"
     ]
    },
    {
     "data": {
      "image/png": "[encoded data removed]",
      "text/plain": [
       "<Figure size 432x288 with 1 Axes>"
      ]
     },
     "metadata": {},
     "output_type": "display_data"
    },
    {
     "data": {
      "image/png": "[encoded data removed]",
      "text/plain": [
       "<Figure size 432x288 with 1 Axes>"
      ]
     },
     "metadata": {},
     "output_type": "display_data"
    }
   ],
   "source": [
    "bos_edit = bos.drop(labels=[364, 365, 367, 368, 369, 370, 371, 372, 380, 405, 410, 414, 418], axis=0)\n",
    "\n",
    "m5 = ols(\"PRICE ~ CRIM + RM + PTRATIO\", bos_edit).fit()\n",
    "print(m5.summary())\n",
    "\n",
    "y = bos_edit.PRICE\n",
    "X = bos_edit[[\"CRIM\", \"RM\", \"PTRATIO\"]]\n",
    "\n",
    "lm = LinearRegression()\n",
    "\n",
    "lm.fit(X, y)\n",
    "\n",
    "y_pred = lm.predict(X)\n",
    "residuals = y - y_pred\n",
    "\n",
    "sm.qqplot(residuals, line=\"45\")\n",
    "pylab.show()\n",
    "\n",
    "plot_leverage_resid2(m5);"
   ]
  }
 ],
 "metadata": {
  "hide_input": false,
  "kernelspec": {
   "display_name": "Python 3",
   "language": "python",
   "name": "python3"
  },
  "language_info": {
   "codemirror_mode": {
    "name": "ipython",
    "version": 3
   },
   "file_extension": ".py",
   "mimetype": "text/x-python",
   "name": "python",
   "nbconvert_exporter": "python",
   "pygments_lexer": "ipython3",
   "version": "3.7.1"
  }
 },
 "nbformat": 4,
 "nbformat_minor": 2
}
