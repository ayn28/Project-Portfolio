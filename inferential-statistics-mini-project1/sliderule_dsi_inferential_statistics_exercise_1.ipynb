{
 "cells": [
  {
   "cell_type": "markdown",
   "metadata": {},
   "source": [
    "# What is the True Normal Human Body Temperature? \n",
    "\n",
    "#### Background\n",
    "\n",
    "The mean normal body temperature was held to be 37$^{\\circ}$C or 98.6$^{\\circ}$F for more than 120 years since it was first conceptualized and reported by Carl Wunderlich in a famous 1868 book. But, is this value statistically correct?"
   ]
  },
  {
   "cell_type": "markdown",
   "metadata": {},
   "source": [
    "<h3>Exercises</h3>\n",
    "\n",
    "<p>In this exercise, you will analyze a dataset of human body temperatures and employ the concepts of hypothesis testing, confidence intervals, and statistical significance.</p>\n",
    "\n",
    "<p>Answer the following questions <b>in this notebook below and submit to your Github account</b>.</p> \n",
    "\n",
    "<ol>\n",
    "<li>  Is the distribution of body temperatures normal? \n",
    "    <ul>\n",
    "    <li> Although this is not a requirement for the Central Limit Theorem to hold (read the introduction on Wikipedia's page about the CLT carefully: https://en.wikipedia.org/wiki/Central_limit_theorem), it gives us some peace of mind that the population may also be normally distributed if we assume that this sample is representative of the population.\n",
    "    <li> Think about the way you're going to check for the normality of the distribution. Graphical methods are usually used first, but there are also other ways: https://en.wikipedia.org/wiki/Normality_test\n",
    "    </ul>\n",
    "<li>  Is the sample size large? Are the observations independent?\n",
    "    <ul>\n",
    "    <li> Remember that this is a condition for the Central Limit Theorem, and hence the statistical tests we are using, to apply.\n",
    "    </ul>\n",
    "<li>  Is the true population mean really 98.6 degrees F?\n",
    "    <ul>\n",
    "    <li> First, try a bootstrap hypothesis test.\n",
    "    <li> Now, let's try frequentist statistical testing. Would you use a one-sample or two-sample test? Why?\n",
    "    <li> In this situation, is it appropriate to use the $t$ or $z$ statistic? \n",
    "    <li> Now try using the other test. How is the result be different? Why?\n",
    "    </ul>\n",
    "<li>  Draw a small sample of size 10 from the data and repeat both frequentist tests. \n",
    "    <ul>\n",
    "    <li> Which one is the correct one to use? \n",
    "    <li> What do you notice? What does this tell you about the difference in application of the $t$ and $z$ statistic?\n",
    "    </ul>\n",
    "<li>  At what temperature should we consider someone's temperature to be \"abnormal\"?\n",
    "    <ul>\n",
    "    <li> As in the previous example, try calculating everything using the boostrap approach, as well as the frequentist approach.\n",
    "    <li> Start by computing the margin of error and confidence interval. When calculating the confidence interval, keep in mind that you should use the appropriate formula for one draw, and not N draws.\n",
    "    </ul>\n",
    "<li>  Is there a significant difference between males and females in normal temperature?\n",
    "    <ul>\n",
    "    <li> What testing approach did you use and why?\n",
    "    <li> Write a story with your conclusion in the context of the original problem.\n",
    "    </ul>\n",
    "</ol>\n",
    "\n",
    "You can include written notes in notebook cells using Markdown: \n",
    "   - In the control panel at the top, choose Cell > Cell Type > Markdown\n",
    "   - Markdown syntax: http://nestacms.com/docs/creating-content/markdown-cheat-sheet\n",
    "\n",
    "#### Resources\n",
    "\n",
    "+ Information and data sources: http://www.amstat.org/publications/jse/datasets/normtemp.txt, http://www.amstat.org/publications/jse/jse_data_archive.htm\n",
    "+ Markdown syntax: http://nestacms.com/docs/creating-content/markdown-cheat-sheet\n",
    "\n",
    "****"
   ]
  },
  {
   "cell_type": "markdown",
   "metadata": {},
   "source": [
    "# Exploratory Data Analysis"
   ]
  },
  {
   "cell_type": "code",
   "execution_count": 1,
   "metadata": {},
   "outputs": [],
   "source": [
    "import pandas as pd\n",
    "import numpy as np\n",
    "import seaborn as sns\n",
    "from scipy import stats\n",
    "import matplotlib.pyplot as plt\n",
    "%matplotlib inline\n",
    "\n",
    "df = pd.read_csv('data/human_body_temperature.csv')\n",
    "sns.set()"
   ]
  },
  {
   "cell_type": "code",
   "execution_count": 2,
   "metadata": {},
   "outputs": [
    {
     "name": "stdout",
     "output_type": "stream",
     "text": [
      "<class 'pandas.core.frame.DataFrame'>\n",
      "RangeIndex: 130 entries, 0 to 129\n",
      "Data columns (total 3 columns):\n",
      "temperature    130 non-null float64\n",
      "gender         130 non-null object\n",
      "heart_rate     130 non-null float64\n",
      "dtypes: float64(2), object(1)\n",
      "memory usage: 3.1+ KB\n"
     ]
    },
    {
     "data": {
      "text/plain": [
       "temperature    0\n",
       "gender         0\n",
       "heart_rate     0\n",
       "dtype: int64"
      ]
     },
     "execution_count": 2,
     "metadata": {},
     "output_type": "execute_result"
    }
   ],
   "source": [
    "df.info()\n",
    "df.shape\n",
    "df.isnull().sum()"
   ]
  },
  {
   "cell_type": "code",
   "execution_count": 3,
   "metadata": {},
   "outputs": [
    {
     "data": {
      "text/html": [
       "<div>\n",
       "<style scoped>\n",
       "    .dataframe tbody tr th:only-of-type {\n",
       "        vertical-align: middle;\n",
       "    }\n",
       "\n",
       "    .dataframe tbody tr th {\n",
       "        vertical-align: top;\n",
       "    }\n",
       "\n",
       "    .dataframe thead th {\n",
       "        text-align: right;\n",
       "    }\n",
       "</style>\n",
       "<table border=\"1\" class=\"dataframe\">\n",
       "  <thead>\n",
       "    <tr style=\"text-align: right;\">\n",
       "      <th></th>\n",
       "      <th>temperature</th>\n",
       "      <th>gender</th>\n",
       "      <th>heart_rate</th>\n",
       "    </tr>\n",
       "  </thead>\n",
       "  <tbody>\n",
       "    <tr>\n",
       "      <th>0</th>\n",
       "      <td>99.3</td>\n",
       "      <td>F</td>\n",
       "      <td>68.0</td>\n",
       "    </tr>\n",
       "    <tr>\n",
       "      <th>1</th>\n",
       "      <td>98.4</td>\n",
       "      <td>F</td>\n",
       "      <td>81.0</td>\n",
       "    </tr>\n",
       "    <tr>\n",
       "      <th>2</th>\n",
       "      <td>97.8</td>\n",
       "      <td>M</td>\n",
       "      <td>73.0</td>\n",
       "    </tr>\n",
       "    <tr>\n",
       "      <th>3</th>\n",
       "      <td>99.2</td>\n",
       "      <td>F</td>\n",
       "      <td>66.0</td>\n",
       "    </tr>\n",
       "    <tr>\n",
       "      <th>4</th>\n",
       "      <td>98.0</td>\n",
       "      <td>F</td>\n",
       "      <td>73.0</td>\n",
       "    </tr>\n",
       "  </tbody>\n",
       "</table>\n",
       "</div>"
      ],
      "text/plain": [
       "   temperature gender  heart_rate\n",
       "0         99.3      F        68.0\n",
       "1         98.4      F        81.0\n",
       "2         97.8      M        73.0\n",
       "3         99.2      F        66.0\n",
       "4         98.0      F        73.0"
      ]
     },
     "execution_count": 3,
     "metadata": {},
     "output_type": "execute_result"
    }
   ],
   "source": [
    "df.head()"
   ]
  },
  {
   "cell_type": "code",
   "execution_count": 4,
   "metadata": {
    "scrolled": false
   },
   "outputs": [
    {
     "data": {
      "text/html": [
       "<div>\n",
       "<style scoped>\n",
       "    .dataframe tbody tr th:only-of-type {\n",
       "        vertical-align: middle;\n",
       "    }\n",
       "\n",
       "    .dataframe tbody tr th {\n",
       "        vertical-align: top;\n",
       "    }\n",
       "\n",
       "    .dataframe thead th {\n",
       "        text-align: right;\n",
       "    }\n",
       "</style>\n",
       "<table border=\"1\" class=\"dataframe\">\n",
       "  <thead>\n",
       "    <tr style=\"text-align: right;\">\n",
       "      <th></th>\n",
       "      <th>temperature</th>\n",
       "      <th>heart_rate</th>\n",
       "    </tr>\n",
       "  </thead>\n",
       "  <tbody>\n",
       "    <tr>\n",
       "      <th>count</th>\n",
       "      <td>130.000000</td>\n",
       "      <td>130.000000</td>\n",
       "    </tr>\n",
       "    <tr>\n",
       "      <th>mean</th>\n",
       "      <td>98.249231</td>\n",
       "      <td>73.761538</td>\n",
       "    </tr>\n",
       "    <tr>\n",
       "      <th>std</th>\n",
       "      <td>0.733183</td>\n",
       "      <td>7.062077</td>\n",
       "    </tr>\n",
       "    <tr>\n",
       "      <th>min</th>\n",
       "      <td>96.300000</td>\n",
       "      <td>57.000000</td>\n",
       "    </tr>\n",
       "    <tr>\n",
       "      <th>25%</th>\n",
       "      <td>97.800000</td>\n",
       "      <td>69.000000</td>\n",
       "    </tr>\n",
       "    <tr>\n",
       "      <th>50%</th>\n",
       "      <td>98.300000</td>\n",
       "      <td>74.000000</td>\n",
       "    </tr>\n",
       "    <tr>\n",
       "      <th>75%</th>\n",
       "      <td>98.700000</td>\n",
       "      <td>79.000000</td>\n",
       "    </tr>\n",
       "    <tr>\n",
       "      <th>max</th>\n",
       "      <td>100.800000</td>\n",
       "      <td>89.000000</td>\n",
       "    </tr>\n",
       "  </tbody>\n",
       "</table>\n",
       "</div>"
      ],
      "text/plain": [
       "       temperature  heart_rate\n",
       "count   130.000000  130.000000\n",
       "mean     98.249231   73.761538\n",
       "std       0.733183    7.062077\n",
       "min      96.300000   57.000000\n",
       "25%      97.800000   69.000000\n",
       "50%      98.300000   74.000000\n",
       "75%      98.700000   79.000000\n",
       "max     100.800000   89.000000"
      ]
     },
     "execution_count": 4,
     "metadata": {},
     "output_type": "execute_result"
    }
   ],
   "source": [
    "df.describe()"
   ]
  },
  {
   "cell_type": "code",
   "execution_count": 5,
   "metadata": {},
   "outputs": [
    {
     "data": {
      "image/png": "[encoded data removed]",
      "text/plain": [
       "<Figure size 432x288 with 1 Axes>"
      ]
     },
     "metadata": {
      "needs_background": "light"
     },
     "output_type": "display_data"
    }
   ],
   "source": [
    "# Calculate the appropriate bin size (square root of # of samples)\n",
    "bin_size = int(np.sqrt(len(df.temperature)))\n",
    "\n",
    "# Plot the body temperatures\n",
    "plt.hist(df.temperature, bins=bin_size)\n",
    "plt.xlabel('Temperature');\n",
    "plt.ylabel('Degrees F');\n",
    "plt.title('Distribution of body temperatures')\n",
    "plt.show()"
   ]
  },
  {
   "cell_type": "code",
   "execution_count": 6,
   "metadata": {},
   "outputs": [
    {
     "data": {
      "image/png": "[encoded data removed]",
      "text/plain": [
       "<Figure size 432x288 with 1 Axes>"
      ]
     },
     "metadata": {
      "needs_background": "light"
     },
     "output_type": "display_data"
    }
   ],
   "source": [
    "# Plot swarmplot of temperatures for F and M genders\n",
    "sns.swarmplot(x='gender', y='temperature', data=df);\n",
    "plt.xlabel('Gender');\n",
    "plt.ylabel('Temperature (F)');\n",
    "plt.title('Body temperatures of females and males');\n",
    "plt.show()"
   ]
  },
  {
   "cell_type": "code",
   "execution_count": 7,
   "metadata": {},
   "outputs": [
    {
     "data": {
      "image/png": "[encoded data removed]",
      "text/plain": [
       "<Figure size 432x288 with 1 Axes>"
      ]
     },
     "metadata": {
      "needs_background": "light"
     },
     "output_type": "display_data"
    }
   ],
   "source": [
    "# Plot distribution of heart rates\n",
    "plt.hist(df.heart_rate, bins=int(np.sqrt(len(df.heart_rate))));\n",
    "plt.xlabel('Heart rate');\n",
    "plt.ylabel('Units of measurement');\n",
    "plt.title('Distribution of heart rates')\n",
    "plt.show()"
   ]
  },
  {
   "cell_type": "code",
   "execution_count": 8,
   "metadata": {
    "scrolled": true
   },
   "outputs": [
    {
     "data": {
      "image/png": "[encoded data removed]",
      "text/plain": [
       "<Figure size 432x288 with 1 Axes>"
      ]
     },
     "metadata": {
      "needs_background": "light"
     },
     "output_type": "display_data"
    }
   ],
   "source": [
    "# Plot swarmplot of heart rates for F and M genders\n",
    "sns.swarmplot(x='gender', y='heart_rate', data=df);\n",
    "plt.xlabel('Gender');\n",
    "plt.ylabel('Heart Rate');\n",
    "plt.title('Heart rates of females and males');\n",
    "plt.show()"
   ]
  },
  {
   "cell_type": "markdown",
   "metadata": {},
   "source": [
    "# 1) Is the distribution of body temperatures normal?"
   ]
  },
  {
   "cell_type": "code",
   "execution_count": 9,
   "metadata": {},
   "outputs": [],
   "source": [
    "# The following function takes a 1D array of data \n",
    "# as input and returns the x and y values of the ECDF.\n",
    "\n",
    "def ecdf(data):\n",
    "    \"\"\" Compute Empirical Cumulative Distribution\n",
    "    for a one-dimensional array of measurements.\n",
    "    \"\"\"\n",
    "    # Number of data points\n",
    "    n = len(data)\n",
    "    \n",
    "    # x-data for the ECDF\n",
    "    x = np.sort(data)\n",
    "    \n",
    "    # y-data for the ECDF\n",
    "    y = np.arange(1, n+1) / n\n",
    "    \n",
    "    return x, y"
   ]
  },
  {
   "cell_type": "code",
   "execution_count": 10,
   "metadata": {
    "scrolled": false
   },
   "outputs": [
    {
     "data": {
      "image/png": "[encoded data removed]",
      "text/plain": [
       "<Figure size 1080x360 with 2 Axes>"
      ]
     },
     "metadata": {
      "needs_background": "light"
     },
     "output_type": "display_data"
    }
   ],
   "source": [
    "# Plot the CDFs\n",
    "plt.figure(1, figsize=(15, 5))\n",
    "plt.subplot(1, 2, 1)\n",
    "\n",
    "# Compute mean and standard deviation\n",
    "s_mean = np.mean(df.temperature)\n",
    "s_sigma = np.std(df.temperature)\n",
    "\n",
    "# Take 10k samples out of a normal distribution\n",
    "samples_ndist = np.random.normal(s_mean, s_sigma, 10000)\n",
    "\n",
    "# Get the CDF of the samples and of the data\n",
    "x_sample, y_sample = ecdf(samples_ndist)\n",
    "x_temp, y_temp = ecdf(df.temperature)\n",
    "\n",
    "# Plot the normal CDF and the ECDF\n",
    "plt.plot(x_sample, y_sample);\n",
    "plt.plot(x_temp, y_temp, marker= '.', linestyle='none');\n",
    "\n",
    "# Axis labels\n",
    "plt.title('Normal CDF and Empirical CDF');\n",
    "plt.xlabel('Body Temperatures (F.)');\n",
    "plt.ylabel('CDF');\n",
    "\n",
    "# Legend\n",
    "plt.legend(('Normal CDF', 'ECDF'), loc='upper left');\n",
    "\n",
    "# Margin padding\n",
    "plt.margins(0.2);\n",
    "\n",
    "# Disable gridlines\n",
    "plt.grid(b=None)\n",
    "\n",
    "# Plot the PDFs\n",
    "plt.subplot(1, 2, 2)\n",
    "\n",
    "# Calculate the appropriate bin size (square root of # of samples)\n",
    "bin_size = int(np.sqrt(len(df.temperature)))\n",
    "\n",
    "# Plot the normal and empirical PDFs\n",
    "plt.hist(samples_ndist, bins=bin_size, density=True, histtype='stepfilled', alpha=0.5);\n",
    "plt.hist(df.temperature, bins=bin_size, density=True, histtype='step');\n",
    "plt.axvline(samples_ndist.mean(), color='k', linestyle='dashed', linewidth=1);\n",
    "\n",
    "# Axis labels\n",
    "plt.title('Normal PDF and Empirical PDF')\n",
    "plt.xlabel('Body Temperatures (F.)');\n",
    "plt.ylabel('PDF');\n",
    "\n",
    "# Legend\n",
    "plt.legend(('Normal Dist. Mean', 'Normal PDF', 'EPDF'), loc='upper left');\n",
    "\n",
    "# Margin padding\n",
    "plt.margins(0.2);\n",
    "\n",
    "# Disable gridlines\n",
    "plt.grid(b=None)\n",
    "\n",
    "# Display plot\n",
    "plt.show()"
   ]
  },
  {
   "cell_type": "markdown",
   "metadata": {},
   "source": [
    "**Null hypothesis:** the distribution of the samples is equal to a normal distribution.\n",
    "<br>**Alternative hypothesis:** the distribution of the sample is NOT equal to a normal distribution.\n",
    "<br>**Significance level:** 5% (0.05)"
   ]
  },
  {
   "cell_type": "code",
   "execution_count": 11,
   "metadata": {},
   "outputs": [
    {
     "name": "stdout",
     "output_type": "stream",
     "text": [
      "Shapiro p-value: 0.2332\n",
      "Normal test p-value: 0.2587\n"
     ]
    }
   ],
   "source": [
    "# Perform normality tests using scipy.stats \n",
    "\n",
    "# Shapiro test\n",
    "_, sh_pval = stats.shapiro(df.temperature)\n",
    "print('Shapiro p-value: {0:.4f}'.format(sh_pval))\n",
    "\n",
    "# Normal test\n",
    "_, n_pval = stats.normaltest(df.temperature)\n",
    "print('Normal test p-value: {0:.4f}'.format(n_pval))"
   ]
  },
  {
   "cell_type": "markdown",
   "metadata": {},
   "source": [
    "**The distribution of body temperatures is normal.**\n",
    "\n",
    "We start off by drawing 10,000 random samples using the sample mean and sample standard deviation to compute a theoretical CDF. We then compare that CDF to the actual data (ECDF) we have in our environment. We can compare the theoretical and empirical CDFs, without any binning bias, to visualize their normality given how closely they overlap each other.\n",
    "<br><br>A quick glance at the overlapping histograms in the figure above, to the right, allows us to visualize the normal distributions of the probability density functions (PDF). The empirical distribution of the body temperature data looks bell-shaped and resembles a normal distribution with its data symmetric about the mean. \n",
    "<br><br>If the distribution of body temperatures for all humans is normally distributed, then the sampling distribution is also normally distributed. In practice, however, we usually don't know if the parent population is normally distributed; therefore, according to the central limit theorem, given that our sample size (n = 130) is reasonably large and greater than (or equal to) 30 samples, we can assume that the sampling distribution is roughly normal. \n",
    "<br><br>After performing normality tests with the scipy.stats library, we fail to reject the null hypothesis since the p-values are greater than the preset 5% significance level."
   ]
  },
  {
   "cell_type": "markdown",
   "metadata": {},
   "source": [
    "# 2) Is the sample size large? Are the observations independent?"
   ]
  },
  {
   "cell_type": "code",
   "execution_count": 12,
   "metadata": {},
   "outputs": [
    {
     "data": {
      "text/plain": [
       "130"
      ]
     },
     "execution_count": 12,
     "metadata": {},
     "output_type": "execute_result"
    }
   ],
   "source": [
    "# The number of samples in our data set\n",
    "len(df)"
   ]
  },
  {
   "cell_type": "markdown",
   "metadata": {},
   "source": [
    "Yes, the sample size (n=130) can be considered large enough for statistical inference because it is greater than the 30 sample theshold (n >= 30). Yes, the samples can be considered as independent observations without replacement because the sample size well below 10% of the population being considered (all humans)."
   ]
  },
  {
   "cell_type": "markdown",
   "metadata": {},
   "source": [
    "# 3) Is the true population mean really 98.6 degrees F?"
   ]
  },
  {
   "cell_type": "markdown",
   "metadata": {},
   "source": [
    "* First, try a bootstrap hypothesis test.\n",
    "* Now let's try frequentist statistical testing. Would you use a one-sample or two-sample test? Why?\n",
    "* In this situation, is it appropriate to use a t or z-statistic?\n",
    "* Now try using the other test. How would the result be different? Why?"
   ]
  },
  {
   "cell_type": "markdown",
   "metadata": {},
   "source": [
    "Before making any further statistical inferences, let's verify that we met all 3 conditions for inference on the sample mean; otherwise, the calculations and conclusions that follow may be incorrect. We already established that our samples are normal and independent. For our final condition, we assume the data came from random samples - random samples give us unbiased data from a population and allow us to make more credible inferences."
   ]
  },
  {
   "cell_type": "markdown",
   "metadata": {},
   "source": [
    "After meeting all conditions for inference, we start the analysis by declaring the following hypothesis testing parameters:\n",
    "<br><br>**Null hypothesis:** The population mean human body temperature is equal to 98.6 degrees F ($\\mu$ = 98.6)\n",
    "<br>**Alternative hypothesis:** The population mean human body temperature is *NOT* equal to 98.6 degrees F ($\\mu$ $\\neq$ 98.6)\n",
    "<br>**Test statistic:** population mean ($\\mu$)\n",
    "<br>**Confidence level:** 95%\n",
    "<br>**Significance level:** 5%"
   ]
  },
  {
   "cell_type": "markdown",
   "metadata": {},
   "source": [
    "**First, let's try a bootstrap hypothesis test.**"
   ]
  },
  {
   "cell_type": "code",
   "execution_count": 13,
   "metadata": {},
   "outputs": [],
   "source": [
    "def draw_bs_reps(data, func, size=1):\n",
    "    '''Generates bootstrap replicate(s) of a 1-dimensional numerical array.'''\n",
    "    \n",
    "    bs_replicates = np.empty(size)\n",
    "    np.random.seed(100)\n",
    "    \n",
    "    for i in range(size):\n",
    "        bs_sample = np.random.choice(data, size=len(data))\n",
    "        bs_replicates[i] = func(bs_sample)\n",
    "    \n",
    "    return bs_replicates"
   ]
  },
  {
   "cell_type": "code",
   "execution_count": 14,
   "metadata": {
    "scrolled": false
   },
   "outputs": [
    {
     "name": "stdout",
     "output_type": "stream",
     "text": [
      "Bootstrap replicate statistics for μ=98.6°F:\n",
      "\t95% confidence interval: (98.47, 98.73)\n",
      "\tMargin of error: ±0.1262°F\n",
      "\tP-value: 0.0000%\n"
     ]
    }
   ],
   "source": [
    "population_mean = 98.6\n",
    "deg_f_sym = u'\\xb0'+'F'\n",
    "mu_symbol = '\\u03BC'\n",
    "plus_minus_symbol = '\\u00B1'\n",
    "\n",
    "# Shift our data to match sample mean to population mean,\n",
    "# while leaving our samples' distribution and variance unchanged.\n",
    "# We are matching xbar to mu b/c we are conducting the hypothesis\n",
    "# test under the assumption that the null hypothesis is true.\n",
    "\n",
    "# Generate shifted array\n",
    "temps_shifted = df.temperature - np.mean(df.temperature) + population_mean\n",
    "\n",
    "# Compute 10,000 bootstrap replicates from shifted array\n",
    "bs_replicates = draw_bs_reps(temps_shifted, np.mean, 10000)\n",
    "\n",
    "# Compute observed test statistic\n",
    "obs_tstat = np.mean(df.temperature)\n",
    "\n",
    "# Compute the p-value (using <= because x-bar < mu)\n",
    "# Multiplying by 2 b/c it's a two-tailed p-value\n",
    "bs_pvalue = (np.sum(bs_replicates <= obs_tstat) / len(bs_replicates)) * 2\n",
    "\n",
    "# Compute confidence interval of bootstrap replicates\n",
    "bs_conf_int = np.percentile(bs_replicates, [2.5, 97.5])\n",
    "\n",
    "# Compute margin of error of bootstrap replicates\n",
    "bs_moe = (bs_conf_int[1] - bs_conf_int[0]) / 2\n",
    "\n",
    "print('Bootstrap replicate statistics for {0}=98.6{1}:'.format(mu_symbol, deg_f_sym))\n",
    "print('\\t95% confidence interval: ({0:.2f}, {1:.2f})'.format(bs_conf_int[0], bs_conf_int[1],))\n",
    "print('\\tMargin of error: {0}{1:.4f}{2}'.format(plus_minus_symbol, bs_moe, deg_f_sym))\n",
    "print('\\tP-value: {0:.4%}'.format(bs_pvalue))"
   ]
  },
  {
   "cell_type": "markdown",
   "metadata": {},
   "source": [
    "The **bootstrap hypothesis test** above suggests that we reject the null hypothesis and support the alternative hypothesis that the mean human body temperature is *NOT* 98.6 degrees F, when considering the provided sample data. If we repeatedly recorded body temperature measurements, our interval will contain the true population mean roughly 95% of the time. "
   ]
  },
  {
   "cell_type": "markdown",
   "metadata": {},
   "source": [
    "A **one-sample** test is appropriate for **bootstrap** and **frequentist hypothesis testing** since we are comparing a sample set of body temperature measurements to the historical/population mean human body temperature of 98.6 degrees F."
   ]
  },
  {
   "cell_type": "markdown",
   "metadata": {},
   "source": [
    "It is appropriate to use a t-statistic because the **population standard deviation is unknown**. We substitute the sample standard deviation (Sx) as an estimate for the population standard deviation (mu) and use a t-statistic to not underestimate the confidence interval or p-value."
   ]
  },
  {
   "cell_type": "markdown",
   "metadata": {},
   "source": [
    "**Now, let's try frequentist statistical testing** using a t-statistic."
   ]
  },
  {
   "cell_type": "code",
   "execution_count": 15,
   "metadata": {
    "scrolled": true
   },
   "outputs": [
    {
     "name": "stdout",
     "output_type": "stream",
     "text": [
      "Frequentist statistics for μ=98.6°F using a t-statistic:\n",
      "\tConfidence interval: (98.12, 98.38)\n",
      "\tMargin of error: ±0.1267°F\n",
      "\tCritical value: 1.9785\n",
      "\tt-statistic: -5.4759\n",
      "\tP-value: 0.0000%\n"
     ]
    }
   ],
   "source": [
    "# Frequentist statistical analysis using a t-statistic\n",
    "xbar = np.mean(df.temperature)\n",
    "sx = np.std(df.temperature)\n",
    "n = len(df.temperature)\n",
    "mu = 98.6\n",
    "alpha = 0.05\n",
    "\n",
    "# Calculate t-stat and p-value\n",
    "emp_tstat, emp_pval = stats.ttest_1samp(df.temperature, popmean=98.6)\n",
    "\n",
    "### Manually calculate confidence interval and p-value ###\n",
    "\n",
    "# Calculate critical t-value\n",
    "t_star = stats.t.ppf(1 - alpha/2, df=n - 1)\n",
    "\n",
    "# Calculate standard error of the mean\n",
    "sem = sx / np.sqrt(n)\n",
    "# sem_scipy = stats.sem(df.temperature)\n",
    "\n",
    "# Calculate margin of error \n",
    "moe = abs(t_star * sem)\n",
    "\n",
    "# Confidence interval\n",
    "ci_lower = xbar - moe\n",
    "ci_upper = xbar + moe\n",
    "\n",
    "# t-statistic calculation\n",
    "t = (xbar - mu) / sem\n",
    "\n",
    "# P-value\n",
    "p = stats.t.sf(abs(t), n - 1) * 2    # two-sided p-value\n",
    "\n",
    "print('Frequentist statistics for {0}=98.6{1} using a t-statistic:'.format(mu_symbol, deg_f_sym))\n",
    "print('\\tConfidence interval: ({0:.2f}, {1:.2f})'.format(ci_lower, ci_upper))\n",
    "print('\\tMargin of error: {0}{1:.4f}{2}'.format(plus_minus_symbol, moe, deg_f_sym))\n",
    "print('\\tCritical value: {0:.4f}'.format(t_star))\n",
    "print('\\tt-statistic: {0:.4f}'.format(t))\n",
    "print('\\tP-value: {0:.4%}'.format(p))"
   ]
  },
  {
   "cell_type": "markdown",
   "metadata": {},
   "source": [
    "The **frequentist statistical hypothesis test** above also suggests we reject the null hypothesis and support the alternative hypothesis that the mean human body temperature is NOT 98.6 degrees F, when considering the provided sample data. Furthermore, since the absolute value of the t-statistic (5.4548) exceeds the critical value (-1.9785), we reject the null hypothesis with 95% confidence and suggest the alternative - that the population mean human body temperature is NOT equal to 98.6 degrees F. If we repeatedly recorded body temperature measurements, our confidence interval will contain the true population mean roughly 95% of the time. "
   ]
  },
  {
   "cell_type": "markdown",
   "metadata": {},
   "source": [
    "**Now, let's try frequentist statistical testing** using a z-statistic."
   ]
  },
  {
   "cell_type": "code",
   "execution_count": 16,
   "metadata": {},
   "outputs": [
    {
     "name": "stdout",
     "output_type": "stream",
     "text": [
      "Frequentist statistics for μ=98.6°F using a z-statistic:\n",
      "\tConfidence interval: (98.12, 98.37)\n",
      "\tMargin of error: ±0.1255°F\n",
      "\tz-statistic: -5.4759\n",
      "\tP-value: 0.0000%\n"
     ]
    }
   ],
   "source": [
    "# Frequentist statistical analysis using a z-statistic\n",
    "\n",
    "from statsmodels.stats.weightstats import ztest\n",
    "z_stat, z_pval = ztest(df.temperature, value=98.6)\n",
    "\n",
    "### Manually calculate confidence interval and p-value ###\n",
    "\n",
    "# Calculate critical z-value\n",
    "z_star = stats.norm.ppf(1 - alpha/2)\n",
    "\n",
    "# Calculate standard error of the mean\n",
    "sem = sx / np.sqrt(n)\n",
    "# sem_scipy = stats.sem(df.temperature)\n",
    "\n",
    "# Calculate margin of error \n",
    "z_moe = abs(z_star * sem)\n",
    "\n",
    "# Confidence interval\n",
    "z_ci_lower = xbar - z_moe\n",
    "z_ci_upper = xbar + z_moe\n",
    "\n",
    "# z-statistic calculation\n",
    "z = (xbar - mu) / sem\n",
    "\n",
    "# P-value\n",
    "z_p = stats.norm.sf(abs(z)) * 2    # two-sided p-value\n",
    "\n",
    "print('Frequentist statistics for {0}=98.6{1} using a z-statistic:'.format(mu_symbol, deg_f_sym))\n",
    "print('\\tConfidence interval: ({0:.2f}, {1:.2f})'.format(z_ci_lower, z_ci_upper))\n",
    "print('\\tMargin of error: {0}{1:.4f}{2}'.format(plus_minus_symbol, z_moe, deg_f_sym))\n",
    "print('\\tz-statistic: {0:.4f}'.format(z))\n",
    "print('\\tP-value: {0:.4%}'.format(z_p))"
   ]
  },
  {
   "cell_type": "markdown",
   "metadata": {},
   "source": [
    "The **hypothesis testing using a z-statistic** above also suggests we reject the null hypothesis and support the alternative hypothesis that the mean human body temperature is NOT 98.6 degrees F, when considering the provided sample data."
   ]
  },
  {
   "cell_type": "markdown",
   "metadata": {},
   "source": [
    "If we aproximate the z-statistic equal to the t-statistic and then evaluate the probability, then the probability *decreases* as the z-probability distribution (the standard normal probability distribution) has a tighter probability distribution around the mean than the t-probability distribution. "
   ]
  },
  {
   "cell_type": "markdown",
   "metadata": {},
   "source": [
    "\n",
    "# 4) Draw a small sample of size 10 from the data and repeat both frequentist tests."
   ]
  },
  {
   "cell_type": "markdown",
   "metadata": {},
   "source": [
    "* Which one is the correct one to use?\n",
    "* What do you notice? What does this tell you about the difference in application of the  𝑡  and  𝑧 statistic?"
   ]
  },
  {
   "cell_type": "code",
   "execution_count": 17,
   "metadata": {},
   "outputs": [
    {
     "name": "stdout",
     "output_type": "stream",
     "text": [
      "Frequentist statistics for μ=98.6°F using a t-statistic and small sample size (n=10):\n",
      "\tConfidence interval: (97.27, 98.49)\n",
      "\tMargin of error: ±0.6059°F\n",
      "\tCritical value: 2.2622\n",
      "\tt-statistic: -2.6883\n",
      "\tP-value: 2.4867%\n",
      "\n",
      "Frequentist statistics for μ=98.6°F using a z-statistic and small sample size (n=10):\n",
      "\tConfidence interval: (97.36, 98.40)\n",
      "\tMargin of error: ±0.6059°F\n",
      "\tCritical value: 1.9600\n",
      "\tz-statistic: -2.6883\n",
      "\tP-value: 0.7182%\n"
     ]
    }
   ],
   "source": [
    "# Frequentist statistical analysis using a t-statistic\n",
    "\n",
    "# Draw 10 samples from the data\n",
    "small_n = 10\n",
    "np.random.seed(15)\n",
    "n_samples = np.random.choice(df.temperature, size=small_n)\n",
    "alpha = 0.05\n",
    "\n",
    "# Calculate critical t-value\n",
    "n_t_star = stats.t.ppf(1 - alpha/2, df=small_n - 1)\n",
    "\n",
    "# SEM calculation\n",
    "n_sem = stats.sem(n_samples)\n",
    "\n",
    "# Calculate margin of error \n",
    "n_moe = abs(n_t_star * n_sem)\n",
    "\n",
    "# Sample mean\n",
    "n_xbar = np.mean(n_samples)\n",
    "\n",
    "# Confidence interval\n",
    "n_ci_lower = n_xbar - n_moe\n",
    "n_ci_upper = n_xbar + n_moe\n",
    "\n",
    "# t-statistic calculation\n",
    "n_tstatistic = (n_xbar - mu) / n_sem\n",
    "\n",
    "# P-value\n",
    "n_pvalue = stats.t.sf(abs(n_tstatistic), small_n - 1) * 2    # two-sided p-value\n",
    "\n",
    "print('Frequentist statistics for {0}=98.6{1} using a t-statistic and small sample size (n=10):'.format(mu_symbol, deg_f_sym))\n",
    "print('\\tConfidence interval: ({0:.2f}, {1:.2f})'.format(n_ci_lower, n_ci_upper))\n",
    "print('\\tMargin of error: {0}{1:.4f}{2}'.format(plus_minus_symbol, n_moe, deg_f_sym))\n",
    "print('\\tCritical value: {0:.4f}'.format(n_t_star))\n",
    "print('\\tt-statistic: {0:.4f}'.format(n_tstatistic))\n",
    "print('\\tP-value: {0:.4%}'.format(n_pvalue))\n",
    "\n",
    "# Frequentist statistical analysis using a z-statistic\n",
    "\n",
    "# Calculate critical z-value\n",
    "nz_star = stats.norm.ppf(1 - alpha / 2)\n",
    "\n",
    "# Calculate margin of error \n",
    "nz_moe = abs(nz_star * n_sem)\n",
    "\n",
    "# Confidence interval\n",
    "nz_ci_lower = n_xbar - nz_moe\n",
    "nz_ci_upper = n_xbar + nz_moe\n",
    "\n",
    "# z-statistic calculation\n",
    "n_zstatistic = (n_xbar - mu) / n_sem\n",
    "\n",
    "# P-value\n",
    "nz_pvalue = stats.norm.sf(abs(n_zstatistic)) * 2    # two-sided p-value\n",
    "\n",
    "print('\\nFrequentist statistics for {0}=98.6{1} using a z-statistic and small sample size (n=10):'.format(mu_symbol, deg_f_sym))\n",
    "print('\\tConfidence interval: ({0:.2f}, {1:.2f})'.format(nz_ci_lower, nz_ci_upper))\n",
    "print('\\tMargin of error: {0}{1:.4f}{2}'.format(plus_minus_symbol, n_moe, deg_f_sym))\n",
    "print('\\tCritical value: {0:.4f}'.format(nz_star))\n",
    "print('\\tz-statistic: {0:.4f}'.format(n_zstatistic))\n",
    "print('\\tP-value: {0:.4%}'.format(nz_pvalue))"
   ]
  },
  {
   "cell_type": "markdown",
   "metadata": {},
   "source": [
    "The correct statistic to use is the t-statistic because the population standard deviation is unknown and the sample set (n=10) is less than 30 samples. The z-test works best for sample sets greater than or equal to 30, with a defined population standard deviation. T-tests, on the other hand, are more useful when working with smaller sample sizes (n < 30) where we can work with degrees of freedom to avoid underestimating the confidence interval and p-value. It is worth noting that both distributions are nearly identical for samples more than 30 but different for samples sets less than 30. The z-distribution has a tighter probability distribution around the mean and is more concentrated around its peak; therefore, especially when n < 30, the z-statistic tends to yield a smaller probability (p-value) which could lead us to falsely reject the null hypothesis."
   ]
  },
  {
   "cell_type": "markdown",
   "metadata": {},
   "source": [
    "# 5) At what temperature should we consider someone's temperature to be \"abnormal\"?"
   ]
  },
  {
   "cell_type": "markdown",
   "metadata": {},
   "source": [
    "* As in the previous example, try calculating everything using the bootstrap approach, as well as the frequentist approach.\n",
    "* Start by computing the margin of error and confidence interval. When calculating the confidence interval, keep in mind that you should use the appropriate formula for one draw, and not N draws."
   ]
  },
  {
   "cell_type": "code",
   "execution_count": 18,
   "metadata": {},
   "outputs": [
    {
     "name": "stdout",
     "output_type": "stream",
     "text": [
      "Bootstrap confidence interval: (98.47, 98.73)\n",
      "T-statistic confidence interval: (98.12, 98.38)\n",
      "Z-statistic confidence interval: (98.12, 98.37)\n"
     ]
    }
   ],
   "source": [
    "# Bootstrap confidence interval\n",
    "bs_conf_int = np.percentile(bs_replicates, [2.5, 97.5])\n",
    "print('Bootstrap confidence interval: ({0:.2f}, {1:.2f})'.format(bs_conf_int[0], bs_conf_int[1]))\n",
    "\n",
    "# T-statistic confidence interval\n",
    "t_confidence = np.array([ci_lower, ci_upper])\n",
    "print('T-statistic confidence interval: ({0:.2f}, {1:.2f})'.format(t_confidence[0], t_confidence[1]))\n",
    "\n",
    "# Z-statistic confidence interval\n",
    "z_confidence = np.array([z_ci_lower, z_ci_upper])\n",
    "print('Z-statistic confidence interval: ({0:.2f}, {1:.2f})'.format(z_confidence[0], z_confidence[1]))"
   ]
  },
  {
   "cell_type": "markdown",
   "metadata": {},
   "source": [
    "According to the resulting 95% confidence intervals obtained from the provided sample data, an \"abnormal\" human body temperature could be any temperature **below 98.12** and **above 98.73** degrees F."
   ]
  },
  {
   "cell_type": "markdown",
   "metadata": {},
   "source": [
    "# 6) Is there a significant difference between males and females in normal temperature?"
   ]
  },
  {
   "cell_type": "markdown",
   "metadata": {},
   "source": [
    "* What testing approach did you use and why?\n",
    "* Write a story with your conclusion in the context of the original problem."
   ]
  },
  {
   "cell_type": "markdown",
   "metadata": {},
   "source": [
    "**Null hypothesis:** There is NO difference between male and female normal body temperature. ($\\mu_{1}$-$\\mu_{2}$ = 0)\n",
    "<br>**Alternative hypothesis:** There is a difference between male and female normal body temperature. ($\\mu_{1}$-$\\mu_{2}$ $\\neq$ 0)\n",
    "<br>**Confidence level:** 95%\n",
    "<br>**Significance level:** 5%"
   ]
  },
  {
   "cell_type": "code",
   "execution_count": 19,
   "metadata": {},
   "outputs": [
    {
     "data": {
      "image/png": "[encoded data removed]",
      "text/plain": [
       "<Figure size 432x288 with 1 Axes>"
      ]
     },
     "metadata": {
      "needs_background": "light"
     },
     "output_type": "display_data"
    }
   ],
   "source": [
    "# Plot ECDFs \n",
    "\n",
    "# Store temperatures by gender\n",
    "female_temps = df.temperature[df.gender == \"F\"]\n",
    "male_temps = df.temperature[df.gender == \"M\"]\n",
    "\n",
    "x_female, y_female = ecdf(female_temps)\n",
    "x_male, y_male = ecdf(male_temps)\n",
    "\n",
    "plt.plot(x_female, y_female, marker='.', linestyle='none');\n",
    "plt.axvline(female_temps.mean(), linestyle='dashed', linewidth=1.2);\n",
    "plt.plot(x_male, y_male, marker='.', linestyle='none');\n",
    "plt.axvline(male_temps.mean(), color='orange', linestyle='dashed', linewidth=1.2);\n",
    "\n",
    "plt.title('ECDF of Female and Male Temperatures');\n",
    "plt.xlabel('Body Temperature (F)');\n",
    "plt.ylabel('ECDF');\n",
    "plt.legend(['Female ECDF', 'Female Mean Temp', 'Male ECDF', 'Male Mean Temp'], loc='lower right');\n",
    "plt.margins(0.1);\n",
    "plt.show()"
   ]
  },
  {
   "cell_type": "code",
   "execution_count": 20,
   "metadata": {},
   "outputs": [
    {
     "data": {
      "image/png": "[encoded data removed]",
      "text/plain": [
       "<Figure size 432x288 with 1 Axes>"
      ]
     },
     "metadata": {
      "needs_background": "light"
     },
     "output_type": "display_data"
    }
   ],
   "source": [
    "# Plot swarmplot of heart rates for F and M genders\n",
    "sns.swarmplot(x='gender', y='heart_rate', data=df);\n",
    "plt.xlabel('Gender');\n",
    "plt.ylabel('Heart Rate');\n",
    "plt.title('Heart rates of females and males');\n",
    "plt.show()"
   ]
  },
  {
   "cell_type": "code",
   "execution_count": 21,
   "metadata": {
    "scrolled": true
   },
   "outputs": [
    {
     "name": "stdout",
     "output_type": "stream",
     "text": [
      "Two-sample bootstrap replicate statistics for μ1 - μ2:\n",
      "\t95% confidence interval: (-0.25, 0.25)\n",
      "\tMargin of error: ±0.2531°F\n",
      "\tP-value: 2.5800%\n",
      "\n",
      "Frequentist statistics for μ1-μ2 using a z-statistic:\n",
      "\tConfidence interval: (0.04, 0.54)\n",
      "\tMargin of error: ±0.2461°F\n",
      "\tz-statistic: 2.2854\n",
      "\tP-value: 2.2287%\n"
     ]
    }
   ],
   "source": [
    "### Two-sample bootstrap hypothesis test for difference of means ###\n",
    "def diff_of_means(data_1, data_2):\n",
    "    \"\"\"Difference in means of two arrays.\"\"\"\n",
    "    # Difference of means of data_1 and data_2\n",
    "    diff = np.mean(data_1) - np.mean(data_2)\n",
    "    return diff\n",
    "\n",
    "# Compute the empirical difference of means (our test statistic)\n",
    "empirical_diff_means = diff_of_means(female_temps, male_temps)\n",
    "\n",
    "# Compute mean of all temperatures\n",
    "mean_temp = np.mean(df.temperature)\n",
    "\n",
    "# Generate shifted arrays to have the same means\n",
    "# (since we are simulating the hypothesis that their means are equal)\n",
    "f_temp_shifted = female_temps - np.mean(female_temps) + mean_temp\n",
    "m_temp_shifted = male_temps - np.mean(male_temps) + mean_temp\n",
    "\n",
    "# Compute 10,000 bootstrap replicates from shifted arrays\n",
    "bs_reps_f = draw_bs_reps(f_temp_shifted, np.mean, size=10000)\n",
    "bs_reps_m = draw_bs_reps(m_temp_shifted, np.mean, size=10000)\n",
    "\n",
    "# # Generate bootstrap replicates from UNSHIFTED arrays\n",
    "# bs_reps_f = draw_bs_reps(female_temps, np.mean, size=10000)\n",
    "# bs_reps_m = draw_bs_reps(male_temps, np.mean, size=10000)\n",
    "\n",
    "# Get replicates of difference of means\n",
    "bs_temp_replicates = bs_reps_f - bs_reps_m\n",
    "\n",
    "# Compute p-value\n",
    "bs_temp_pval = np.sum(bs_temp_replicates >= empirical_diff_means) / len(bs_temp_replicates) * 2\n",
    "\n",
    "# Compute confidence interval of bootstrap replicates\n",
    "bs_gender_ci = np.percentile(bs_temp_replicates, [2.5, 97.5])\n",
    "\n",
    "# Compute margin of error of bootstrap replicates\n",
    "bs_gender_moe = (bs_gender_ci[1] - bs_gender_ci[0]) / 2\n",
    "\n",
    "print('Two-sample bootstrap replicate statistics for {0}1 - {1}2:'.format(mu_symbol, mu_symbol))\n",
    "print('\\t95% confidence interval: ({0:.2f}, {1:.2f})'.format(bs_gender_ci[0], bs_gender_ci[1],))\n",
    "print('\\tMargin of error: {0}{1:.4f}{2}'.format(plus_minus_symbol, bs_gender_moe, deg_f_sym))\n",
    "print('\\tP-value: {0:.4%}'.format(bs_temp_pval))\n",
    "\n",
    "### Frequentist statistical analysis using a z-statistic ###\n",
    "z_stat_gender, z_pval_gender = ztest(female_temps, male_temps, value=0)\n",
    "\n",
    "### Manually calculate confidence interval and p-value ###\n",
    "# Calculate critical z-value\n",
    "alpha = 0.05\n",
    "z_star_gender = stats.norm.ppf(1 - alpha/2)\n",
    "\n",
    "# Calculate SEM\n",
    "stdv_gender = np.sqrt((np.var(male_temps) / len(male_temps) + np.var(female_temps) / len(female_temps)))\n",
    "\n",
    "# Calculate MOE\n",
    "z_moe_gender = abs(z_star_gender * stdv_gender)\n",
    "\n",
    "# Confidence interval\n",
    "mean_difference = abs(diff_of_means(female_temps, male_temps))\n",
    "z_ci_lower_gender = mean_difference - z_moe_gender\n",
    "z_ci_upper_gender = mean_difference + z_moe_gender\n",
    "\n",
    "# z-statistic calculation\n",
    "diff_test = 0\n",
    "z_stat_calculated = (mean_difference - diff_test) / stdv_gender\n",
    "\n",
    "# P-value\n",
    "z_pval_calculated = stats.norm.sf(abs(z_stat_calculated)) * 2    # two-sided p-value\n",
    "\n",
    "print('\\nFrequentist statistics for {0}1-{1}2 using a z-statistic:'.format(mu_symbol, mu_symbol))\n",
    "print('\\tConfidence interval: ({0:.2f}, {1:.2f})'.format(z_ci_lower_gender, z_ci_upper_gender))\n",
    "print('\\tMargin of error: {0}{1:.4f}{2}'.format(plus_minus_symbol, z_moe_gender, deg_f_sym))\n",
    "print('\\tz-statistic: {0:.4f}'.format(z_stat_gender))\n",
    "print('\\tP-value: {0:.4%}'.format(z_pval_gender))"
   ]
  },
  {
   "cell_type": "markdown",
   "metadata": {},
   "source": [
    "I used a **two-sample bootstrap replicate** hypothesis test and a **z-test** to test if there is a difference between male and female body temperature. According to both tests, there is a 95% chance that the true mean of the distribution is within 0.25 degrees F of the empirical difference of means of female and male body temperatures (0.29 degrees F).\n",
    "<br><br>The statistical inference tests above suggest we **reject the null hypothesis and support the alternative hypothesis**, that there is a difference between male and female normal body temperature."
   ]
  }
 ],
 "metadata": {
  "hide_input": false,
  "kernelspec": {
   "display_name": "Python 3",
   "language": "python",
   "name": "python3"
  },
  "language_info": {
   "codemirror_mode": {
    "name": "ipython",
    "version": 3
   },
   "file_extension": ".py",
   "mimetype": "text/x-python",
   "name": "python",
   "nbconvert_exporter": "python",
   "pygments_lexer": "ipython3",
   "version": "3.7.1"
  }
 },
 "nbformat": 4,
 "nbformat_minor": 1
}
